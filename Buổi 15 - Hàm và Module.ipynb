{
 "cells": [
  {
   "cell_type": "markdown",
   "id": "73456e5e",
   "metadata": {},
   "source": [
    "# Hàm\n",
    "\n",
    "### Hàm\n",
    "\n",
    "Cú pháp:\n",
    "\n",
    "`def <tên hàm>(<tham số)>:\n",
    "    //Nội dung hàm`\n",
    "\n",
    "Gọi hàm:\n",
    "`<tên hàm>(<giá trị đầu vào>)`\n",
    "\n",
    "Ví dụ:\n",
    "\n",
    "Hãy viết 1 hàm số để tính tổng 2 số đầu vào và in nó ra màn hình"
   ]
  },
  {
   "cell_type": "code",
   "execution_count": 3,
   "id": "af5b9f6d",
   "metadata": {},
   "outputs": [
    {
     "name": "stdout",
     "output_type": "stream",
     "text": [
      "16\n",
      "0\n",
      "1\n",
      "2\n",
      "3\n",
      "4\n",
      "-4\n"
     ]
    }
   ],
   "source": [
    "def total(a,b):\n",
    "    t = a + b\n",
    "    print(t)\n",
    "total(2,14)\n",
    "def hieu(a,b):\n",
    "    h = a - b\n",
    "    print(h)\n",
    "def demo():\n",
    "    for i in range(5):\n",
    "        print(i)\n",
    "\n",
    "demo()\n",
    "hieu(2,6)"
   ]
  },
  {
   "cell_type": "code",
   "execution_count": 12,
   "id": "e53c9cd6",
   "metadata": {},
   "outputs": [
    {
     "name": "stdout",
     "output_type": "stream",
     "text": [
      "10\n",
      "Đây là c trong hàm thay đổi 7\n",
      "5\n",
      "7\n"
     ]
    }
   ],
   "source": [
    "a = 5\n",
    "b = 6\n",
    "c = 7\n",
    "def thaydoi(a,b):\n",
    "    a = 10\n",
    "    print(a)\n",
    "    print(\"Đây là c trong hàm thay đổi\", c)\n",
    "    #c = 5: biến local c chưa dc khai bào trong def\n",
    "thaydoi(7,4)\n",
    "print(a)\n",
    "print(c)\n",
    "#ƯU TIÊN LOCAL VAR, NẾU KO TÌM THẦY LOCAL VAR THÌ NÓ SẼ XÉT ĐẾN GLOBAL VAR(DEF)"
   ]
  },
  {
   "cell_type": "code",
   "execution_count": 13,
   "id": "82872f58",
   "metadata": {},
   "outputs": [
    {
     "name": "stdout",
     "output_type": "stream",
     "text": [
      "x\n"
     ]
    }
   ],
   "source": [
    "chuoi = \"xin chao moi nguoi\"\n",
    "def inra(c):\n",
    "    print(c[0])\n",
    "inra(chuoi)"
   ]
  },
  {
   "cell_type": "markdown",
   "id": "a7c39f47",
   "metadata": {},
   "source": [
    "### Giá trị trả về của hàm\n",
    "\n",
    "# return\n",
    "\n",
    "Cú pháp:\n",
    "\n",
    "`retrun <giá trị trả về>`\n",
    "\n",
    "##### Lưu ý: Sau khi thực hiện lệnh return, chương trình sẽ thoát khỏi hàm ngay lập tức (những lệnh sau đó không được thực hiện)\n",
    "\n"
   ]
  },
  {
   "cell_type": "code",
   "execution_count": 14,
   "id": "69a11801",
   "metadata": {},
   "outputs": [
    {
     "name": "stdout",
     "output_type": "stream",
     "text": [
      "ABC\n",
      "5\n"
     ]
    }
   ],
   "source": [
    "print(\"ABC\") # hàm ko có giá trị trả về\n",
    "b = -5\n",
    "a = abs(b)# hàm có giá trị trả về\n",
    "print(a)"
   ]
  },
  {
   "cell_type": "code",
   "execution_count": 16,
   "id": "83aa9139",
   "metadata": {},
   "outputs": [
    {
     "name": "stdout",
     "output_type": "stream",
     "text": [
      "12\n"
     ]
    }
   ],
   "source": [
    "def tong(a,b):\n",
    "    t = a+b\n",
    "    return t\n",
    "\n",
    "print(tong(5,7))"
   ]
  },
  {
   "cell_type": "code",
   "execution_count": 17,
   "id": "e7b3999d",
   "metadata": {},
   "outputs": [
    {
     "name": "stdout",
     "output_type": "stream",
     "text": [
      "7\n"
     ]
    }
   ],
   "source": [
    "def hieu(a,b):\n",
    "    h = a-b\n",
    "    return h\n",
    "    print(\"hello\")\n",
    "c = hieu(12,5)\n",
    "print(c)\n"
   ]
  },
  {
   "cell_type": "code",
   "execution_count": 1,
   "id": "7410f576",
   "metadata": {},
   "outputs": [
    {
     "name": "stdout",
     "output_type": "stream",
     "text": [
      "1\n",
      "2\n",
      "3\n",
      "4\n",
      "5\n",
      "6\n",
      "7\n",
      "8\n",
      "9\n",
      "10\n",
      "11\n",
      "12\n",
      "13\n",
      "14\n",
      "15\n",
      "16\n",
      "17\n",
      "18\n",
      "19\n",
      "20\n",
      "21\n",
      "22\n",
      "23\n",
      "24\n",
      "25\n",
      "26\n",
      "27\n",
      "28\n",
      "29\n",
      "30\n",
      "31\n",
      "32\n",
      "33\n",
      "34\n",
      "35\n",
      "36\n",
      "37\n",
      "38\n",
      "39\n",
      "40\n",
      "41\n",
      "42\n",
      "43\n",
      "44\n",
      "45\n",
      "46\n",
      "47\n",
      "48\n",
      "49\n",
      "50\n",
      "51\n",
      "52\n",
      "53\n",
      "54\n",
      "55\n",
      "56\n",
      "57\n",
      "58\n",
      "59\n",
      "60\n",
      "61\n",
      "62\n",
      "63\n",
      "64\n",
      "65\n",
      "66\n",
      "67\n",
      "68\n",
      "69\n",
      "70\n",
      "71\n",
      "72\n",
      "73\n",
      "74\n",
      "75\n",
      "76\n",
      "77\n",
      "78\n",
      "79\n",
      "80\n",
      "81\n",
      "82\n",
      "83\n",
      "84\n",
      "85\n",
      "86\n",
      "87\n",
      "88\n",
      "89\n",
      "90\n",
      "91\n",
      "92\n",
      "93\n",
      "94\n",
      "95\n",
      "96\n",
      "97\n",
      "98\n",
      "99\n",
      "100\n"
     ]
    }
   ],
   "source": [
    "def insole():\n",
    "    i = 1\n",
    "    while True:\n",
    "        \n",
    "        print(i)\n",
    "        i += 1\n",
    "        if i > 100:\n",
    "            return\n",
    "        #ko muốn trả về giá trị mà đơn giản chỉ muốn thoát hàm\n",
    "insole()"
   ]
  },
  {
   "cell_type": "markdown",
   "id": "76343aa8",
   "metadata": {},
   "source": [
    "Ví dụ:\n",
    "\n",
    "Hãy viết 1 hàm trả về giá trị trung bình của 2 số bất kỳ"
   ]
  },
  {
   "cell_type": "code",
   "execution_count": 6,
   "id": "16a711ea",
   "metadata": {},
   "outputs": [
    {
     "name": "stdout",
     "output_type": "stream",
     "text": [
      "7.16\n"
     ]
    }
   ],
   "source": [
    "def trituyetdoi(a):\n",
    "    if a<0:\n",
    "        a = -a\n",
    "    return a\n",
    "    \n",
    "    \n",
    "print(trituyetdoi(-7.16))"
   ]
  },
  {
   "cell_type": "markdown",
   "id": "1d7f8db0",
   "metadata": {},
   "source": [
    "### Bài tập"
   ]
  },
  {
   "cell_type": "markdown",
   "id": "75fb488b",
   "metadata": {},
   "source": [
    "Viết hàm kiểm tra số nguyên tố"
   ]
  },
  {
   "cell_type": "code",
   "execution_count": 11,
   "id": "63701bd7",
   "metadata": {},
   "outputs": [
    {
     "name": "stdout",
     "output_type": "stream",
     "text": [
      "Ko phải số nguyên tố\n"
     ]
    }
   ],
   "source": [
    "def snt(a):\n",
    "    count = 0\n",
    "    for i in range(1,a):\n",
    "        if a%i==0:\n",
    "            count += 1\n",
    "    if count <= 2:\n",
    "        print(\"Số nguyên tố\")\n",
    "    else:\n",
    "        print(\"Ko phải số nguyên tố\")\n",
    "snt(4)"
   ]
  },
  {
   "cell_type": "code",
   "execution_count": 1,
   "id": "cafebc90",
   "metadata": {},
   "outputs": [
    {
     "name": "stdout",
     "output_type": "stream",
     "text": [
      "True\n"
     ]
    }
   ],
   "source": [
    "def snt(a):\n",
    "    for i in range(2,a):\n",
    "        if a%i == 0:\n",
    "            return False\n",
    "    return True\n",
    "print(snt(5))\n"
   ]
  },
  {
   "cell_type": "markdown",
   "id": "221103cf",
   "metadata": {},
   "source": [
    "Nhập vào 3 điểm toán, lý, hóa\n",
    "\n",
    "Hãy viết hàm in điểm trung bung bình rồi tính điểm trung bình của toán lý, toán hóa, lý hóa và toán lý hóa"
   ]
  },
  {
   "cell_type": "code",
   "execution_count": 13,
   "id": "1ba1d8ae",
   "metadata": {},
   "outputs": [
    {
     "name": "stdout",
     "output_type": "stream",
     "text": [
      "Nhập điểm toán: 8.5\n",
      "Nhập điểm lý: 9\n",
      "Nhập điểm hóa: 9\n",
      "8.75\n",
      "8.75\n",
      "9.0\n",
      "8.833333333333334\n"
     ]
    }
   ],
   "source": [
    "toán = float(input(\"Nhập điểm toán: \"))\n",
    "lý = float(input(\"Nhập điểm lý: \"))\n",
    "hóa = float(input(\"Nhập điểm hóa: \"))\n",
    "def tb(a,b,c):\n",
    "    print((a+b)/2)\n",
    "    print((a+c)/2)\n",
    "    print((b+c)/2)\n",
    "    print((a+b+c)/3)\n",
    "tb(toán,lý,hóa)"
   ]
  },
  {
   "cell_type": "markdown",
   "id": "50f43307",
   "metadata": {},
   "source": [
    "Viết hàm đếm số lượng từ của một chuỗi đưa vào"
   ]
  },
  {
   "cell_type": "code",
   "execution_count": 7,
   "id": "be785b29",
   "metadata": {},
   "outputs": [
    {
     "name": "stdout",
     "output_type": "stream",
     "text": [
      "4\n"
     ]
    }
   ],
   "source": [
    "chuoi = \" Xin  chào   các bạn \"\n",
    "\n",
    "def demsoluongtu(a):\n",
    "    a = a.strip()\n",
    "    dem = 0 # TRONG PYTHON, LỆNH GÁN CHÍNH LÀ LỆNH KHAI BÁO\n",
    "    for i in range(len(a)):\n",
    "        if a[i] == \" \" and a[i-1] != \" \":\n",
    "            dem += 1\n",
    "    return dem + 1\n",
    "\n",
    "sl_tu = demsoluongtu(chuoi)\n",
    "print(sl_tu)\n"
   ]
  },
  {
   "cell_type": "code",
   "execution_count": 1,
   "id": "ddab8251",
   "metadata": {},
   "outputs": [
    {
     "name": "stdout",
     "output_type": "stream",
     "text": [
      "Số lượng từ:  4\n"
     ]
    }
   ],
   "source": [
    "chuoi = \"xin chao cac ban\"\n",
    "print(\"Số lượng từ: \",chuoi.count(\" \")+1)"
   ]
  },
  {
   "cell_type": "markdown",
   "id": "b4adef40",
   "metadata": {},
   "source": [
    "Viết một hàm vẽ hình tròn, một hàm vẽ hình vuông và một hàm vẽ hình tam giác đều (giá trị đầu vào là a)\n",
    "\n",
    "Tất cả hàm này, bắt đầu từ 1 vị trí, sau khi vẽ ra, con trỏ sẽ tiến tới vị trí tiếp theo, cách vì đầu một khoảng a + 10 theo chiều x từ trái sang"
   ]
  },
  {
   "cell_type": "code",
   "execution_count": 1,
   "id": "e405d1d4",
   "metadata": {},
   "outputs": [
    {
     "name": "stdout",
     "output_type": "stream",
     "text": [
      "75\n"
     ]
    }
   ],
   "source": [
    "import turtle\n",
    "t = turtle.Turtle()\n",
    "t.penup()\n",
    "\n",
    "def vehinhtron(a):\n",
    "    t.fd(a/2)\n",
    "    t.pendown()\n",
    "    t.circle(a/2)\n",
    "    t.penup()\n",
    "    t.fd(a/2 + 10)\n",
    "    \n",
    "def vehinhvuong(a):\n",
    "    t.pendown()\n",
    "    for i in range(4):\n",
    "        t.fd(a)\n",
    "        t.lt(90)\n",
    "    t.penup()\n",
    "    t.fd(a+10)\n",
    "    \n",
    "def vehinhtamgiac(a):\n",
    "    t.pendown()\n",
    "    for i in range(3):\n",
    "        t.fd(a)\n",
    "        t.left(120)\n",
    "    t.penup()\n",
    "    t.fd(a+10)\n",
    "    \n",
    "vehinhtron(50)\n",
    "vehinhvuong(50)\n",
    "vehinhvuong(50)\n",
    "vehinhtamgiac(50)"
   ]
  },
  {
   "cell_type": "code",
   "execution_count": 1,
   "id": "59d81421",
   "metadata": {},
   "outputs": [],
   "source": [
    "import turtle\n",
    "t = turtle.Turtle()\n",
    "a = 50\n",
    "t.right(60)\n",
    "t.fd(a)\n",
    "t.right(120)\n",
    "t.fd(a)\n",
    "t.right(120)\n",
    "t.fd(a)\n",
    "t.right(60)"
   ]
  },
  {
   "cell_type": "code",
   "execution_count": null,
   "id": "3436c655",
   "metadata": {},
   "outputs": [],
   "source": []
  }
 ],
 "metadata": {
  "kernelspec": {
   "display_name": "Python 3 (ipykernel)",
   "language": "python",
   "name": "python3"
  },
  "language_info": {
   "codemirror_mode": {
    "name": "ipython",
    "version": 3
   },
   "file_extension": ".py",
   "mimetype": "text/x-python",
   "name": "python",
   "nbconvert_exporter": "python",
   "pygments_lexer": "ipython3",
   "version": "3.10.1"
  }
 },
 "nbformat": 4,
 "nbformat_minor": 5
}
