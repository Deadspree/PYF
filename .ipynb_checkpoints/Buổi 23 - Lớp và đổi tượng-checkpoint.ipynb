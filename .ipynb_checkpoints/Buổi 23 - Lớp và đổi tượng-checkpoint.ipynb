{
 "cells": [
  {
   "cell_type": "markdown",
   "id": "1c805421",
   "metadata": {},
   "source": [
    "# Lớp và đối tượng\n",
    "\n",
    "### Lớp (class) là gì?\n",
    "\n",
    "Lớp (Class) là tập hợp tất cả các đối tượng có chung các thuộc tính và hành vi."
   ]
  },
  {
   "cell_type": "markdown",
   "id": "812bf15e",
   "metadata": {},
   "source": [
    "### Khai báo lớp\n",
    "\n",
    "`class <tên lớp>:\n",
    "    <khai báo biến>\n",
    "    <khai báo hàm>`\n",
    "    \n",
    "Ví dụ:\n",
    "\n",
    "`class giangvien:\n",
    "    ten = \"Nguyễn Tâm Điền\"\n",
    "    mon = \"Python căn bản\"\n",
    "    def inten(self):\n",
    "        print(self.ten)        \n",
    "dien = giangvien()\n",
    "print(dien.mon)\n",
    "dien.inten()`\n",
    "\n",
    "##### Lưu ý:\n",
    "\n",
    "- giangvien là 1 lớp\n",
    "- dien là 1 đối tượng có tất cả thuộc tính (có biến ten, mon và hàm inten) của lớp giangvien\n",
    "- inten là 1 hàm trong lớp giangvien\n",
    "- dien.mon là 1 biến trong đối tượng dien\n",
    "- dien.inten() là cách để gọi hàm inten trong đối tượng dien\n",
    "\n",
    "\n",
    "<b> Hãy chạy thử đoạn lệnh ở ví dụ: </b>"
   ]
  },
  {
   "cell_type": "code",
   "execution_count": 5,
   "id": "40598ff8",
   "metadata": {},
   "outputs": [
    {
     "name": "stdout",
     "output_type": "stream",
     "text": [
      "Lâm Đức Long\n",
      "Nguyễn Tâm Điền\n"
     ]
    }
   ],
   "source": [
    "class giangvien:\n",
    "    ten = \"Nguyễn Tâm Điền\"\n",
    "    mon = \"Python căn bản\"\n",
    "    def inten(self):\n",
    "        print(self.ten) \n",
    "        \n",
    "dien = giangvien()\n",
    "\n",
    "long = giangvien()\n",
    "long.ten = \"Lâm Đức Long\"\n",
    "print(long.ten)\n",
    "print(dien.ten)"
   ]
  },
  {
   "cell_type": "markdown",
   "id": "6c4daedf",
   "metadata": {},
   "source": [
    "<b> Hãy tạo 1 class hocvien với 1 biến và 1 def giúp in giá trị biến đó ra màn hình </b>"
   ]
  },
  {
   "cell_type": "code",
   "execution_count": 8,
   "id": "5358318d",
   "metadata": {},
   "outputs": [
    {
     "name": "stdout",
     "output_type": "stream",
     "text": [
      "Minad\n"
     ]
    }
   ],
   "source": [
    "class hocvien:\n",
    "    ten = \"Minad\"\n",
    "    mon = \"Và đây là folotilo\"\n",
    "    def inten(self):\n",
    "        print(self.ten)\n",
    "    \n",
    "minh = hocvien()\n",
    "minh.inten()\n",
    "\n",
    "    "
   ]
  },
  {
   "cell_type": "markdown",
   "id": "b2481280",
   "metadata": {},
   "source": [
    "### Tham số self\n",
    "\n",
    "Tham số self là tham số được sử dụng khi khai báo các hàm trong lớp\n",
    "\n",
    "Tham số self miêu tả chính lớp ta đang xây dựng, giúp chúng ta sử dụng được những biến và hàm của lớp đó\n",
    "\n",
    "Ví dụ:\n",
    "\n",
    "`class giangvien:\n",
    "    ten = \"Nguyễn Tâm Điền\"\n",
    "    mon = \"Python căn bản\"\n",
    "    def doiten(self,ten):\n",
    "        self.ten = ten\n",
    "    def inten(self):\n",
    "        print(self.ten)        \n",
    "dien = giangvien()\n",
    "dien.doiten(\"NTD\")\n",
    "dien.inten()`\n",
    "\n",
    "Sau khi thực hiện đoạn code trên, giá trị của biến ten trong đối tượng dien đã bị thay đổi thành \"NTD\"\n",
    "\n",
    "<b> Hãy chạy thử đoạn lệnh ở ví dụ: </b>"
   ]
  },
  {
   "cell_type": "code",
   "execution_count": 9,
   "id": "fd2f5d7c",
   "metadata": {},
   "outputs": [
    {
     "name": "stdout",
     "output_type": "stream",
     "text": [
      "NTD\n"
     ]
    }
   ],
   "source": [
    "class giangvien:\n",
    "    ten = \"Nguyễn Tâm Điền\"\n",
    "    mon = \"Python căn bản\"\n",
    "    def doiten(self,ten):\n",
    "        self.ten = ten\n",
    "    def inten(self):\n",
    "        print(self.ten)        \n",
    "dien = giangvien()\n",
    "dien.doiten(\"NTD\")\n",
    "dien.inten()\n"
   ]
  },
  {
   "cell_type": "code",
   "execution_count": null,
   "id": "cbb59ca1",
   "metadata": {},
   "outputs": [],
   "source": []
  },
  {
   "cell_type": "markdown",
   "id": "4dfd8d1d",
   "metadata": {},
   "source": [
    "<b> Hãy thêm 1 def vào class hocvien giúp thay đổi giá trị biến bất kỳ trong class </b>"
   ]
  },
  {
   "cell_type": "code",
   "execution_count": null,
   "id": "98d911c0",
   "metadata": {},
   "outputs": [],
   "source": []
  },
  {
   "cell_type": "markdown",
   "id": "b2909dd4",
   "metadata": {},
   "source": [
    "### Hàm \\_\\_init__\n",
    "\n",
    "Hàm \\_\\_init__ là hàm khởi tạo\n",
    "\n",
    "Ví dụ:\n",
    "\n",
    "`class giangvien:\n",
    "    def __init__(self,ten,mon):\n",
    "        self.ten = ten\n",
    "        self.mon = mon\n",
    "    def doiten(self,ten):\n",
    "        self.ten = ten\n",
    "    def inten(self):\n",
    "        print(self.ten)   \n",
    "dien = giangvien(\"Điền\",\"Python căn bản\")\n",
    "thang = giangvien(\"Thắng\",\"Python siêu cấp\")\n",
    "dien.inten()\n",
    "thang.inten()`\n",
    "\n",
    "<b> Hãy chạy thử đoạn lệnh ở ví dụ: </b>"
   ]
  },
  {
   "cell_type": "code",
   "execution_count": 3,
   "id": "f15266fb",
   "metadata": {},
   "outputs": [
    {
     "name": "stdout",
     "output_type": "stream",
     "text": [
      "Buenos dias\n",
      "Buenos dias\n"
     ]
    }
   ],
   "source": [
    "class giangvien:\n",
    "    def __init__(self,ten,mon):\n",
    "        self.ten = ten\n",
    "        self.mon = mon\n",
    "        print(\"Buenos dias\")\n",
    "    def doiten(self,ten):\n",
    "        self.ten = ten\n",
    "    def inten(self):\n",
    "        print(self.ten)   \n",
    "dien = giangvien(\"Điền\",\"Python căn bản\")\n",
    "thang = giangvien(\"Thắng\",\"Python siêu cấp\")\n"
   ]
  },
  {
   "cell_type": "markdown",
   "id": "9064cc0a",
   "metadata": {},
   "source": [
    "<b> Hãy thêm 1 def \\_\\_init__ vào class hocvien để khởi tạo tên và tuổi của học viên </b>"
   ]
  },
  {
   "cell_type": "code",
   "execution_count": null,
   "id": "3e6a0dae",
   "metadata": {},
   "outputs": [],
   "source": []
  },
  {
   "cell_type": "markdown",
   "id": "d137f2f5",
   "metadata": {},
   "source": [
    "### Bài tập"
   ]
  },
  {
   "cell_type": "markdown",
   "id": "d243726c",
   "metadata": {},
   "source": [
    "Hãy xây dựng 1 class hình tròn có các thuộc tính sau:\n",
    "\n",
    "- biến x và y chứa tọa độ tâm đường tròn\n",
    "- biến r chứa bán kính đường chọn\n",
    "- hàm draw: để vẽ đường tròn"
   ]
  },
  {
   "cell_type": "code",
   "execution_count": 4,
   "id": "4121525f",
   "metadata": {},
   "outputs": [
    {
     "name": "stdout",
     "output_type": "stream",
     "text": [
      "29/35\n"
     ]
    }
   ],
   "source": []
  },
  {
   "cell_type": "markdown",
   "id": "9017050f",
   "metadata": {},
   "source": [
    "Tạo một lớp phân số có các thuộc tính:\n",
    "\n",
    "- biến tử số và mẫu số\n",
    "- hàm cong: để cộng với một đối tượng khác có lớp phân số rồi trả về dối tượng có phân số mới\n",
    "- hàm tru: để trừ với một đối tượng khác có lớp phân số rồi trả về dối tượng có phân số mới\n",
    "- hàm nhan: để nhân với một đối tượng khác có lớp phân số rồi trả về dối tượng có phân số mới\n",
    "- hàm chia: để chia với một đối tượng khác có lớp phân số rồi trả về dối tượng có phân số mới\n",
    "- hàm toigian: để tối giản phân số rồi trả về dối tượng có phân số mới"
   ]
  },
  {
   "cell_type": "code",
   "execution_count": 7,
   "id": "2ae72d93",
   "metadata": {},
   "outputs": [
    {
     "name": "stdout",
     "output_type": "stream",
     "text": [
      "-1/35\n"
     ]
    }
   ],
   "source": [
    "def UCLN(a,b):\n",
    "    while a != b:\n",
    "        c = abs(a - b)\n",
    "        if a > b:\n",
    "            a = c\n",
    "        else:\n",
    "            b = c\n",
    "    return a\n",
    "\n",
    "class phanso:\n",
    "    def __init__(self,tuso,mauso):\n",
    "        self.tuso = tuso\n",
    "        self.mauso = mauso\n",
    "    def inra(self):\n",
    "        print(self.tuso,\"/\",self.mauso, sep = \"\")\n",
    "    def cong(self,a):\n",
    "        tusomoi = self.tuso*a.mauso + self.mauso*a.tuso\n",
    "        mausomoi = self.mauso*a.mauso\n",
    "        return phanso(tusomoi, mausomoi)\n",
    "    def tru(self,a):\n",
    "        tusomoi = self.tuso*a.mauso-self.mauso*a.tuso\n",
    "        mausomoi = self.mauso*a.mauso\n",
    "        return phanso(tusomoi,mausomoi)\n",
    "    def nhan(self,a):\n",
    "        tusomoi = self.tuso*a.tuso\n",
    "        mausomoi = self.mauso*a.mauso\n",
    "        return phanso(tusomoi, mausomoi)\n",
    "    def chia(self,a):\n",
    "        tusomoi = self.tuso*a.mauso\n",
    "        mausomoi = self.mauso*a.tuso\n",
    "        return phanso(tusomoi, mausomoi)\n",
    "    def toigian(self):\n",
    "        a = UCLN(self.tuso, self.mauso)\n",
    "        tusomoi = self.tuso//a\n",
    "        mausomoi = self.mauso//a\n",
    "        return phanso(tusomoi, mausomoi)\n",
    "\n",
    "ps1 = phanso(2,5)\n",
    "ps2 = phanso(3,7)\n",
    "ps3 = ps1.tru(ps2)\n",
    "ps3.inra()"
   ]
  },
  {
   "cell_type": "markdown",
   "id": "39a8cb80",
   "metadata": {},
   "source": [
    "Viết class NhanVien gồm các thuộc tính:\n",
    "\n",
    "<b> Các biến </b>\n",
    "\n",
    "- Tên\n",
    "- Tuổi\n",
    "- Địa chỉ\n",
    "- Tiền lương\n",
    "- Tổng số giờ làm\n",
    "\n",
    "<b> Các hàm </b>\n",
    "\n",
    "- nhap : Nhập các thông tin cho nhân viên từ bàn phím\n",
    "- in : In ra tất cả các thông tin của nhân viên\n",
    "- thuong: Tính toán và trả về số tiền thưởng của nhân viên theo công thức sau:\n",
    "\n",
    "    Nếu tổng số giờ làm của nhân viên >=200 thì thưởng = lương * 20%\n",
    "    \n",
    "    Nếu tổng số giờ làm của nhân viên <200 và >=100 thì thưởng = lương * 10%\n",
    "    \n",
    "    Nếu tổng số giờ làm của nhân viên <100 thì thưởng = 0"
   ]
  },
  {
   "cell_type": "code",
   "execution_count": null,
   "id": "26d12a44",
   "metadata": {},
   "outputs": [],
   "source": [
    "class nhanvien:\n",
    "#     def nhaplieu(self):\n",
    "#         self.ten = input(\"Nhập tên nhân viên: \")\n",
    "#         self.tuoi = input(\"Nhập tuổi nhân viên: \")\n",
    "#         self.diachi = input(\"Nhập địa chỉ nhân viên: \")\n",
    "#         self.luong = input(\"Nhập tiền lương nhân viên: \")\n",
    "#         self.sogiolam= input(\"Nhập số giờ làm nhân viên: \") \n",
    "#     def inra(self):\n",
    "#         print(\"Tên nhân viên là:\",self.ten)\n",
    "#         print(\"Tuổi nhân viên là:\",self.tuoi)\n",
    "#         print(\"Địa chỉ nhân viên là:\",self.diachi)\n",
    "#         print(\"Lương nhân viên là:\",self.luong)\n",
    "#         print(\"Số giờ làm nhân viên là:\",self.sogiolam)\n",
    "    def nhaplieu(self):\n",
    "        self.dulieu = {\"Tên\":\"\",\"Tuổi\":\"\",\"Địa chỉ\":\"\",\"Tiền lương\":0,\"Số giờ làm\":0}\n",
    "        for i in self.dulieu:\n",
    "            self.dulieu[i] = input(\"Nhập vào \" + i.lower() + \" của nhân viên:\")\n",
    "        self.dulieu[\"Tiền lương\"] = int(self.dulieu[\"Tiền lương\"])\n",
    "        self.dulieu[\"Số giờ làm\"] = int(self.dulieu[\"Số giờ làm\"])\n",
    "    def inra(self):\n",
    "        for i in self.dulieu:\n",
    "            print(i,\"của nhân viên là:\",self.dulieu[i])\n",
    "    def thuong(self):\n",
    "        sgl = self.dulieu[\"Số giờ làm\"]\n",
    "        lg = self.dulieu[\"Tiền lương\"]\n",
    "        if sgl >= 200:\n",
    "            return lg*0.2\n",
    "        if sgl >= 100:\n",
    "            return lg*0.1\n",
    "        return 0\n",
    "\n",
    "nv1 = nhanvien()\n",
    "nv1.nhaplieu()\n",
    "nv1.inra()\n",
    "print(\"Thưởng của nhân viên\",nv1.dulieu[\"Tên\"],\"là:\",nv1.thuong())"
   ]
  }
 ],
 "metadata": {
  "kernelspec": {
   "display_name": "Python 3 (ipykernel)",
   "language": "python",
   "name": "python3"
  },
  "language_info": {
   "codemirror_mode": {
    "name": "ipython",
    "version": 3
   },
   "file_extension": ".py",
   "mimetype": "text/x-python",
   "name": "python",
   "nbconvert_exporter": "python",
   "pygments_lexer": "ipython3",
   "version": "3.10.1"
  }
 },
 "nbformat": 4,
 "nbformat_minor": 5
}
