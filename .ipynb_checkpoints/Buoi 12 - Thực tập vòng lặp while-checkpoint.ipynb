{
 "cells": [
  {
   "cell_type": "markdown",
   "id": "1f7be993",
   "metadata": {},
   "source": [
    "# Thực tập vòng lặp While\n",
    "\n",
    "### Bài 1\n",
    "\n",
    "Nhập vào số a, sử dụng lệnh while (không sử dụng break và for) để xác định xem số đó có phải là số nguyên tố hay không"
   ]
  },
  {
   "cell_type": "code",
   "execution_count": 11,
   "id": "8cb73965",
   "metadata": {},
   "outputs": [
    {
     "name": "stdout",
     "output_type": "stream",
     "text": [
      "Nhập số nguyên:26\n",
      "Không phải Số nguyên tố\n"
     ]
    }
   ],
   "source": [
    "a = float(input(\"Nhập số nguyên:\"))\n",
    "i = 1\n",
    "demuoc = 1\n",
    "while i<a-1:\n",
    "    i+=1\n",
    "    if a % i == 0:\n",
    "        demuoc +=1\n",
    "if demuoc <= 2:\n",
    "    print(\"Số nguyên tố\")\n",
    "else:\n",
    "    print(\"Không phải Số nguyên tố\")"
   ]
  },
  {
   "cell_type": "markdown",
   "id": "9f2357ca",
   "metadata": {},
   "source": [
    "### Bài 2\n",
    "\n",
    "Hãy sử dụng lệnh while lập trình cho bài đoán số ở buổi thứ 9"
   ]
  },
  {
   "cell_type": "code",
   "execution_count": null,
   "id": "db79cb9d",
   "metadata": {},
   "outputs": [],
   "source": [
    "count = 0\n",
    "lborder = 0\n",
    "hborder = 100\n",
    "guess = 50\n",
    "count_limit = 7\n",
    "\n",
    "while True:\n",
    "    if count<count_limit:\n",
    "        \n",
    "        ans = input(\"Số lớn hơn, bé hơn hay bằng \" + str(guess) + \":\")\n",
    "        if ans == \"bé hơn\":\n",
    "            hborder = guess\n",
    "            guess = round((lborder + guess)/2)\n",
    "        elif ans == \"lớn hơn\":\n",
    "            lborder = guess\n",
    "            guess = round((hborder + guess)/2)\n",
    "        elif ans == \"bằng\":\n",
    "            print(\"Ez game\")\n",
    "            break\n",
    "        else:\n",
    "            print(\"Nhập sai kí tự đề ra\")\n",
    "        count+=1\n",
    "    else:\n",
    "        print(\"Nghĩ số hiểm thế, không đoán được\")\n",
    "        break"
   ]
  },
  {
   "cell_type": "markdown",
   "id": "58f5b789",
   "metadata": {},
   "source": [
    "### Bài 3\n",
    "\n",
    "Nhập vào số a, hãy đếm a có bao nhiêu chữ số chẵn, bao nhiêu cữ số lẻ\n",
    "\n",
    "#### Cách 1 (dùng chuỗi):"
   ]
  },
  {
   "cell_type": "code",
   "execution_count": 1,
   "id": "e7f9da21",
   "metadata": {},
   "outputs": [
    {
     "name": "stdout",
     "output_type": "stream",
     "text": [
      "124\n",
      "2 1\n"
     ]
    }
   ],
   "source": [
    "a = int(input())\n",
    "a = str(a)\n",
    "i = 0\n",
    "demchan = 0\n",
    "demle = 0\n",
    "while i < len(a):\n",
    "    if int(a[i]) % 2 == 0:\n",
    "        demchan += 1\n",
    "    else:\n",
    "        demle += 1\n",
    "    i += 1\n",
    "print(demchan, demle)"
   ]
  },
  {
   "cell_type": "markdown",
   "id": "9a3d9703",
   "metadata": {},
   "source": [
    "#### Cách 2 (không dùng chuỗi):"
   ]
  },
  {
   "cell_type": "code",
   "execution_count": 13,
   "id": "d4e474c8",
   "metadata": {},
   "outputs": [
    {
     "name": "stdout",
     "output_type": "stream",
     "text": [
      "Nhập số: 12306\n",
      "chẵn 2\n",
      "lẻ 2\n"
     ]
    }
   ],
   "source": [
    "a = int(input())\n",
    "\n",
    "demchan = 0\n",
    "demle = 0\n",
    "while a != 0:\n",
    "    b = a%10\n",
    "    a = a//10\n",
    "    if b %2 == 0:\n",
    "        demchan += 1\n",
    "    else:\n",
    "        demle += 1\n",
    "        \n",
    "print(demchan, demle)\n",
    "        \n",
    "        "
   ]
  },
  {
   "cell_type": "markdown",
   "id": "69539ece",
   "metadata": {},
   "source": [
    "### Bài 4\n",
    "\n",
    "Nhập vào số a, hãy tính tổng các chữ số nguyên tố của a"
   ]
  },
  {
   "cell_type": "code",
   "execution_count": 1,
   "id": "f001bd9a",
   "metadata": {},
   "outputs": [
    {
     "name": "stdout",
     "output_type": "stream",
     "text": [
      "12345\n",
      "8\n"
     ]
    }
   ],
   "source": [
    "a = int(input())\n",
    "\n",
    "tong = 0\n",
    "while a!= 0:\n",
    "    b = a%10\n",
    "    a //= 10\n",
    "    if b == 3 or b == 5 or b == 7:\n",
    "        tong += b\n",
    "print(tong)    \n"
   ]
  },
  {
   "cell_type": "markdown",
   "id": "0a5075a4",
   "metadata": {},
   "source": [
    "### Bài 5\n",
    "\n",
    "Số armstrong là số có tổng của các chữ số mũ số lượng chữ số bằng chính nó\n",
    "\n",
    "Ví dụ\n",
    "\n",
    "Số 371 là một số armstrong vì:\n",
    "\n",
    "371 = 3^3 + 7^3 + 1^3 (3 là số lượng chữ số của 371)\n",
    "\n",
    "Số 1634 là một số armstrong vì:\n",
    "\n",
    "1634 = 1^4 + 6^4 + 3^4 + 4^4 (4 là số lượng chữ số của 1634)\n",
    "\n",
    "Nhập vào số a, kiểm tra xem a có phải là số armstrong không"
   ]
  },
  {
   "cell_type": "code",
   "execution_count": 5,
   "id": "b9ed54a5",
   "metadata": {},
   "outputs": [
    {
     "name": "stdout",
     "output_type": "stream",
     "text": [
      "371\n",
      "Số Armstrong\n",
      "3\n"
     ]
    }
   ],
   "source": [
    "a = int(input())\n",
    "b = str(a)\n",
    "a0 = a\n",
    "total = 0\n",
    "while a!= 0:\n",
    "    c = a%10\n",
    "    a //= 10\n",
    "    total += c**len(b)\n",
    "if total == a0:\n",
    "    print(\"Số Armstrong\")\n",
    "else:\n",
    "    print(\"Không phải số armstrong\")\n",
    "print(len(b))"
   ]
  },
  {
   "cell_type": "markdown",
   "id": "f8a584d3",
   "metadata": {},
   "source": [
    "### Bài 6\n",
    "\n",
    "Dãy số fibonacci là dãy số được định nghĩa như sau: 1, 1, 2, 3, 5, 8, 13,... với số kế tiếp sẽ bằng tổng hai số trước đó\n",
    "\n",
    "Nhập vào A, hãy tìm số trong dãy số fibonacci lớn nhất nhưng không vượt quá A"
   ]
  },
  {
   "cell_type": "code",
   "execution_count": 12,
   "id": "3ad4d85b",
   "metadata": {},
   "outputs": [
    {
     "name": "stdout",
     "output_type": "stream",
     "text": [
      "14\n",
      "8\n"
     ]
    }
   ],
   "source": [
    "a = int(input())\n",
    "b = 1\n",
    "c = 1\n",
    "d = b + c\n",
    "while d <= a:\n",
    "    b = c\n",
    "    c = d\n",
    "    d = b + c\n",
    "print(b)"
   ]
  },
  {
   "cell_type": "markdown",
   "id": "9fa794f2",
   "metadata": {},
   "source": [
    "### Bài 7\n",
    "\n",
    "Nhập vào A, tìm n nhỏ nhất sao cho\n",
    "\n",
    "1 + 1/2 + 1/3 + 1/4 + ... + 1/n > A"
   ]
  },
  {
   "cell_type": "code",
   "execution_count": 13,
   "id": "246ec002",
   "metadata": {},
   "outputs": [
    {
     "name": "stdout",
     "output_type": "stream",
     "text": [
      "12\n",
      "254\n"
     ]
    }
   ],
   "source": [
    "A = float(input())\n",
    "a = 1/i\n",
    "i = 1\n",
    "c = 0\n",
    "\n",
    "while c < A:\n",
    "    c += a\n",
    "    i += 1\n",
    "    \n",
    "print(i)\n",
    "    "
   ]
  },
  {
   "cell_type": "markdown",
   "id": "c5fd4d8a",
   "metadata": {},
   "source": [
    "### Bài 8\n",
    "\n",
    "Nhập vào a và b là số nguyên dương (b có một chữ số, nhập sai yêu cầu nhập lại), hãy tìm vị trí đầu tiên (bắt đầu từ bên trái) của b trong a, nếu không tìm thấy thì in kết quả là 0 (ví trí đầu bắt đầu từ 1)\n",
    "\n",
    "<b>Ví dụ:</b>\n",
    "\n",
    "<b>Nhập:</b>\n",
    "- a = 125785\n",
    "- b = 5\n",
    "\n",
    "<b>Kết quả:</b> 3 (do số 5 nằm ở vị trí 3)"
   ]
  },
  {
   "cell_type": "code",
   "execution_count": null,
   "id": "9edf35ac",
   "metadata": {},
   "outputs": [],
   "source": []
  }
 ],
 "metadata": {
  "kernelspec": {
   "display_name": "Python 3 (ipykernel)",
   "language": "python",
   "name": "python3"
  },
  "language_info": {
   "codemirror_mode": {
    "name": "ipython",
    "version": 3
   },
   "file_extension": ".py",
   "mimetype": "text/x-python",
   "name": "python",
   "nbconvert_exporter": "python",
   "pygments_lexer": "ipython3",
   "version": "3.10.1"
  }
 },
 "nbformat": 4,
 "nbformat_minor": 5
}
