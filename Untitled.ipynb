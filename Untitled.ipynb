{
 "cells": [
  {
   "cell_type": "code",
   "execution_count": 6,
   "id": "825f849f",
   "metadata": {},
   "outputs": [
    {
     "data": {
      "text/plain": [
       "(array([5, 4, 3, 2, 1]),\n",
       " array([[9.400e-01, 3.300e-01, 1.781e+01, 8.092e+01],\n",
       "        [2.980e+00, 1.270e+00, 9.097e+01, 4.780e+00],\n",
       "        [4.379e+01, 9.380e+00, 4.677e+01, 6.000e-02],\n",
       "        [7.585e+01, 1.277e+01, 1.138e+01, 0.000e+00],\n",
       "        [8.984e+01, 5.610e+00, 4.550e+00, 0.000e+00]]))"
      ]
     },
     "execution_count": 6,
     "metadata": {},
     "output_type": "execute_result"
    }
   ],
   "source": [
    "import matplotlib.pyplot as plt\n",
    "import numpy\n",
    "\n",
    "y = numpy.array([5,4,3,2,1])\n",
    "x = numpy.array([[0.94,0.33,17.81,80.92],[2.98,1.27,90.97,4.78],[43.79,9.38,46.77,0.06],[75.85,12.77,11.38,0.00],[89.84,5.61,4.55,0.00]])\n",
    "y, x    \n"
   ]
  },
  {
   "cell_type": "code",
   "execution_count": 8,
   "id": "a7d1b6f5",
   "metadata": {},
   "outputs": [
    {
     "data": {
      "text/plain": [
       "1"
      ]
     },
     "execution_count": 8,
     "metadata": {},
     "output_type": "execute_result"
    }
   ],
   "source": [
    "y.ndim\n"
   ]
  },
  {
   "cell_type": "code",
   "execution_count": 9,
   "id": "bb7564ca",
   "metadata": {},
   "outputs": [
    {
     "data": {
      "text/plain": [
       "2"
      ]
     },
     "execution_count": 9,
     "metadata": {},
     "output_type": "execute_result"
    }
   ],
   "source": [
    "x.ndim"
   ]
  },
  {
   "cell_type": "code",
   "execution_count": null,
   "id": "ef4cbda3",
   "metadata": {},
   "outputs": [],
   "source": []
  }
 ],
 "metadata": {
  "kernelspec": {
   "display_name": "Python 3 (ipykernel)",
   "language": "python",
   "name": "python3"
  },
  "language_info": {
   "codemirror_mode": {
    "name": "ipython",
    "version": 3
   },
   "file_extension": ".py",
   "mimetype": "text/x-python",
   "name": "python",
   "nbconvert_exporter": "python",
   "pygments_lexer": "ipython3",
   "version": "3.10.1"
  }
 },
 "nbformat": 4,
 "nbformat_minor": 5
}
