{
 "cells": [
  {
   "cell_type": "code",
   "execution_count": null,
   "id": "80a6452e",
   "metadata": {},
   "outputs": [],
   "source": []
  },
  {
   "cell_type": "code",
   "execution_count": 1,
   "id": "d6187c3b",
   "metadata": {},
   "outputs": [
    {
     "ename": "NameError",
     "evalue": "name 'a' is not defined",
     "output_type": "error",
     "traceback": [
      "\u001b[1;31m---------------------------------------------------------------------------\u001b[0m",
      "\u001b[1;31mNameError\u001b[0m                                 Traceback (most recent call last)",
      "\u001b[1;32m~\\AppData\\Local\\Temp/ipykernel_14216/219428975.py\u001b[0m in \u001b[0;36m<module>\u001b[1;34m\u001b[0m\n\u001b[1;32m----> 1\u001b[1;33m \u001b[0ma\u001b[0m\u001b[1;33m.\u001b[0m\u001b[0msize\u001b[0m\u001b[1;33m\u001b[0m\u001b[1;33m\u001b[0m\u001b[0m\n\u001b[0m",
      "\u001b[1;31mNameError\u001b[0m: name 'a' is not defined"
     ]
    }
   ],
   "source": []
  },
  {
   "cell_type": "code",
   "execution_count": 19,
   "id": "ab18263a",
   "metadata": {},
   "outputs": [],
   "source": [
    "import numpy as np"
   ]
  },
  {
   "cell_type": "code",
   "execution_count": 4,
   "id": "60b963e4",
   "metadata": {},
   "outputs": [],
   "source": [
    "#1a\n",
    "a = np.array([[[[2,3,4],[7, 8, 9]],[[2,3,4],[7, 8, 9]]]])"
   ]
  },
  {
   "cell_type": "code",
   "execution_count": 5,
   "id": "a5914064",
   "metadata": {},
   "outputs": [
    {
     "data": {
      "text/plain": [
       "12"
      ]
     },
     "execution_count": 5,
     "metadata": {},
     "output_type": "execute_result"
    }
   ],
   "source": [
    "a.size"
   ]
  },
  {
   "cell_type": "code",
   "execution_count": 6,
   "id": "d1ff1bde",
   "metadata": {},
   "outputs": [
    {
     "data": {
      "text/plain": [
       "(1, 2, 2, 3)"
      ]
     },
     "execution_count": 6,
     "metadata": {},
     "output_type": "execute_result"
    }
   ],
   "source": [
    "a.shape"
   ]
  },
  {
   "cell_type": "code",
   "execution_count": 7,
   "id": "b8e44cd3",
   "metadata": {},
   "outputs": [
    {
     "data": {
      "text/plain": [
       "4"
      ]
     },
     "execution_count": 7,
     "metadata": {},
     "output_type": "execute_result"
    }
   ],
   "source": [
    "a.ndim"
   ]
  },
  {
   "cell_type": "code",
   "execution_count": 11,
   "id": "2a128f7d",
   "metadata": {},
   "outputs": [],
   "source": [
    "#1b\n",
    "b = np.array([[[2,3,4]],[[7, 8, 9]]])\n"
   ]
  },
  {
   "cell_type": "code",
   "execution_count": 12,
   "id": "4204a0e7",
   "metadata": {},
   "outputs": [
    {
     "data": {
      "text/plain": [
       "6"
      ]
     },
     "execution_count": 12,
     "metadata": {},
     "output_type": "execute_result"
    }
   ],
   "source": [
    "b.size"
   ]
  },
  {
   "cell_type": "code",
   "execution_count": 13,
   "id": "ba616104",
   "metadata": {},
   "outputs": [
    {
     "data": {
      "text/plain": [
       "(2, 1, 3)"
      ]
     },
     "execution_count": 13,
     "metadata": {},
     "output_type": "execute_result"
    }
   ],
   "source": [
    "b.shape"
   ]
  },
  {
   "cell_type": "code",
   "execution_count": 14,
   "id": "15d279d5",
   "metadata": {},
   "outputs": [
    {
     "data": {
      "text/plain": [
       "3"
      ]
     },
     "execution_count": 14,
     "metadata": {},
     "output_type": "execute_result"
    }
   ],
   "source": [
    "b.ndim"
   ]
  },
  {
   "cell_type": "code",
   "execution_count": 15,
   "id": "b658b561",
   "metadata": {},
   "outputs": [],
   "source": [
    "c = np.array([[[[[2.0,4.6],[2.0,4.6],[2.0,4.6]],[[2.0,4.6],[2.0,4.6],[2.0,4.6]]]]]#2a\n",
    "d = np.array())"
   ]
  },
  {
   "cell_type": "code",
   "execution_count": 16,
   "id": "58508983",
   "metadata": {},
   "outputs": [
    {
     "data": {
      "text/plain": [
       "12"
      ]
     },
     "execution_count": 16,
     "metadata": {},
     "output_type": "execute_result"
    }
   ],
   "source": [
    "c.size"
   ]
  },
  {
   "cell_type": "code",
   "execution_count": 17,
   "id": "9e19d544",
   "metadata": {},
   "outputs": [
    {
     "data": {
      "text/plain": [
       "(1, 1, 2, 3, 2)"
      ]
     },
     "execution_count": 17,
     "metadata": {},
     "output_type": "execute_result"
    }
   ],
   "source": [
    "c.shape"
   ]
  },
  {
   "cell_type": "code",
   "execution_count": 18,
   "id": "c8fa55d5",
   "metadata": {},
   "outputs": [
    {
     "data": {
      "text/plain": [
       "5"
      ]
     },
     "execution_count": 18,
     "metadata": {},
     "output_type": "execute_result"
    }
   ],
   "source": [
    "c.ndim"
   ]
  },
  {
   "cell_type": "code",
   "execution_count": 22,
   "id": "f52fb173",
   "metadata": {},
   "outputs": [],
   "source": [
    "#2a   3-D array of three 2 by 2 innermost array with zero values\n",
    "d = np.zeros((3, 2, 2))\n",
    "#b. 4-D array of three 2 by 2 innermost array with zero values\n",
    "e = np.zeros((1, 3, 2, 2))\n",
    "#3-D  array of one 2 by 5 innermost array with the value of one\n",
    "#throughout\n",
    "f = np.ones((1, 2, 5))\n",
    "#5-D array of two 2 by 2 innermost array with the value of\n",
    "#one throughout\n",
    "g = np.ones((1, 1, 2, 2, 2))\n",
    "#8-D array of four 2 by 2 innermost with the value of one\n",
    "#throughout\n",
    "h = np.ones((1, 1, 1, 1, 1, 4, 2, 2))"
   ]
  },
  {
   "cell_type": "code",
   "execution_count": 25,
   "id": "3b97ac72",
   "metadata": {},
   "outputs": [
    {
     "data": {
      "text/plain": [
       "array([100, 110, 120, 130, 140, 150, 160, 170, 180, 190, 200])"
      ]
     },
     "execution_count": 25,
     "metadata": {},
     "output_type": "execute_result"
    }
   ],
   "source": [
    "#3\n",
    "np.arange(100, 201, 10)"
   ]
  },
  {
   "cell_type": "code",
   "execution_count": 26,
   "id": "6cf26095",
   "metadata": {},
   "outputs": [
    {
     "name": "stdout",
     "output_type": "stream",
     "text": [
      "[ 5. 10. 15. 20. 25.]\n"
     ]
    }
   ],
   "source": [
    "\n",
    "#\n",
    "arrs = np.linspace(5, 25, num=5)\n",
    "print(arrs)"
   ]
  },
  {
   "cell_type": "code",
   "execution_count": 27,
   "id": "cebfc7d5",
   "metadata": {},
   "outputs": [
    {
     "name": "stdout",
     "output_type": "stream",
     "text": [
      "[[ 5.]\n",
      " [10.]\n",
      " [15.]\n",
      " [20.]\n",
      " [25.]]\n"
     ]
    }
   ],
   "source": [
    "#bonus \n",
    "y2 = np.linspace(5, 25, num=5).reshape(5, 1)\n",
    "print(y2)"
   ]
  },
  {
   "cell_type": "code",
   "execution_count": 3,
   "id": "b77a6e97",
   "metadata": {},
   "outputs": [
    {
     "name": "stdout",
     "output_type": "stream",
     "text": [
      "[ 4  6 17  8  9  3 15 12  7 13]\n"
     ]
    }
   ],
   "source": [
    "import numpy as np\n",
    "#1. If x = [4,6,17,8,9,3,15,12,7,13] convert x to ndarray and print:\n",
    "x = [4,6,17,8,9,3,15,12,7,13]\n",
    "x1 = np.array(x)\n",
    "\n"
   ]
  },
  {
   "cell_type": "code",
   "execution_count": 4,
   "id": "2f93c167",
   "metadata": {},
   "outputs": [
    {
     "name": "stdout",
     "output_type": "stream",
     "text": [
      "17\n"
     ]
    }
   ],
   "source": [
    "#a. value 17 and 7 separately using their positive index\n",
    "print(x1[2])"
   ]
  },
  {
   "cell_type": "code",
   "execution_count": 7,
   "id": "822a0668",
   "metadata": {},
   "outputs": [
    {
     "name": "stdout",
     "output_type": "stream",
     "text": [
      "7\n"
     ]
    }
   ],
   "source": [
    "print(x1[8])"
   ]
  },
  {
   "cell_type": "code",
   "execution_count": 8,
   "id": "2417500a",
   "metadata": {},
   "outputs": [
    {
     "name": "stdout",
     "output_type": "stream",
     "text": [
      "12\n"
     ]
    }
   ],
   "source": [
    "print(x1[-3])"
   ]
  },
  {
   "cell_type": "code",
   "execution_count": 9,
   "id": "c2a9cad3",
   "metadata": {},
   "outputs": [
    {
     "name": "stdout",
     "output_type": "stream",
     "text": [
      "3\n"
     ]
    }
   ],
   "source": [
    "print(x1[-5])"
   ]
  },
  {
   "cell_type": "code",
   "execution_count": 11,
   "id": "aa31812b",
   "metadata": {},
   "outputs": [
    {
     "name": "stdout",
     "output_type": "stream",
     "text": [
      "[ 8  9  3 15 12]\n"
     ]
    }
   ],
   "source": [
    "# the range  of values from 8 to 12 using positive indices\n",
    "print(x1[3:8])"
   ]
  },
  {
   "cell_type": "code",
   "execution_count": 13,
   "id": "3b291814",
   "metadata": {},
   "outputs": [
    {
     "name": "stdout",
     "output_type": "stream",
     "text": [
      "[ 4  6 17  8  9  3 15]\n"
     ]
    }
   ],
   "source": [
    "print(x1[-10:-3])"
   ]
  },
  {
   "cell_type": "code",
   "execution_count": 14,
   "id": "4ec9a23a",
   "metadata": {},
   "outputs": [
    {
     "name": "stdout",
     "output_type": "stream",
     "text": [
      "[17  8  9  3 15 12  7 13]\n"
     ]
    }
   ],
   "source": [
    "print(x1[2:])"
   ]
  },
  {
   "cell_type": "code",
   "execution_count": 15,
   "id": "97d59241",
   "metadata": {},
   "outputs": [
    {
     "name": "stdout",
     "output_type": "stream",
     "text": [
      "[ 6 17  8  9  3 15 12  7 13]\n"
     ]
    }
   ],
   "source": [
    "print(x1[-9:])"
   ]
  },
  {
   "cell_type": "code",
   "execution_count": 16,
   "id": "5b54270a",
   "metadata": {},
   "outputs": [
    {
     "name": "stdout",
     "output_type": "stream",
     "text": [
      "[17  8  9  3]\n"
     ]
    }
   ],
   "source": [
    "print(x1[-8:6])"
   ]
  },
  {
   "cell_type": "code",
   "execution_count": 17,
   "id": "31e5b743",
   "metadata": {},
   "outputs": [
    {
     "name": "stdout",
     "output_type": "stream",
     "text": [
      "[ 3 15 12  7]\n"
     ]
    }
   ],
   "source": [
    "print(x1[-5:9])"
   ]
  },
  {
   "cell_type": "code",
   "execution_count": 19,
   "id": "20231706",
   "metadata": {},
   "outputs": [
    {
     "name": "stdout",
     "output_type": "stream",
     "text": [
      "[ 4  6 17  8  9  3 15 12  7 13]\n"
     ]
    }
   ],
   "source": [
    "print(x1[0:10])"
   ]
  },
  {
   "cell_type": "code",
   "execution_count": 23,
   "id": "0aa0cadc",
   "metadata": {},
   "outputs": [
    {
     "name": "stdout",
     "output_type": "stream",
     "text": [
      "[ 4  6 17  8  9  3 15 12  7 13]\n"
     ]
    }
   ],
   "source": [
    "print(x1[-10:])"
   ]
  },
  {
   "cell_type": "code",
   "execution_count": 24,
   "id": "a19226fb",
   "metadata": {},
   "outputs": [
    {
     "name": "stdout",
     "output_type": "stream",
     "text": [
      "[ 4  6 17  8  9  3 15 12  7 13]\n"
     ]
    }
   ],
   "source": [
    "print(x1[:])"
   ]
  },
  {
   "cell_type": "code",
   "execution_count": 25,
   "id": "48ce82d7",
   "metadata": {},
   "outputs": [
    {
     "name": "stdout",
     "output_type": "stream",
     "text": [
      "[ 4  6 17  8  9  3 15 12]\n"
     ]
    }
   ],
   "source": [
    "print(x1[:8])"
   ]
  },
  {
   "cell_type": "code",
   "execution_count": 26,
   "id": "1952dbe7",
   "metadata": {},
   "outputs": [
    {
     "name": "stdout",
     "output_type": "stream",
     "text": [
      "[ 6 17  8  9  3 15 12  7 13]\n"
     ]
    }
   ],
   "source": [
    "print(x1[1:])"
   ]
  },
  {
   "cell_type": "code",
   "execution_count": 15,
   "id": "64403faf",
   "metadata": {},
   "outputs": [],
   "source": [
    "import numpy as np\n",
    "#Create a two dimensional array for numbers between 1 and 25. Using the array, find the following:\n",
    "a = np.arange(1, 26, 1)\n",
    "#1. all the even numbers\n",
    "\n"
   ]
  },
  {
   "cell_type": "code",
   "execution_count": 16,
   "id": "3103fa67",
   "metadata": {},
   "outputs": [
    {
     "name": "stdout",
     "output_type": "stream",
     "text": [
      "[ 1  2  3  4  5  6  7  8  9 10 11 12 13 14 15 16 17 18 19 20 21 22 23 24\n",
      " 25]\n"
     ]
    }
   ],
   "source": [
    "print(a)"
   ]
  },
  {
   "cell_type": "code",
   "execution_count": 17,
   "id": "2bfa044e",
   "metadata": {},
   "outputs": [],
   "source": [
    "a1 = np.array([a])"
   ]
  },
  {
   "cell_type": "code",
   "execution_count": 18,
   "id": "eaeb3363",
   "metadata": {},
   "outputs": [
    {
     "name": "stdout",
     "output_type": "stream",
     "text": [
      "[[ 1  2  3  4  5  6  7  8  9 10 11 12 13 14 15 16 17 18 19 20 21 22 23 24\n",
      "  25]]\n"
     ]
    }
   ],
   "source": [
    "print(a1)"
   ]
  },
  {
   "cell_type": "code",
   "execution_count": 19,
   "id": "fdb67293",
   "metadata": {},
   "outputs": [
    {
     "data": {
      "text/plain": [
       "numpy.ndarray"
      ]
     },
     "execution_count": 19,
     "metadata": {},
     "output_type": "execute_result"
    }
   ],
   "source": [
    "type(a1)"
   ]
  },
  {
   "cell_type": "code",
   "execution_count": 20,
   "id": "76794105",
   "metadata": {},
   "outputs": [
    {
     "name": "stdout",
     "output_type": "stream",
     "text": [
      "[ 2  4  6  8 10 12 14 16 18 20 22 24]\n"
     ]
    }
   ],
   "source": [
    "print(a1[a1%2==0])"
   ]
  },
  {
   "cell_type": "code",
   "execution_count": 21,
   "id": "885b18d3",
   "metadata": {},
   "outputs": [
    {
     "name": "stdout",
     "output_type": "stream",
     "text": [
      "[ 4  8 12 16 20 24]\n"
     ]
    }
   ],
   "source": [
    "print(a1[a1%4==0])"
   ]
  },
  {
   "cell_type": "code",
   "execution_count": 22,
   "id": "9c3c7a3b",
   "metadata": {},
   "outputs": [
    {
     "name": "stdout",
     "output_type": "stream",
     "text": [
      "[ 1  2  4  5 10 20 25]\n"
     ]
    }
   ],
   "source": [
    "print(a1[100%a1==0])"
   ]
  },
  {
   "cell_type": "code",
   "execution_count": 26,
   "id": "bb439e5b",
   "metadata": {},
   "outputs": [
    {
     "name": "stdout",
     "output_type": "stream",
     "text": [
      "[ 1  2  3  4  5 15 21 22 23 24 25]\n"
     ]
    }
   ],
   "source": [
    "print(a1[(a1<=5)|(a1>20)|(a1==15)])"
   ]
  },
  {
   "cell_type": "code",
   "execution_count": 24,
   "id": "468716e6",
   "metadata": {},
   "outputs": [
    {
     "name": "stdout",
     "output_type": "stream",
     "text": [
      "[]\n"
     ]
    }
   ],
   "source": [
    "print(a1[(a1%2==1)&(a1%6==0)])"
   ]
  },
  {
   "cell_type": "code",
   "execution_count": 27,
   "id": "4c14a4b6",
   "metadata": {},
   "outputs": [],
   "source": [
    "#a. Create a two dimensional array for numbers between 1 and 25.\n",
    "import numpy as np\n",
    "h = np.arange(1, 26).reshape(5, 5)"
   ]
  },
  {
   "cell_type": "code",
   "execution_count": 28,
   "id": "d3eb2597",
   "metadata": {},
   "outputs": [
    {
     "name": "stdout",
     "output_type": "stream",
     "text": [
      "[[ 1  2  3  4  5]\n",
      " [ 6  7  8  9 10]\n",
      " [11 12 13 14 15]\n",
      " [16 17 18 19 20]\n",
      " [21 22 23 24 25]]\n"
     ]
    }
   ],
   "source": [
    "print(h)"
   ]
  },
  {
   "cell_type": "code",
   "execution_count": 30,
   "id": "5f276b04",
   "metadata": {},
   "outputs": [
    {
     "name": "stdout",
     "output_type": "stream",
     "text": [
      "[1 2 3 4 5]\n"
     ]
    }
   ],
   "source": [
    "print(h[0])"
   ]
  },
  {
   "cell_type": "code",
   "execution_count": 32,
   "id": "6b49e4e2",
   "metadata": {},
   "outputs": [
    {
     "name": "stdout",
     "output_type": "stream",
     "text": [
      "[[ 2]\n",
      " [ 7]\n",
      " [12]\n",
      " [17]\n",
      " [22]]\n"
     ]
    }
   ],
   "source": [
    "#print all numbers in column 2\n",
    "print(h[: ,1:2])"
   ]
  },
  {
   "cell_type": "code",
   "execution_count": 33,
   "id": "edcd754b",
   "metadata": {},
   "outputs": [
    {
     "name": "stdout",
     "output_type": "stream",
     "text": [
      "[[16 17 18]]\n"
     ]
    }
   ],
   "source": [
    "print(h[3:4,0:3])"
   ]
  },
  {
   "cell_type": "code",
   "execution_count": 34,
   "id": "d581a04f",
   "metadata": {},
   "outputs": [
    {
     "name": "stdout",
     "output_type": "stream",
     "text": [
      "[[16 17 18]\n",
      " [21 22 23]]\n"
     ]
    }
   ],
   "source": [
    "print(h[3:5,0:3])"
   ]
  },
  {
   "cell_type": "code",
   "execution_count": 35,
   "id": "c74eaf8b",
   "metadata": {},
   "outputs": [
    {
     "name": "stdout",
     "output_type": "stream",
     "text": [
      "13\n"
     ]
    }
   ],
   "source": [
    "print(h[2][2])"
   ]
  },
  {
   "cell_type": "code",
   "execution_count": 36,
   "id": "2d0317ce",
   "metadata": {},
   "outputs": [
    {
     "name": "stdout",
     "output_type": "stream",
     "text": [
      "[[ 6  7  8  9 10]\n",
      " [11 12 13 14 15]]\n"
     ]
    }
   ],
   "source": [
    "print(h[1:3])"
   ]
  },
  {
   "cell_type": "code",
   "execution_count": 38,
   "id": "8676fb34",
   "metadata": {},
   "outputs": [
    {
     "name": "stdout",
     "output_type": "stream",
     "text": [
      "[[ 2  3]\n",
      " [ 7  8]\n",
      " [12 13]\n",
      " [17 18]\n",
      " [22 23]]\n"
     ]
    }
   ],
   "source": [
    "print(h[:, 1:3])"
   ]
  },
  {
   "cell_type": "code",
   "execution_count": 2,
   "id": "c7733e70",
   "metadata": {},
   "outputs": [],
   "source": [
    "#Create a 3-D numpy array with numbers from 1 to 72.\n",
    "import numpy as np\n",
    "a = np.arange(1,73).reshape(3, 4, 6)\n",
    "#Using the above array, print:"
   ]
  },
  {
   "cell_type": "code",
   "execution_count": 3,
   "id": "49c8043a",
   "metadata": {},
   "outputs": [
    {
     "name": "stdout",
     "output_type": "stream",
     "text": [
      "[[[ 1  2  3  4  5  6]\n",
      "  [ 7  8  9 10 11 12]\n",
      "  [13 14 15 16 17 18]\n",
      "  [19 20 21 22 23 24]]\n",
      "\n",
      " [[25 26 27 28 29 30]\n",
      "  [31 32 33 34 35 36]\n",
      "  [37 38 39 40 41 42]\n",
      "  [43 44 45 46 47 48]]\n",
      "\n",
      " [[49 50 51 52 53 54]\n",
      "  [55 56 57 58 59 60]\n",
      "  [61 62 63 64 65 66]\n",
      "  [67 68 69 70 71 72]]]\n"
     ]
    }
   ],
   "source": [
    "print(a)"
   ]
  },
  {
   "cell_type": "code",
   "execution_count": 4,
   "id": "569e7ccc",
   "metadata": {},
   "outputs": [
    {
     "name": "stdout",
     "output_type": "stream",
     "text": [
      "10\n"
     ]
    }
   ],
   "source": [
    "print(a[0][1][3])"
   ]
  },
  {
   "cell_type": "code",
   "execution_count": 5,
   "id": "6fa1c9bf",
   "metadata": {},
   "outputs": [
    {
     "name": "stdout",
     "output_type": "stream",
     "text": [
      "[[ 1  2  3  4  5  6]\n",
      " [ 7  8  9 10 11 12]\n",
      " [13 14 15 16 17 18]\n",
      " [19 20 21 22 23 24]]\n"
     ]
    }
   ],
   "source": [
    "print(a[0])"
   ]
  },
  {
   "cell_type": "code",
   "execution_count": 6,
   "id": "c0df0d18",
   "metadata": {},
   "outputs": [
    {
     "name": "stdout",
     "output_type": "stream",
     "text": [
      "[31 32 33 34 35 36]\n"
     ]
    }
   ],
   "source": [
    "print(a[1][1,0:6])"
   ]
  },
  {
   "cell_type": "code",
   "execution_count": 7,
   "id": "374a36e6",
   "metadata": {},
   "outputs": [
    {
     "name": "stdout",
     "output_type": "stream",
     "text": [
      "[63 64 65]\n"
     ]
    }
   ],
   "source": [
    "print(a[2][2,2:5])"
   ]
  },
  {
   "cell_type": "code",
   "execution_count": 8,
   "id": "9836f4c7",
   "metadata": {},
   "outputs": [
    {
     "name": "stdout",
     "output_type": "stream",
     "text": [
      "35\n"
     ]
    }
   ],
   "source": [
    "print(a[1][1][4])"
   ]
  },
  {
   "cell_type": "code",
   "execution_count": 10,
   "id": "141bd028",
   "metadata": {},
   "outputs": [
    {
     "name": "stdout",
     "output_type": "stream",
     "text": [
      "10\n",
      "34\n",
      "66\n"
     ]
    }
   ],
   "source": [
    "print(a[0][1][3])\n",
    "print(a[1][1][3])\n",
    "print(a[2][2][5])"
   ]
  },
  {
   "cell_type": "code",
   "execution_count": 12,
   "id": "b78a54c7",
   "metadata": {},
   "outputs": [
    {
     "name": "stdout",
     "output_type": "stream",
     "text": [
      "[[ 3]\n",
      " [ 9]\n",
      " [15]\n",
      " [21]]\n"
     ]
    }
   ],
   "source": [
    "print(a[0][:,2:3])"
   ]
  },
  {
   "cell_type": "code",
   "execution_count": 13,
   "id": "0f3ccc59",
   "metadata": {},
   "outputs": [
    {
     "name": "stdout",
     "output_type": "stream",
     "text": [
      "[34 35]\n"
     ]
    }
   ],
   "source": [
    "print(a[1][1,3:5])"
   ]
  },
  {
   "cell_type": "code",
   "execution_count": 14,
   "id": "511751eb",
   "metadata": {},
   "outputs": [
    {
     "name": "stdout",
     "output_type": "stream",
     "text": [
      "[[[ 1  2  3  4  5  6]\n",
      "  [ 7  8  9 10 11 12]\n",
      "  [13 14 15 16 17 18]\n",
      "  [19 20 21 22 23 24]]\n",
      "\n",
      " [[25 26 27 28 29 30]\n",
      "  [31 32 33 34 35 36]\n",
      "  [37 38 39 40 41 42]\n",
      "  [43 44 45 46 47 48]]\n",
      "\n",
      " [[49 50 51 52 53 54]\n",
      "  [55 56 57 58 59 60]\n",
      "  [61 62 63 64 65 66]\n",
      "  [67 68 69 70 71 72]]]\n"
     ]
    }
   ],
   "source": [
    "print(a)"
   ]
  },
  {
   "cell_type": "code",
   "execution_count": 15,
   "id": "b3c0f07f",
   "metadata": {},
   "outputs": [
    {
     "name": "stdout",
     "output_type": "stream",
     "text": [
      "[49 50 51 52 53 54]\n"
     ]
    }
   ],
   "source": [
    "print(a[2][0,:])"
   ]
  },
  {
   "cell_type": "code",
   "execution_count": 16,
   "id": "5f545ede",
   "metadata": {},
   "outputs": [
    {
     "name": "stdout",
     "output_type": "stream",
     "text": [
      "[[49 50 51 52 53 54]\n",
      " [55 56 57 58 59 60]\n",
      " [61 62 63 64 65 66]\n",
      " [67 68 69 70 71 72]]\n"
     ]
    }
   ],
   "source": [
    "print(a[2])"
   ]
  },
  {
   "cell_type": "code",
   "execution_count": 17,
   "id": "a45737fc",
   "metadata": {},
   "outputs": [
    {
     "name": "stdout",
     "output_type": "stream",
     "text": [
      "[25 26 27 28 29 30]\n"
     ]
    }
   ],
   "source": [
    "print(a[1][0,:])"
   ]
  },
  {
   "cell_type": "code",
   "execution_count": 20,
   "id": "c6b8e884",
   "metadata": {},
   "outputs": [
    {
     "ename": "SyntaxError",
     "evalue": "invalid syntax (Temp/ipykernel_10588/3232479779.py, line 1)",
     "output_type": "error",
     "traceback": [
      "\u001b[1;36m  File \u001b[1;32m\"C:\\Users\\minhc\\AppData\\Local\\Temp/ipykernel_10588/3232479779.py\"\u001b[1;36m, line \u001b[1;32m1\u001b[0m\n\u001b[1;33m    print([:,5:6])\u001b[0m\n\u001b[1;37m           ^\u001b[0m\n\u001b[1;31mSyntaxError\u001b[0m\u001b[1;31m:\u001b[0m invalid syntax\n"
     ]
    }
   ],
   "source": [
    "print([:,5:6])"
   ]
  },
  {
   "cell_type": "code",
   "execution_count": 23,
   "id": "0519de03",
   "metadata": {},
   "outputs": [
    {
     "name": "stdout",
     "output_type": "stream",
     "text": [
      "[]\n"
     ]
    }
   ],
   "source": [
    "print(a[:][0:4,5:6])"
   ]
  },
  {
   "cell_type": "code",
   "execution_count": 25,
   "id": "948db627",
   "metadata": {},
   "outputs": [
    {
     "name": "stdout",
     "output_type": "stream",
     "text": [
      "[[[ 6]\n",
      "  [12]\n",
      "  [18]\n",
      "  [24]]\n",
      "\n",
      " [[30]\n",
      "  [36]\n",
      "  [42]\n",
      "  [48]]\n",
      "\n",
      " [[54]\n",
      "  [60]\n",
      "  [66]\n",
      "  [72]]]\n"
     ]
    }
   ],
   "source": [
    "print(a[:,:,5:])"
   ]
  },
  {
   "cell_type": "code",
   "execution_count": 26,
   "id": "83d2077c",
   "metadata": {},
   "outputs": [
    {
     "name": "stdout",
     "output_type": "stream",
     "text": [
      "[[[27]\n",
      "  [33]\n",
      "  [39]\n",
      "  [45]]\n",
      "\n",
      " [[51]\n",
      "  [57]\n",
      "  [63]\n",
      "  [69]]]\n"
     ]
    }
   ],
   "source": [
    "print(a[1:3,:,2:3])"
   ]
  },
  {
   "cell_type": "code",
   "execution_count": null,
   "id": "4d0b2666",
   "metadata": {},
   "outputs": [],
   "source": []
  },
  {
   "cell_type": "code",
   "execution_count": 28,
   "id": "96d59e3b",
   "metadata": {},
   "outputs": [
    {
     "name": "stdout",
     "output_type": "stream",
     "text": [
      "[27 33 39 45]\n"
     ]
    }
   ],
   "source": [
    "#16. number less than 50 in the 3rd column of the second and last 2-D in the 3-D\n",
    "c=a[1:3,:,2:3]\n",
    "print(c[c<50])\n",
    "#print(a[1:3,:,2:3][a[1:3,:,2:3],50]) the same\n"
   ]
  },
  {
   "cell_type": "code",
   "execution_count": 29,
   "id": "b018bb2a",
   "metadata": {},
   "outputs": [
    {
     "data": {
      "text/plain": [
       "array([[[26],\n",
       "        [32],\n",
       "        [38],\n",
       "        [44]],\n",
       "\n",
       "       [[50],\n",
       "        [56],\n",
       "        [62],\n",
       "        [68]]])"
      ]
     },
     "execution_count": 29,
     "metadata": {},
     "output_type": "execute_result"
    }
   ],
   "source": [
    "#17. numbers that are divisible by 5 in column 2 of second and third 2-D in the 3-D array\n",
    "a[1:3,:,1:2]\n"
   ]
  },
  {
   "cell_type": "code",
   "execution_count": 30,
   "id": "d676e382",
   "metadata": {},
   "outputs": [
    {
     "name": "stdout",
     "output_type": "stream",
     "text": [
      "[50]\n"
     ]
    }
   ],
   "source": [
    "b = a[1:3,:,1:2]\n",
    "print(b[b%5==0])"
   ]
  },
  {
   "cell_type": "code",
   "execution_count": null,
   "id": "9e6f5dce",
   "metadata": {},
   "outputs": [],
   "source": []
  }
 ],
 "metadata": {
  "kernelspec": {
   "display_name": "Python 3 (ipykernel)",
   "language": "python",
   "name": "python3"
  },
  "language_info": {
   "codemirror_mode": {
    "name": "ipython",
    "version": 3
   },
   "file_extension": ".py",
   "mimetype": "text/x-python",
   "name": "python",
   "nbconvert_exporter": "python",
   "pygments_lexer": "ipython3",
   "version": "3.10.1"
  }
 },
 "nbformat": 4,
 "nbformat_minor": 5
}
