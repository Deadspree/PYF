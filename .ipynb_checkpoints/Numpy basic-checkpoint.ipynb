{
 "cells": [
  {
   "cell_type": "code",
   "execution_count": 1,
   "id": "9cffc420",
   "metadata": {},
   "outputs": [],
   "source": [
    "#import numpy\n",
    "import numpy as np\n",
    "\n",
    "#nympy created for arrays"
   ]
  },
  {
   "cell_type": "code",
   "execution_count": 2,
   "id": "346d1cc3",
   "metadata": {},
   "outputs": [],
   "source": [
    "#array is a data structure, store data of the same type\n",
    "# types of array"
   ]
  },
  {
   "cell_type": "code",
   "execution_count": 3,
   "id": "3781d188",
   "metadata": {},
   "outputs": [],
   "source": [
    "# singgle dimension array\n",
    "#multil-dimensional array(2 D, 3D, nD)\n",
    "#dimension examples"
   ]
  },
  {
   "cell_type": "code",
   "execution_count": 4,
   "id": "a265a591",
   "metadata": {},
   "outputs": [
    {
     "data": {
      "text/plain": [
       "1"
      ]
     },
     "execution_count": 4,
     "metadata": {},
     "output_type": "execute_result"
    }
   ],
   "source": [
    "#[2,4,8 ] 1 dimensional array\n",
    "a = np.array([2, 4, 6])\n",
    "# check the dimension\n",
    "a.ndim"
   ]
  },
  {
   "cell_type": "code",
   "execution_count": 10,
   "id": "386b68bb",
   "metadata": {},
   "outputs": [
    {
     "data": {
      "text/plain": [
       "2"
      ]
     },
     "execution_count": 10,
     "metadata": {},
     "output_type": "execute_result"
    }
   ],
   "source": [
    "b = np.array([[4, 6, 8],[2, 4, 6]])\n",
    "b.ndim"
   ]
  },
  {
   "cell_type": "code",
   "execution_count": 7,
   "id": "9803b6da",
   "metadata": {},
   "outputs": [
    {
     "data": {
      "text/plain": [
       "array([2, 4, 6])"
      ]
     },
     "execution_count": 7,
     "metadata": {},
     "output_type": "execute_result"
    }
   ],
   "source": [
    "#find number at index position for 1 dimensional array\n",
    "a[1]"
   ]
  },
  {
   "cell_type": "code",
   "execution_count": 8,
   "id": "f1686a3e",
   "metadata": {},
   "outputs": [
    {
     "data": {
      "text/plain": [
       "4"
      ]
     },
     "execution_count": 8,
     "metadata": {},
     "output_type": "execute_result"
    }
   ],
   "source": [
    "a = np.array([2, 4, 6])\n",
    "a[1]"
   ]
  },
  {
   "cell_type": "code",
   "execution_count": 12,
   "id": "e915d557",
   "metadata": {},
   "outputs": [
    {
     "name": "stdout",
     "output_type": "stream",
     "text": [
      "[[4 6 8]\n",
      " [2 4 6]]\n"
     ]
    }
   ],
   "source": [
    "print(b)"
   ]
  },
  {
   "cell_type": "code",
   "execution_count": 13,
   "id": "e941a0bb",
   "metadata": {},
   "outputs": [
    {
     "data": {
      "text/plain": [
       "8"
      ]
     },
     "execution_count": 13,
     "metadata": {},
     "output_type": "execute_result"
    }
   ],
   "source": [
    "#access data at index for bigger than 1 dimensional array\n",
    "b[0][2]"
   ]
  },
  {
   "cell_type": "code",
   "execution_count": 15,
   "id": "1c8010e4",
   "metadata": {},
   "outputs": [
    {
     "data": {
      "text/plain": [
       "1"
      ]
     },
     "execution_count": 15,
     "metadata": {},
     "output_type": "execute_result"
    }
   ],
   "source": [
    "#ROW BEFORE COLUMN horizon before vertical\n",
    "#example (x, y) = (2, 3)\n",
    "#matrix(2,3,4)-->1\n",
    "#      (3,5,4)--2\n",
    "#      (2,4,4)-->3(in mathematics, in cs starts from 0)\n",
    "#3 dimensional array ex: [[[2,4,6,8]]]\n",
    "r = np.array([2, 4, 6, 8])\n",
    "r.ndim\n",
    "\n"
   ]
  },
  {
   "cell_type": "code",
   "execution_count": 16,
   "id": "15d76451",
   "metadata": {},
   "outputs": [
    {
     "data": {
      "text/plain": [
       "2"
      ]
     },
     "execution_count": 16,
     "metadata": {},
     "output_type": "execute_result"
    }
   ],
   "source": [
    "m = np.array([[2, 4, 5, 8]])\n",
    "m.ndim"
   ]
  },
  {
   "cell_type": "code",
   "execution_count": 22,
   "id": "874bf6a1",
   "metadata": {
    "scrolled": true
   },
   "outputs": [
    {
     "name": "stderr",
     "output_type": "stream",
     "text": [
      "C:\\Users\\minhc\\AppData\\Local\\Temp/ipykernel_13000/2433867315.py:1: VisibleDeprecationWarning: Creating an ndarray from ragged nested sequences (which is a list-or-tuple of lists-or-tuples-or ndarrays with different lengths or shapes) is deprecated. If you meant to do this, you must specify 'dtype=object' when creating the ndarray.\n",
      "  v = np.array([[2, 4, 5, 8],[1, 2, 3]])\n"
     ]
    },
    {
     "data": {
      "text/plain": [
       "1"
      ]
     },
     "execution_count": 22,
     "metadata": {},
     "output_type": "execute_result"
    }
   ],
   "source": [
    "v = np.array([[2, 4, 5, 8],[1, 2, 3]])\n",
    "v.ndim\n"
   ]
  },
  {
   "cell_type": "code",
   "execution_count": 19,
   "id": "8d54f116",
   "metadata": {},
   "outputs": [
    {
     "data": {
      "text/plain": [
       "2"
      ]
     },
     "execution_count": 19,
     "metadata": {},
     "output_type": "execute_result"
    }
   ],
   "source": [
    "i= np.array([[2, 4, 5, 8],[1, 2, 3, 4], [5, 6, 7, 8]])\n",
    "i.ndim"
   ]
  },
  {
   "cell_type": "code",
   "execution_count": 20,
   "id": "664b3bcc",
   "metadata": {},
   "outputs": [
    {
     "data": {
      "text/plain": [
       "numpy.ndarray"
      ]
     },
     "execution_count": 20,
     "metadata": {},
     "output_type": "execute_result"
    }
   ],
   "source": [
    "#check data type\n",
    "type(r)"
   ]
  },
  {
   "cell_type": "code",
   "execution_count": 21,
   "id": "f8bf923f",
   "metadata": {},
   "outputs": [
    {
     "data": {
      "text/plain": [
       "list"
      ]
     },
     "execution_count": 21,
     "metadata": {},
     "output_type": "execute_result"
    }
   ],
   "source": [
    "w = [7, 8, 9]\n",
    "type(w)"
   ]
  },
  {
   "cell_type": "code",
   "execution_count": 23,
   "id": "cee877e3",
   "metadata": {},
   "outputs": [
    {
     "data": {
      "text/plain": [
       "numpy.ndarray"
      ]
     },
     "execution_count": 23,
     "metadata": {},
     "output_type": "execute_result"
    }
   ],
   "source": [
    "w2 = np.array([7, 8, 9])\n",
    "type(w2)"
   ]
  },
  {
   "cell_type": "code",
   "execution_count": 24,
   "id": "95c530b7",
   "metadata": {},
   "outputs": [
    {
     "data": {
      "text/plain": [
       "tuple"
      ]
     },
     "execution_count": 24,
     "metadata": {},
     "output_type": "execute_result"
    }
   ],
   "source": [
    "w3 = (7, 8, 9)\n",
    "type(w3)"
   ]
  },
  {
   "cell_type": "code",
   "execution_count": 25,
   "id": "a723a7d8",
   "metadata": {},
   "outputs": [
    {
     "data": {
      "text/plain": [
       "0"
      ]
     },
     "execution_count": 25,
     "metadata": {},
     "output_type": "execute_result"
    }
   ],
   "source": [
    "#scalars is just a single number(0 dimension, 0 axis)\n",
    "v1 = np.array(4.9)\n",
    "v1.ndim"
   ]
  },
  {
   "cell_type": "code",
   "execution_count": 26,
   "id": "4d88754a",
   "metadata": {},
   "outputs": [
    {
     "data": {
      "text/plain": [
       "1"
      ]
     },
     "execution_count": 26,
     "metadata": {},
     "output_type": "execute_result"
    }
   ],
   "source": [
    "#vectors have value and direction, example\n",
    "v2 = np.array([2, 3, 4, 6])\n",
    "v2.ndim"
   ]
  },
  {
   "cell_type": "code",
   "execution_count": 29,
   "id": "7fdd7fd6",
   "metadata": {},
   "outputs": [
    {
     "data": {
      "text/plain": [
       "2"
      ]
     },
     "execution_count": 29,
     "metadata": {},
     "output_type": "execute_result"
    }
   ],
   "source": [
    "#Matricx has 2 dimensional and two axis\n",
    "v3 = np.array([[3, 4, 6],[4, 6, 7]])\n",
    "v3.ndim"
   ]
  },
  {
   "cell_type": "code",
   "execution_count": 30,
   "id": "5f244aa9",
   "metadata": {},
   "outputs": [
    {
     "data": {
      "text/plain": [
       "3"
      ]
     },
     "execution_count": 30,
     "metadata": {},
     "output_type": "execute_result"
    }
   ],
   "source": [
    "#Tensors have equal or greater than 3 dimensions\n",
    "t = np.array([[[2, 3, 4],\n",
    "              [4, 6, 7],\n",
    "              [2, 3, 4]],\n",
    "               [[2, 3, 4],\n",
    "              [4, 6, 7],\n",
    "              [2, 3, 4]],\n",
    "               [[2, 3, 4],\n",
    "              [4, 6, 7],\n",
    "              [2, 3, 4]\n",
    "              ]])\n",
    "t.ndim"
   ]
  },
  {
   "cell_type": "code",
   "execution_count": 32,
   "id": "fb400533",
   "metadata": {},
   "outputs": [
    {
     "data": {
      "text/plain": [
       "numpy.ndarray"
      ]
     },
     "execution_count": 32,
     "metadata": {},
     "output_type": "execute_result"
    }
   ],
   "source": [
    "#create array from tuple\n",
    "h = np.array((1, 2, 3))\n",
    "type(h)"
   ]
  },
  {
   "cell_type": "code",
   "execution_count": 33,
   "id": "ee686346",
   "metadata": {},
   "outputs": [],
   "source": [
    "#create 0-D arrays\n",
    "z = np.array(4)"
   ]
  },
  {
   "cell_type": "code",
   "execution_count": 34,
   "id": "aeef64e2",
   "metadata": {},
   "outputs": [
    {
     "data": {
      "text/plain": [
       "0"
      ]
     },
     "execution_count": 34,
     "metadata": {},
     "output_type": "execute_result"
    }
   ],
   "source": [
    "z.ndim\n"
   ]
  },
  {
   "cell_type": "code",
   "execution_count": 35,
   "id": "950d9d68",
   "metadata": {},
   "outputs": [
    {
     "name": "stdout",
     "output_type": "stream",
     "text": [
      "4\n"
     ]
    }
   ],
   "source": [
    "print(z)"
   ]
  },
  {
   "cell_type": "code",
   "execution_count": 36,
   "id": "09bcbbfa",
   "metadata": {},
   "outputs": [
    {
     "ename": "TypeError",
     "evalue": "array() takes from 1 to 2 positional arguments but 3 were given",
     "output_type": "error",
     "traceback": [
      "\u001b[1;31m---------------------------------------------------------------------------\u001b[0m",
      "\u001b[1;31mTypeError\u001b[0m                                 Traceback (most recent call last)",
      "\u001b[1;32m~\\AppData\\Local\\Temp/ipykernel_13000/4015726101.py\u001b[0m in \u001b[0;36m<module>\u001b[1;34m\u001b[0m\n\u001b[1;32m----> 1\u001b[1;33m \u001b[0mnp\u001b[0m\u001b[1;33m.\u001b[0m\u001b[0marray\u001b[0m\u001b[1;33m(\u001b[0m\u001b[1;36m1\u001b[0m\u001b[1;33m,\u001b[0m \u001b[1;36m3\u001b[0m\u001b[1;33m,\u001b[0m \u001b[1;36m3\u001b[0m\u001b[1;33m)\u001b[0m\u001b[1;31m#error\u001b[0m\u001b[1;33m\u001b[0m\u001b[1;33m\u001b[0m\u001b[0m\n\u001b[0m",
      "\u001b[1;31mTypeError\u001b[0m: array() takes from 1 to 2 positional arguments but 3 were given"
     ]
    }
   ],
   "source": [
    "np.array(1, 3, 3)#error"
   ]
  },
  {
   "cell_type": "code",
   "execution_count": 37,
   "id": "e4878812",
   "metadata": {},
   "outputs": [
    {
     "data": {
      "text/plain": [
       "array(1.+2.j)"
      ]
     },
     "execution_count": 37,
     "metadata": {},
     "output_type": "execute_result"
    }
   ],
   "source": [
    "np.array(1+2j)#a single arg"
   ]
  },
  {
   "cell_type": "code",
   "execution_count": 40,
   "id": "86dbc132",
   "metadata": {},
   "outputs": [
    {
     "data": {
      "text/plain": [
       "3"
      ]
     },
     "execution_count": 40,
     "metadata": {},
     "output_type": "execute_result"
    }
   ],
   "source": [
    "x = np.array([[[4, 6, 7],[8, 1, 2]],       [[4, 6, 7],[8, 1, 2]]])\n",
    "x.ndim"
   ]
  },
  {
   "cell_type": "code",
   "execution_count": 44,
   "id": "14f8d58a",
   "metadata": {},
   "outputs": [
    {
     "name": "stdout",
     "output_type": "stream",
     "text": [
      "int32\n"
     ]
    }
   ],
   "source": [
    "h = np.array([6, 2, 3, 4])\n",
    "print(h.dtype)"
   ]
  },
  {
   "cell_type": "code",
   "execution_count": 45,
   "id": "10636ebe",
   "metadata": {},
   "outputs": [
    {
     "name": "stdout",
     "output_type": "stream",
     "text": [
      "int32\n"
     ]
    }
   ],
   "source": [
    "#force a data type of an array\n",
    "h = np.array([6, 2, 3, 4])\n",
    "print(h.dtype)"
   ]
  },
  {
   "cell_type": "code",
   "execution_count": 46,
   "id": "9159dd22",
   "metadata": {},
   "outputs": [
    {
     "data": {
      "text/plain": [
       "dtype('float64')"
      ]
     },
     "execution_count": 46,
     "metadata": {},
     "output_type": "execute_result"
    }
   ],
   "source": [
    "h = np.array([6, 2, 3, 4], dtype=float)\n",
    "h.dtype"
   ]
  },
  {
   "cell_type": "code",
   "execution_count": 47,
   "id": "bf2afa65",
   "metadata": {},
   "outputs": [
    {
     "data": {
      "text/plain": [
       "dtype('int32')"
      ]
     },
     "execution_count": 47,
     "metadata": {},
     "output_type": "execute_result"
    }
   ],
   "source": [
    "h = np.array([6, 2, 3, 4], dtype=np.float32)\n",
    "a.dtype"
   ]
  },
  {
   "cell_type": "code",
   "execution_count": 48,
   "id": "8f68ab30",
   "metadata": {},
   "outputs": [
    {
     "data": {
      "text/plain": [
       "dtype('float32')"
      ]
     },
     "execution_count": 48,
     "metadata": {},
     "output_type": "execute_result"
    }
   ],
   "source": [
    "h.dtype"
   ]
  },
  {
   "cell_type": "code",
   "execution_count": 49,
   "id": "7356592d",
   "metadata": {},
   "outputs": [
    {
     "data": {
      "text/plain": [
       "dtype('int8')"
      ]
     },
     "execution_count": 49,
     "metadata": {},
     "output_type": "execute_result"
    }
   ],
   "source": [
    "# i = interger\n",
    "# b = boolean\n",
    "# u = unassigned\n",
    "# f = float\n",
    "# c = complex\n",
    "# U = unicode string\n",
    "# S = normal string\n",
    "# m = time\n",
    "# M = datetime\n",
    "\n",
    "h = np.array([6, 2, 3, 4], dtype='i1')\n",
    "h.dtype"
   ]
  },
  {
   "cell_type": "code",
   "execution_count": 50,
   "id": "0bc0d0ee",
   "metadata": {},
   "outputs": [
    {
     "data": {
      "text/plain": [
       "dtype('int16')"
      ]
     },
     "execution_count": 50,
     "metadata": {},
     "output_type": "execute_result"
    }
   ],
   "source": [
    "h = np.array([6, 2, 3, 4], dtype='i2')\n",
    "h.dtype"
   ]
  },
  {
   "cell_type": "code",
   "execution_count": 51,
   "id": "b9f242a7",
   "metadata": {},
   "outputs": [
    {
     "ename": "TypeError",
     "evalue": "array() takes from 1 to 2 positional arguments but 3 were given",
     "output_type": "error",
     "traceback": [
      "\u001b[1;31m---------------------------------------------------------------------------\u001b[0m",
      "\u001b[1;31mTypeError\u001b[0m                                 Traceback (most recent call last)",
      "\u001b[1;32m~\\AppData\\Local\\Temp/ipykernel_13000/456342093.py\u001b[0m in \u001b[0;36m<module>\u001b[1;34m\u001b[0m\n\u001b[0;32m      7\u001b[0m \u001b[0mk2\u001b[0m \u001b[1;33m=\u001b[0m \u001b[0mnp\u001b[0m\u001b[1;33m.\u001b[0m\u001b[0marray\u001b[0m\u001b[1;33m(\u001b[0m\u001b[1;33m[\u001b[0m\u001b[1;33m[\u001b[0m\u001b[1;36m4\u001b[0m\u001b[1;33m,\u001b[0m \u001b[1;36m6\u001b[0m\u001b[1;33m,\u001b[0m \u001b[1;36m7\u001b[0m\u001b[1;33m,\u001b[0m \u001b[1;36m8\u001b[0m\u001b[1;33m,\u001b[0m \u001b[1;36m2\u001b[0m\u001b[1;33m]\u001b[0m\u001b[1;33m]\u001b[0m\u001b[1;33m)\u001b[0m\u001b[1;33m\u001b[0m\u001b[1;33m\u001b[0m\u001b[0m\n\u001b[0;32m      8\u001b[0m \u001b[1;31m#c. 2-D array with three 2-D array\u001b[0m\u001b[1;33m\u001b[0m\u001b[1;33m\u001b[0m\u001b[0m\n\u001b[1;32m----> 9\u001b[1;33m \u001b[0mk3\u001b[0m \u001b[1;33m=\u001b[0m \u001b[0mnp\u001b[0m\u001b[1;33m.\u001b[0m\u001b[0marray\u001b[0m\u001b[1;33m(\u001b[0m\u001b[1;33m[\u001b[0m\u001b[1;33m[\u001b[0m\u001b[1;36m4\u001b[0m\u001b[1;33m,\u001b[0m \u001b[1;36m6\u001b[0m\u001b[1;33m,\u001b[0m \u001b[1;36m7\u001b[0m\u001b[1;33m,\u001b[0m \u001b[1;36m8\u001b[0m\u001b[1;33m,\u001b[0m \u001b[1;36m2\u001b[0m\u001b[1;33m]\u001b[0m\u001b[1;33m]\u001b[0m\u001b[1;33m,\u001b[0m\u001b[1;33m[\u001b[0m\u001b[1;33m[\u001b[0m\u001b[1;36m4\u001b[0m\u001b[1;33m,\u001b[0m \u001b[1;36m6\u001b[0m\u001b[1;33m,\u001b[0m \u001b[1;36m7\u001b[0m\u001b[1;33m,\u001b[0m \u001b[1;36m8\u001b[0m\u001b[1;33m,\u001b[0m \u001b[1;36m2\u001b[0m\u001b[1;33m]\u001b[0m\u001b[1;33m]\u001b[0m\u001b[1;33m,\u001b[0m\u001b[1;33m[\u001b[0m\u001b[1;33m[\u001b[0m\u001b[1;36m4\u001b[0m\u001b[1;33m,\u001b[0m \u001b[1;36m6\u001b[0m\u001b[1;33m,\u001b[0m \u001b[1;36m7\u001b[0m\u001b[1;33m,\u001b[0m \u001b[1;36m8\u001b[0m\u001b[1;33m,\u001b[0m \u001b[1;36m2\u001b[0m\u001b[1;33m]\u001b[0m\u001b[1;33m]\u001b[0m\u001b[1;33m)\u001b[0m\u001b[1;33m\u001b[0m\u001b[1;33m\u001b[0m\u001b[0m\n\u001b[0m\u001b[0;32m     10\u001b[0m \u001b[1;31m#d. 5-D array with one 1-D array\u001b[0m\u001b[1;33m\u001b[0m\u001b[1;33m\u001b[0m\u001b[0m\n\u001b[0;32m     11\u001b[0m \u001b[0mk4\u001b[0m \u001b[1;33m=\u001b[0m \u001b[0mnp\u001b[0m\u001b[1;33m.\u001b[0m\u001b[0marray\u001b[0m\u001b[1;33m(\u001b[0m\u001b[1;33m[\u001b[0m\u001b[1;33m[\u001b[0m\u001b[1;33m[\u001b[0m\u001b[1;33m[\u001b[0m\u001b[1;33m[\u001b[0m\u001b[1;36m4\u001b[0m\u001b[1;33m,\u001b[0m \u001b[1;36m6\u001b[0m\u001b[1;33m,\u001b[0m \u001b[1;36m7\u001b[0m\u001b[1;33m,\u001b[0m \u001b[1;36m8\u001b[0m\u001b[1;33m,\u001b[0m \u001b[1;36m2\u001b[0m\u001b[1;33m]\u001b[0m\u001b[1;33m]\u001b[0m\u001b[1;33m]\u001b[0m\u001b[1;33m]\u001b[0m\u001b[1;33m]\u001b[0m\u001b[1;33m)\u001b[0m\u001b[1;33m\u001b[0m\u001b[1;33m\u001b[0m\u001b[0m\n",
      "\u001b[1;31mTypeError\u001b[0m: array() takes from 1 to 2 positional arguments but 3 were given"
     ]
    }
   ],
   "source": [
    "#2. Using 4,6,7,8,2 help create the following \n",
    "#(repetition of data is allowed):\n",
    "\n",
    "#a. 1-D array\n",
    "k1 = np.array([4, 6, 7, 8, 2])\n",
    "#b. 2-D array\n",
    "k2 = np.array([[4, 6, 7, 8, 2]])\n",
    "\n",
    "\n",
    "#c. 2-D array with three 2-D array (not fucking possible)\n",
    "k3 = np.array([[4, 6, 7, 8, 2]],[[4, 6, 7, 8, 2]],[[4, 6, 7, 8, 2]])\n",
    "\n",
    "\n",
    "\n",
    "\n",
    "#d. 5-D array with one 1-D array\n",
    "k4 = np.array([[[[[4, 6, 7, 8, 2]]]]])\n",
    "#e. 5-D array with two 1-D array\n",
    "k5 = np.array([[[[[4, 6, 7, 8, 2],[4, 6, 7, 8, 2]]]]])\n",
    "#f. 5-D array with two 3-D array\n",
    "k6 = np.array([[[[[4, 6, 7, 8, 2]]],[[[4, 6, 7, 8, 2]]]]])"
   ]
  },
  {
   "cell_type": "code",
   "execution_count": 2,
   "id": "6d4cd269",
   "metadata": {},
   "outputs": [],
   "source": [
    "import numpy as np\n",
    "#Create a 2-D array of zeros\n",
    "z = np.zeros(1)"
   ]
  },
  {
   "cell_type": "code",
   "execution_count": 3,
   "id": "b3cfe00a",
   "metadata": {},
   "outputs": [
    {
     "name": "stdout",
     "output_type": "stream",
     "text": [
      "[0.]\n"
     ]
    }
   ],
   "source": [
    "print(z\n",
    "     )"
   ]
  },
  {
   "cell_type": "code",
   "execution_count": 4,
   "id": "73c43213",
   "metadata": {},
   "outputs": [
    {
     "name": "stdout",
     "output_type": "stream",
     "text": [
      "[0. 0.]\n"
     ]
    }
   ],
   "source": [
    "z1 = np.zeros(2)\n",
    "print(z1)"
   ]
  },
  {
   "cell_type": "code",
   "execution_count": 5,
   "id": "a6b16389",
   "metadata": {},
   "outputs": [],
   "source": [
    "z2 = np.zeros((2, 2))"
   ]
  },
  {
   "cell_type": "code",
   "execution_count": 6,
   "id": "bc4e94d2",
   "metadata": {},
   "outputs": [
    {
     "name": "stdout",
     "output_type": "stream",
     "text": [
      "[[0. 0.]\n",
      " [0. 0.]]\n"
     ]
    }
   ],
   "source": [
    "print(z2)"
   ]
  },
  {
   "cell_type": "code",
   "execution_count": 7,
   "id": "db05c468",
   "metadata": {},
   "outputs": [
    {
     "name": "stdout",
     "output_type": "stream",
     "text": [
      "[[0. 0. 0. 0.]\n",
      " [0. 0. 0. 0.]\n",
      " [0. 0. 0. 0.]]\n"
     ]
    }
   ],
   "source": [
    "z3 = np.zeros((3, 4))\n",
    "print(z3)"
   ]
  },
  {
   "cell_type": "code",
   "execution_count": 8,
   "id": "dd5c40a7",
   "metadata": {},
   "outputs": [],
   "source": [
    "z4 = np.zeros((3, 3, 3, 5))#3 2-D(3, 5)"
   ]
  },
  {
   "cell_type": "code",
   "execution_count": 9,
   "id": "586f210f",
   "metadata": {},
   "outputs": [
    {
     "name": "stdout",
     "output_type": "stream",
     "text": [
      "[[[[0. 0. 0. 0. 0.]\n",
      "   [0. 0. 0. 0. 0.]\n",
      "   [0. 0. 0. 0. 0.]]\n",
      "\n",
      "  [[0. 0. 0. 0. 0.]\n",
      "   [0. 0. 0. 0. 0.]\n",
      "   [0. 0. 0. 0. 0.]]\n",
      "\n",
      "  [[0. 0. 0. 0. 0.]\n",
      "   [0. 0. 0. 0. 0.]\n",
      "   [0. 0. 0. 0. 0.]]]\n",
      "\n",
      "\n",
      " [[[0. 0. 0. 0. 0.]\n",
      "   [0. 0. 0. 0. 0.]\n",
      "   [0. 0. 0. 0. 0.]]\n",
      "\n",
      "  [[0. 0. 0. 0. 0.]\n",
      "   [0. 0. 0. 0. 0.]\n",
      "   [0. 0. 0. 0. 0.]]\n",
      "\n",
      "  [[0. 0. 0. 0. 0.]\n",
      "   [0. 0. 0. 0. 0.]\n",
      "   [0. 0. 0. 0. 0.]]]\n",
      "\n",
      "\n",
      " [[[0. 0. 0. 0. 0.]\n",
      "   [0. 0. 0. 0. 0.]\n",
      "   [0. 0. 0. 0. 0.]]\n",
      "\n",
      "  [[0. 0. 0. 0. 0.]\n",
      "   [0. 0. 0. 0. 0.]\n",
      "   [0. 0. 0. 0. 0.]]\n",
      "\n",
      "  [[0. 0. 0. 0. 0.]\n",
      "   [0. 0. 0. 0. 0.]\n",
      "   [0. 0. 0. 0. 0.]]]]\n"
     ]
    }
   ],
   "source": [
    "print(z4)"
   ]
  },
  {
   "cell_type": "code",
   "execution_count": 10,
   "id": "75965ec0",
   "metadata": {},
   "outputs": [],
   "source": [
    "#create array of one\n",
    "arr = np.ones(4)"
   ]
  },
  {
   "cell_type": "code",
   "execution_count": 11,
   "id": "26795013",
   "metadata": {},
   "outputs": [
    {
     "name": "stdout",
     "output_type": "stream",
     "text": [
      "[1. 1. 1. 1.]\n"
     ]
    }
   ],
   "source": [
    "print(arr)"
   ]
  },
  {
   "cell_type": "code",
   "execution_count": 12,
   "id": "dd60849d",
   "metadata": {},
   "outputs": [],
   "source": [
    "arr = np.ones((4, 3))"
   ]
  },
  {
   "cell_type": "code",
   "execution_count": 13,
   "id": "5f6d880f",
   "metadata": {},
   "outputs": [
    {
     "name": "stdout",
     "output_type": "stream",
     "text": [
      "[[1. 1. 1.]\n",
      " [1. 1. 1.]\n",
      " [1. 1. 1.]\n",
      " [1. 1. 1.]]\n"
     ]
    }
   ],
   "source": [
    "print(arr)"
   ]
  },
  {
   "cell_type": "code",
   "execution_count": 14,
   "id": "a908d569",
   "metadata": {},
   "outputs": [
    {
     "data": {
      "text/plain": [
       "array([1.07101343e-311, 0.00000000e+000, 5.26280258e+170])"
      ]
     },
     "execution_count": 14,
     "metadata": {},
     "output_type": "execute_result"
    }
   ],
   "source": [
    "#create array with empty value\n",
    "np.empty(3)"
   ]
  },
  {
   "cell_type": "code",
   "execution_count": 15,
   "id": "7fecace3",
   "metadata": {},
   "outputs": [
    {
     "data": {
      "text/plain": [
       "array([ 0,  1,  2,  3,  4,  5,  6,  7,  8,  9, 10])"
      ]
     },
     "execution_count": 15,
     "metadata": {},
     "output_type": "execute_result"
    }
   ],
   "source": [
    "#Create 1_d array with a range of values for 1o to 20 wwith 2 step\n",
    "np.arange(0, 11) "
   ]
  },
  {
   "cell_type": "code",
   "execution_count": 16,
   "id": "ebc29982",
   "metadata": {},
   "outputs": [
    {
     "data": {
      "text/plain": [
       "array([ 0,  2,  4,  6,  8, 10])"
      ]
     },
     "execution_count": 16,
     "metadata": {},
     "output_type": "execute_result"
    }
   ],
   "source": [
    "np.arange(0, 11, 2)#2 is the distance between each number cal from the start"
   ]
  },
  {
   "cell_type": "code",
   "execution_count": 17,
   "id": "fde6fe18",
   "metadata": {},
   "outputs": [
    {
     "name": "stdout",
     "output_type": "stream",
     "text": [
      "[10 12 14 16 18 20]\n"
     ]
    }
   ],
   "source": [
    "ar = np.arange(10, 21, 2)\n",
    "print(ar)"
   ]
  },
  {
   "cell_type": "code",
   "execution_count": 19,
   "id": "0741c6c0",
   "metadata": {},
   "outputs": [
    {
     "name": "stdout",
     "output_type": "stream",
     "text": [
      "[1.         1.28571429 1.57142857 1.85714286 2.14285714 2.42857143\n",
      " 2.71428571 3.         3.28571429 3.57142857 3.85714286 4.14285714\n",
      " 4.42857143 4.71428571 5.        ]\n"
     ]
    }
   ],
   "source": [
    "#get x number of values in a 1_D array from a range of numbers\n",
    "arrs = np.linspace(1, 5, num=15)#start from 1, end at 5 with 15 numbers in between\n",
    "print(arrs)"
   ]
  },
  {
   "cell_type": "code",
   "execution_count": 20,
   "id": "cdd2e467",
   "metadata": {},
   "outputs": [],
   "source": [
    "#other way to reshape an array\n",
    "a = np.array([9, 1, 3, 4, 5, 6, 7, 8])"
   ]
  },
  {
   "cell_type": "code",
   "execution_count": 22,
   "id": "7872f06f",
   "metadata": {},
   "outputs": [
    {
     "name": "stdout",
     "output_type": "stream",
     "text": [
      "[[9 1]\n",
      " [3 4]\n",
      " [5 6]\n",
      " [7 8]]\n"
     ]
    }
   ],
   "source": [
    "a = np.reshape(a, newshape = (4, 2), order = 'C')#C means C programming language\n",
    "print(a)"
   ]
  },
  {
   "cell_type": "code",
   "execution_count": 23,
   "id": "f3fee999",
   "metadata": {},
   "outputs": [],
   "source": [
    "#get the attributes of ndarray\n",
    "a = np.array([9, 1, 3, 4, 5, 6, 7, 8])"
   ]
  },
  {
   "cell_type": "code",
   "execution_count": 24,
   "id": "6a023431",
   "metadata": {},
   "outputs": [
    {
     "data": {
      "text/plain": [
       "1"
      ]
     },
     "execution_count": 24,
     "metadata": {},
     "output_type": "execute_result"
    }
   ],
   "source": [
    "a.ndim"
   ]
  },
  {
   "cell_type": "code",
   "execution_count": 25,
   "id": "66385a8c",
   "metadata": {},
   "outputs": [
    {
     "data": {
      "text/plain": [
       "(8,)"
      ]
     },
     "execution_count": 25,
     "metadata": {},
     "output_type": "execute_result"
    }
   ],
   "source": [
    "#shape of an array\n",
    "a.shape"
   ]
  },
  {
   "cell_type": "code",
   "execution_count": 26,
   "id": "b7760b72",
   "metadata": {},
   "outputs": [
    {
     "data": {
      "text/plain": [
       "(2, 3)"
      ]
     },
     "execution_count": 26,
     "metadata": {},
     "output_type": "execute_result"
    }
   ],
   "source": [
    "b = np.array([[1, 2, 3],[1, 2, 3]])\n",
    "b.shape #2 rows 3 columns"
   ]
  },
  {
   "cell_type": "code",
   "execution_count": 27,
   "id": "f69e6dbf",
   "metadata": {},
   "outputs": [
    {
     "name": "stdout",
     "output_type": "stream",
     "text": [
      "[[1 2 3]\n",
      " [1 2 3]]\n"
     ]
    }
   ],
   "source": [
    "print(b)"
   ]
  },
  {
   "cell_type": "code",
   "execution_count": 28,
   "id": "5174bf24",
   "metadata": {},
   "outputs": [
    {
     "name": "stdout",
     "output_type": "stream",
     "text": [
      "[[[1 2 3]\n",
      "  [1 2 3]\n",
      "  [1 2 3]]]\n"
     ]
    }
   ],
   "source": [
    "c = np.array([[[1, 2, 3],[1, 2, 3],[1, 2, 3]]])\n",
    "c.shape\n",
    "print(c)"
   ]
  },
  {
   "cell_type": "code",
   "execution_count": 29,
   "id": "8650f3de",
   "metadata": {},
   "outputs": [
    {
     "data": {
      "text/plain": [
       "(1, 3, 3)"
      ]
     },
     "execution_count": 29,
     "metadata": {},
     "output_type": "execute_result"
    }
   ],
   "source": [
    "c.shape #from right to left: #3 columns 3 rows 1 3-D array"
   ]
  },
  {
   "cell_type": "code",
   "execution_count": 30,
   "id": "4e9f8406",
   "metadata": {},
   "outputs": [
    {
     "data": {
      "text/plain": [
       "8"
      ]
     },
     "execution_count": 30,
     "metadata": {},
     "output_type": "execute_result"
    }
   ],
   "source": [
    "#number of elements\n",
    "a.size\n"
   ]
  },
  {
   "cell_type": "code",
   "execution_count": 31,
   "id": "bcd8b683",
   "metadata": {},
   "outputs": [
    {
     "data": {
      "text/plain": [
       "6"
      ]
     },
     "execution_count": 31,
     "metadata": {},
     "output_type": "execute_result"
    }
   ],
   "source": [
    "b.size"
   ]
  },
  {
   "cell_type": "code",
   "execution_count": 32,
   "id": "9bc60d7f",
   "metadata": {},
   "outputs": [
    {
     "data": {
      "text/plain": [
       "dtype('int32')"
      ]
     },
     "execution_count": 32,
     "metadata": {},
     "output_type": "execute_result"
    }
   ],
   "source": [
    "#itemsize: The in the batch of each element of the sth??\n",
    "a.dtype\n"
   ]
  },
  {
   "cell_type": "code",
   "execution_count": 34,
   "id": "5319c158",
   "metadata": {},
   "outputs": [
    {
     "data": {
      "text/plain": [
       "4"
      ]
     },
     "execution_count": 34,
     "metadata": {},
     "output_type": "execute_result"
    }
   ],
   "source": [
    "a.itemsize      #32 : 8 = 4"
   ]
  },
  {
   "cell_type": "code",
   "execution_count": 35,
   "id": "25b3be02",
   "metadata": {},
   "outputs": [
    {
     "data": {
      "text/plain": [
       "<memory at 0x000001F8B902EEC0>"
      ]
     },
     "execution_count": 35,
     "metadata": {},
     "output_type": "execute_result"
    }
   ],
   "source": [
    "#complex :8\n",
    "#location in the memory\n",
    "a.data\n"
   ]
  },
  {
   "cell_type": "code",
   "execution_count": 36,
   "id": "75d00cde",
   "metadata": {},
   "outputs": [
    {
     "data": {
      "text/plain": [
       "<memory at 0x000001F8C06FA260>"
      ]
     },
     "execution_count": 36,
     "metadata": {},
     "output_type": "execute_result"
    }
   ],
   "source": [
    "b.data"
   ]
  },
  {
   "cell_type": "code",
   "execution_count": 1,
   "id": "11e427bf",
   "metadata": {},
   "outputs": [],
   "source": [
    "import numpy as np\n"
   ]
  },
  {
   "cell_type": "code",
   "execution_count": 3,
   "id": "c3c60a2e",
   "metadata": {},
   "outputs": [
    {
     "data": {
      "text/plain": [
       "array([3, 4, 6, 6, 7, 8])"
      ]
     },
     "execution_count": 3,
     "metadata": {},
     "output_type": "execute_result"
    }
   ],
   "source": [
    "#Array sorting in order of mangnitude\n",
    "a = np.array([8, 6, 7, 6, 3, 4])\n",
    "np.sort(a)"
   ]
  },
  {
   "cell_type": "code",
   "execution_count": 4,
   "id": "298d6e50",
   "metadata": {},
   "outputs": [
    {
     "name": "stdout",
     "output_type": "stream",
     "text": [
      "[3 4 6 6 7 8]\n"
     ]
    }
   ],
   "source": [
    "print(np.sort(a))"
   ]
  },
  {
   "cell_type": "code",
   "execution_count": 5,
   "id": "b9908d2a",
   "metadata": {},
   "outputs": [],
   "source": [
    "#Array concatenation: Nối array\n",
    "a = np.array([8, 6, 7, 4, 3])\n",
    "b = np.array([12, 34, 15, 26, 41])\n"
   ]
  },
  {
   "cell_type": "code",
   "execution_count": 6,
   "id": "eafe32f9",
   "metadata": {},
   "outputs": [],
   "source": [
    "c = np.concatenate((a, b))"
   ]
  },
  {
   "cell_type": "code",
   "execution_count": 7,
   "id": "ae27caf0",
   "metadata": {},
   "outputs": [
    {
     "name": "stdout",
     "output_type": "stream",
     "text": [
      "[ 8  6  7  4  3 12 34 15 26 41]\n"
     ]
    }
   ],
   "source": [
    "print(c)"
   ]
  },
  {
   "cell_type": "code",
   "execution_count": 11,
   "id": "cb9baaff",
   "metadata": {},
   "outputs": [],
   "source": [
    "x = np.array([[8, 6, 9], [7, 4, 5], [3, 2, 1]])\n",
    "y = np.array([[12, 34, 15], [26, 41, 59], [13, 21, 27]])"
   ]
  },
  {
   "cell_type": "code",
   "execution_count": 16,
   "id": "4c72b883",
   "metadata": {},
   "outputs": [
    {
     "name": "stdout",
     "output_type": "stream",
     "text": [
      "[[ 8  6  9 12 34 15]\n",
      " [ 7  4  5 26 41 59]\n",
      " [ 3  2  1 13 21 27]]\n"
     ]
    }
   ],
   "source": [
    "z = np.concatenate((x, y), axis=1)#x and y must have the same numbẻ of elements\n",
    "print(z)"
   ]
  },
  {
   "cell_type": "code",
   "execution_count": 17,
   "id": "85c93b1b",
   "metadata": {},
   "outputs": [
    {
     "name": "stdout",
     "output_type": "stream",
     "text": [
      "[[ 8  6  9]\n",
      " [ 7  4  5]\n",
      " [ 3  2  1]\n",
      " [12 34 15]\n",
      " [26 41 59]\n",
      " [13 21 27]]\n"
     ]
    }
   ],
   "source": [
    "#axis = 0: by row\n",
    "#axis = 1: by column\n",
    "z1 = np.concatenate((x, y), axis=0)\n",
    "print(z1)"
   ]
  },
  {
   "cell_type": "code",
   "execution_count": 18,
   "id": "52485d9a",
   "metadata": {},
   "outputs": [
    {
     "name": "stdout",
     "output_type": "stream",
     "text": [
      "4\n"
     ]
    }
   ],
   "source": [
    "#idexing and slicing\n",
    "a = np.array([8, 6, 7, 4, 3])\n",
    "#             -5 -4 -3 -2 -1\n",
    "print(a[3])"
   ]
  },
  {
   "cell_type": "code",
   "execution_count": 19,
   "id": "f40849e5",
   "metadata": {},
   "outputs": [
    {
     "name": "stdout",
     "output_type": "stream",
     "text": [
      "6\n"
     ]
    }
   ],
   "source": [
    "print(a[-4])"
   ]
  },
  {
   "cell_type": "code",
   "execution_count": 20,
   "id": "5c6355ae",
   "metadata": {},
   "outputs": [
    {
     "data": {
      "text/plain": [
       "array([8, 6, 7, 4, 3])"
      ]
     },
     "execution_count": 20,
     "metadata": {},
     "output_type": "execute_result"
    }
   ],
   "source": [
    "a"
   ]
  },
  {
   "cell_type": "code",
   "execution_count": 22,
   "id": "0cb10822",
   "metadata": {},
   "outputs": [
    {
     "data": {
      "text/plain": [
       "array([6, 7, 4])"
      ]
     },
     "execution_count": 22,
     "metadata": {},
     "output_type": "execute_result"
    }
   ],
   "source": [
    "a[1:4]#start at index 1 stop before index 4"
   ]
  },
  {
   "cell_type": "code",
   "execution_count": 23,
   "id": "698358b4",
   "metadata": {},
   "outputs": [
    {
     "data": {
      "text/plain": [
       "array([8, 6, 7, 4, 3])"
      ]
     },
     "execution_count": 23,
     "metadata": {},
     "output_type": "execute_result"
    }
   ],
   "source": [
    "#print everything\n",
    "a[:]"
   ]
  },
  {
   "cell_type": "code",
   "execution_count": 24,
   "id": "a60b761a",
   "metadata": {},
   "outputs": [
    {
     "data": {
      "text/plain": [
       "array([6, 7, 4, 3])"
      ]
     },
     "execution_count": 24,
     "metadata": {},
     "output_type": "execute_result"
    }
   ],
   "source": [
    "a[1:]#from index to end"
   ]
  },
  {
   "cell_type": "code",
   "execution_count": 25,
   "id": "c4b7ddfc",
   "metadata": {},
   "outputs": [
    {
     "data": {
      "text/plain": [
       "array([8, 6, 7, 4])"
      ]
     },
     "execution_count": 25,
     "metadata": {},
     "output_type": "execute_result"
    }
   ],
   "source": [
    "a[:4]#from start to index"
   ]
  },
  {
   "cell_type": "code",
   "execution_count": 26,
   "id": "8eac40be",
   "metadata": {},
   "outputs": [
    {
     "data": {
      "text/plain": [
       "array([4, 3])"
      ]
     },
     "execution_count": 26,
     "metadata": {},
     "output_type": "execute_result"
    }
   ],
   "source": [
    "a[-2:] #from -2 to the end"
   ]
  },
  {
   "cell_type": "code",
   "execution_count": 27,
   "id": "1f754def",
   "metadata": {},
   "outputs": [
    {
     "data": {
      "text/plain": [
       "array([8, 6, 7])"
      ]
     },
     "execution_count": 27,
     "metadata": {},
     "output_type": "execute_result"
    }
   ],
   "source": [
    "a[0: -2]"
   ]
  },
  {
   "cell_type": "code",
   "execution_count": 1,
   "id": "515210a3",
   "metadata": {},
   "outputs": [],
   "source": [
    "#common rule x:y means from index x to index y(even minus number)"
   ]
  },
  {
   "cell_type": "code",
   "execution_count": 2,
   "id": "61de954b",
   "metadata": {},
   "outputs": [],
   "source": [
    "#select number less, greater or equal than given number\n",
    "import numpy as np\n",
    "a = np.array([4, 6, 17, 8, 9, 3, 15, 27])\n"
   ]
  },
  {
   "cell_type": "code",
   "execution_count": 3,
   "id": "82f0e7b8",
   "metadata": {},
   "outputs": [
    {
     "name": "stdout",
     "output_type": "stream",
     "text": [
      "[4 6 8 9 3]\n"
     ]
    }
   ],
   "source": [
    "print(a[a<10])"
   ]
  },
  {
   "cell_type": "code",
   "execution_count": 5,
   "id": "ebf45ecf",
   "metadata": {},
   "outputs": [
    {
     "name": "stdout",
     "output_type": "stream",
     "text": [
      "[ 4  6  8  9  3 15]\n"
     ]
    }
   ],
   "source": [
    "print(a[a<=15])"
   ]
  },
  {
   "cell_type": "code",
   "execution_count": 6,
   "id": "c6273a50",
   "metadata": {},
   "outputs": [
    {
     "name": "stdout",
     "output_type": "stream",
     "text": [
      "[17  9 15 27]\n"
     ]
    }
   ],
   "source": [
    "print(a[a>=9])"
   ]
  },
  {
   "cell_type": "code",
   "execution_count": 7,
   "id": "d39a7862",
   "metadata": {},
   "outputs": [
    {
     "name": "stdout",
     "output_type": "stream",
     "text": [
      "[4 6 8]\n"
     ]
    }
   ],
   "source": [
    "#select even  numbers\n",
    "print(a[a%2==0])"
   ]
  },
  {
   "cell_type": "code",
   "execution_count": 8,
   "id": "1badb76c",
   "metadata": {},
   "outputs": [
    {
     "name": "stdout",
     "output_type": "stream",
     "text": [
      "[17  9  3 15 27]\n"
     ]
    }
   ],
   "source": [
    "#select odd numbers\n",
    "print(a[a%2==1])"
   ]
  },
  {
   "cell_type": "code",
   "execution_count": 1,
   "id": "d4e8d521",
   "metadata": {},
   "outputs": [],
   "source": [
    "#select elements that satisfy two conditions\n",
    "#select number less, greater or equal than given number\n",
    "import numpy as np\n",
    "a = np.array([4, 6, 17, 8, 9, 3, 15, 27])\n"
   ]
  },
  {
   "cell_type": "code",
   "execution_count": 3,
   "id": "0f98bd4f",
   "metadata": {},
   "outputs": [
    {
     "name": "stdout",
     "output_type": "stream",
     "text": [
      "[ 4 17  3 15 27]\n"
     ]
    }
   ],
   "source": [
    "print(a[(a<5) | (a>12)]) #or"
   ]
  },
  {
   "cell_type": "code",
   "execution_count": 5,
   "id": "877904b2",
   "metadata": {},
   "outputs": [
    {
     "name": "stdout",
     "output_type": "stream",
     "text": [
      "[6 8 9]\n"
     ]
    }
   ],
   "source": [
    "print(a[(a>4)&(a<13)]) #and"
   ]
  },
  {
   "cell_type": "code",
   "execution_count": 6,
   "id": "bc38f625",
   "metadata": {},
   "outputs": [
    {
     "name": "stdout",
     "output_type": "stream",
     "text": [
      "[3]\n"
     ]
    }
   ],
   "source": [
    "print(a[(a<4) | (a==13)])"
   ]
  },
  {
   "cell_type": "code",
   "execution_count": 8,
   "id": "c079344d",
   "metadata": {},
   "outputs": [],
   "source": [
    "r = (a<4) | (a==13)"
   ]
  },
  {
   "cell_type": "code",
   "execution_count": 9,
   "id": "8901ee13",
   "metadata": {},
   "outputs": [
    {
     "name": "stdout",
     "output_type": "stream",
     "text": [
      "[False False False False False  True False False]\n"
     ]
    }
   ],
   "source": [
    "print(r)"
   ]
  },
  {
   "cell_type": "code",
   "execution_count": 10,
   "id": "c896b25d",
   "metadata": {},
   "outputs": [
    {
     "data": {
      "text/plain": [
       "array([ 4,  6, 17,  8,  9,  3, 15, 27])"
      ]
     },
     "execution_count": 10,
     "metadata": {},
     "output_type": "execute_result"
    }
   ],
   "source": [
    "a"
   ]
  },
  {
   "cell_type": "code",
   "execution_count": null,
   "id": "eedc39e9",
   "metadata": {},
   "outputs": [],
   "source": [
    "#select elements of 2-D array"
   ]
  },
  {
   "cell_type": "code",
   "execution_count": 12,
   "id": "55aa6e7d",
   "metadata": {},
   "outputs": [],
   "source": [
    "import numpy as np\n",
    "t = np.array([[3, 4, 6, 7], [1, 8, 9, 2], [12, 13, 14, 20]])"
   ]
  },
  {
   "cell_type": "code",
   "execution_count": 13,
   "id": "8a88de46",
   "metadata": {},
   "outputs": [
    {
     "name": "stdout",
     "output_type": "stream",
     "text": [
      "[[ 3  4  6  7]\n",
      " [ 1  8  9  2]\n",
      " [12 13 14 20]]\n"
     ]
    }
   ],
   "source": [
    "print(t)"
   ]
  },
  {
   "cell_type": "code",
   "execution_count": 14,
   "id": "605a941b",
   "metadata": {},
   "outputs": [
    {
     "name": "stdout",
     "output_type": "stream",
     "text": [
      "8\n"
     ]
    }
   ],
   "source": [
    "print(t[1][1])"
   ]
  },
  {
   "cell_type": "code",
   "execution_count": 15,
   "id": "eb79412e",
   "metadata": {},
   "outputs": [
    {
     "name": "stdout",
     "output_type": "stream",
     "text": [
      "2\n"
     ]
    }
   ],
   "source": [
    "print(t[1][3])"
   ]
  },
  {
   "cell_type": "code",
   "execution_count": 16,
   "id": "ae58e684",
   "metadata": {},
   "outputs": [
    {
     "name": "stdout",
     "output_type": "stream",
     "text": [
      "[[4 6]\n",
      " [8 9]]\n"
     ]
    }
   ],
   "source": [
    "#slicing in 2-D array\n",
    "#[start row index:end row index, start row column:end row column]\n",
    "print(t[0:2,1:3])"
   ]
  },
  {
   "cell_type": "code",
   "execution_count": 17,
   "id": "73921814",
   "metadata": {},
   "outputs": [
    {
     "name": "stdout",
     "output_type": "stream",
     "text": [
      "[[13 14 20]]\n"
     ]
    }
   ],
   "source": [
    "print(t[2:3,1:4])"
   ]
  },
  {
   "cell_type": "code",
   "execution_count": 1,
   "id": "54d843a3",
   "metadata": {},
   "outputs": [],
   "source": [
    "#select elements from 3_d array\n",
    "import numpy as np\n",
    "z = np.arange(72).reshape(3, 4, 6)"
   ]
  },
  {
   "cell_type": "code",
   "execution_count": 3,
   "id": "faaa3e71",
   "metadata": {},
   "outputs": [
    {
     "name": "stdout",
     "output_type": "stream",
     "text": [
      "[[[ 0  1  2  3  4  5]\n",
      "  [ 6  7  8  9 10 11]\n",
      "  [12 13 14 15 16 17]\n",
      "  [18 19 20 21 22 23]]\n",
      "\n",
      " [[24 25 26 27 28 29]\n",
      "  [30 31 32 33 34 35]\n",
      "  [36 37 38 39 40 41]\n",
      "  [42 43 44 45 46 47]]\n",
      "\n",
      " [[48 49 50 51 52 53]\n",
      "  [54 55 56 57 58 59]\n",
      "  [60 61 62 63 64 65]\n",
      "  [66 67 68 69 70 71]]]\n"
     ]
    }
   ],
   "source": [
    "print(z)"
   ]
  },
  {
   "cell_type": "code",
   "execution_count": 4,
   "id": "afea8800",
   "metadata": {},
   "outputs": [
    {
     "data": {
      "text/plain": [
       "array([[ 0,  1,  2,  3,  4,  5],\n",
       "       [ 6,  7,  8,  9, 10, 11],\n",
       "       [12, 13, 14, 15, 16, 17],\n",
       "       [18, 19, 20, 21, 22, 23]])"
      ]
     },
     "execution_count": 4,
     "metadata": {},
     "output_type": "execute_result"
    }
   ],
   "source": [
    "z[0]"
   ]
  },
  {
   "cell_type": "code",
   "execution_count": 5,
   "id": "e0515b0a",
   "metadata": {},
   "outputs": [
    {
     "data": {
      "text/plain": [
       "array([[24, 25, 26, 27, 28, 29],\n",
       "       [30, 31, 32, 33, 34, 35],\n",
       "       [36, 37, 38, 39, 40, 41],\n",
       "       [42, 43, 44, 45, 46, 47]])"
      ]
     },
     "execution_count": 5,
     "metadata": {},
     "output_type": "execute_result"
    }
   ],
   "source": [
    "z[1]"
   ]
  },
  {
   "cell_type": "code",
   "execution_count": 6,
   "id": "52718586",
   "metadata": {},
   "outputs": [
    {
     "data": {
      "text/plain": [
       "38"
      ]
     },
     "execution_count": 6,
     "metadata": {},
     "output_type": "execute_result"
    }
   ],
   "source": [
    "z[1][2][2]"
   ]
  },
  {
   "cell_type": "code",
   "execution_count": 7,
   "id": "2bcc1c49",
   "metadata": {},
   "outputs": [
    {
     "data": {
      "text/plain": [
       "16"
      ]
     },
     "execution_count": 7,
     "metadata": {},
     "output_type": "execute_result"
    }
   ],
   "source": [
    "z[0][2][4]"
   ]
  },
  {
   "cell_type": "code",
   "execution_count": 8,
   "id": "ee1afe4b",
   "metadata": {},
   "outputs": [
    {
     "name": "stdout",
     "output_type": "stream",
     "text": [
      "[[[ 0  1  2  3  4  5]\n",
      "  [ 6  7  8  9 10 11]\n",
      "  [12 13 14 15 16 17]\n",
      "  [18 19 20 21 22 23]]\n",
      "\n",
      " [[24 25 26 27 28 29]\n",
      "  [30 31 32 33 34 35]\n",
      "  [36 37 38 39 40 41]\n",
      "  [42 43 44 45 46 47]]\n",
      "\n",
      " [[48 49 50 51 52 53]\n",
      "  [54 55 56 57 58 59]\n",
      "  [60 61 62 63 64 65]\n",
      "  [66 67 68 69 70 71]]]\n"
     ]
    }
   ],
   "source": [
    "#slicing 3-D array\n",
    "print(z)"
   ]
  },
  {
   "cell_type": "code",
   "execution_count": 10,
   "id": "071af859",
   "metadata": {},
   "outputs": [
    {
     "data": {
      "text/plain": [
       "array([[32, 33, 34],\n",
       "       [38, 39, 40]])"
      ]
     },
     "execution_count": 10,
     "metadata": {},
     "output_type": "execute_result"
    }
   ],
   "source": [
    "z[1][1:3,2:5]#locate the big array than use 2_D method\n"
   ]
  },
  {
   "cell_type": "code",
   "execution_count": 12,
   "id": "8845cc19",
   "metadata": {},
   "outputs": [
    {
     "name": "stdout",
     "output_type": "stream",
     "text": [
      "[[60 61 62 63 64 65]\n",
      " [66 67 68 69 70 71]]\n"
     ]
    }
   ],
   "source": [
    "print(z[2][2:,:])"
   ]
  },
  {
   "cell_type": "code",
   "execution_count": 13,
   "id": "a509b476",
   "metadata": {},
   "outputs": [
    {
     "name": "stdout",
     "output_type": "stream",
     "text": [
      "[[24 25 26 27 28 29]\n",
      " [30 31 32 33 34 35]\n",
      " [36 37 38 39 40 41]\n",
      " [42 43 44 45 46 47]]\n"
     ]
    }
   ],
   "source": [
    "#deeper on 3D elements selection\n",
    "print(z[1])"
   ]
  },
  {
   "cell_type": "code",
   "execution_count": 14,
   "id": "5729cbf8",
   "metadata": {},
   "outputs": [
    {
     "name": "stdout",
     "output_type": "stream",
     "text": [
      "[36 37 38 39 40 41]\n"
     ]
    }
   ],
   "source": [
    "print(z[1][2])"
   ]
  },
  {
   "cell_type": "code",
   "execution_count": 15,
   "id": "f8789346",
   "metadata": {},
   "outputs": [
    {
     "name": "stdout",
     "output_type": "stream",
     "text": [
      "[[57 58]\n",
      " [63 64]]\n"
     ]
    }
   ],
   "source": [
    "print(z[2][1:3,3:5])"
   ]
  },
  {
   "cell_type": "code",
   "execution_count": 16,
   "id": "756e6339",
   "metadata": {},
   "outputs": [
    {
     "name": "stdout",
     "output_type": "stream",
     "text": [
      "64\n"
     ]
    }
   ],
   "source": [
    "print(z[2][1:3,3:5][1][1])"
   ]
  },
  {
   "cell_type": "code",
   "execution_count": 17,
   "id": "15002129",
   "metadata": {},
   "outputs": [
    {
     "name": "stdout",
     "output_type": "stream",
     "text": [
      "[[64]]\n"
     ]
    }
   ],
   "source": [
    "print(z[2][1:3,3:5][1:,1:])"
   ]
  },
  {
   "cell_type": "code",
   "execution_count": 18,
   "id": "97b4254a",
   "metadata": {},
   "outputs": [],
   "source": [
    "a = np.arange(1,73).reshape(3, 4, 6)"
   ]
  },
  {
   "cell_type": "code",
   "execution_count": 19,
   "id": "c3b3db3e",
   "metadata": {},
   "outputs": [
    {
     "name": "stdout",
     "output_type": "stream",
     "text": [
      "[[[ 1  2  3  4  5  6]\n",
      "  [ 7  8  9 10 11 12]\n",
      "  [13 14 15 16 17 18]\n",
      "  [19 20 21 22 23 24]]\n",
      "\n",
      " [[25 26 27 28 29 30]\n",
      "  [31 32 33 34 35 36]\n",
      "  [37 38 39 40 41 42]\n",
      "  [43 44 45 46 47 48]]\n",
      "\n",
      " [[49 50 51 52 53 54]\n",
      "  [55 56 57 58 59 60]\n",
      "  [61 62 63 64 65 66]\n",
      "  [67 68 69 70 71 72]]]\n"
     ]
    }
   ],
   "source": [
    "print(a)"
   ]
  },
  {
   "cell_type": "code",
   "execution_count": 20,
   "id": "9b0ce547",
   "metadata": {},
   "outputs": [
    {
     "name": "stdout",
     "output_type": "stream",
     "text": [
      "15\n"
     ]
    }
   ],
   "source": [
    "print(a[0, 2, 2]) #3d"
   ]
  },
  {
   "cell_type": "code",
   "execution_count": 21,
   "id": "9ec69ff4",
   "metadata": {},
   "outputs": [
    {
     "name": "stdout",
     "output_type": "stream",
     "text": [
      "15\n"
     ]
    }
   ],
   "source": [
    "print(a[0][2,2]) #2d"
   ]
  },
  {
   "cell_type": "code",
   "execution_count": 23,
   "id": "3f7f2676",
   "metadata": {},
   "outputs": [
    {
     "name": "stdout",
     "output_type": "stream",
     "text": [
      "15\n"
     ]
    }
   ],
   "source": [
    "print(a[0][2][2]) #1d"
   ]
  },
  {
   "cell_type": "code",
   "execution_count": 24,
   "id": "f90861c2",
   "metadata": {},
   "outputs": [],
   "source": [
    "#flattening an array \n",
    "#make an array from more than 2 rows to just  1 row\n",
    "a = np.array([[3, 4, 6], [5, 7, 8], [6, 8, 3]])"
   ]
  },
  {
   "cell_type": "code",
   "execution_count": 25,
   "id": "244d3f65",
   "metadata": {},
   "outputs": [
    {
     "name": "stdout",
     "output_type": "stream",
     "text": [
      "[[3 4 6]\n",
      " [5 7 8]\n",
      " [6 8 3]]\n"
     ]
    }
   ],
   "source": [
    "print(a)"
   ]
  },
  {
   "cell_type": "code",
   "execution_count": 26,
   "id": "3b390b9f",
   "metadata": {},
   "outputs": [
    {
     "name": "stdout",
     "output_type": "stream",
     "text": [
      "[3 4 6 5 7 8 6 8 3]\n"
     ]
    }
   ],
   "source": [
    "b = a.flatten()\n",
    "print(b)"
   ]
  },
  {
   "cell_type": "code",
   "execution_count": 27,
   "id": "6f4e8a16",
   "metadata": {},
   "outputs": [
    {
     "name": "stdout",
     "output_type": "stream",
     "text": [
      "[3 4 6 5 7 8 6 8 3]\n"
     ]
    }
   ],
   "source": [
    "c = a.ravel()\n",
    "print(c)"
   ]
  },
  {
   "cell_type": "code",
   "execution_count": 28,
   "id": "5e002f5d",
   "metadata": {},
   "outputs": [
    {
     "data": {
      "text/plain": [
       "3"
      ]
     },
     "execution_count": 28,
     "metadata": {},
     "output_type": "execute_result"
    }
   ],
   "source": [
    "b[0]"
   ]
  },
  {
   "cell_type": "code",
   "execution_count": 29,
   "id": "8ea25a8b",
   "metadata": {},
   "outputs": [
    {
     "name": "stdout",
     "output_type": "stream",
     "text": [
      "[77  4  6  5  7  8  6  8  3]\n"
     ]
    }
   ],
   "source": [
    "b[0] = 77\n",
    "print(b)"
   ]
  },
  {
   "cell_type": "code",
   "execution_count": 30,
   "id": "dfe16955",
   "metadata": {},
   "outputs": [
    {
     "name": "stdout",
     "output_type": "stream",
     "text": [
      "[[3 4 6]\n",
      " [5 7 8]\n",
      " [6 8 3]]\n"
     ]
    }
   ],
   "source": [
    "print(a)"
   ]
  },
  {
   "cell_type": "code",
   "execution_count": 31,
   "id": "f46bec34",
   "metadata": {},
   "outputs": [
    {
     "data": {
      "text/plain": [
       "3"
      ]
     },
     "execution_count": 31,
     "metadata": {},
     "output_type": "execute_result"
    }
   ],
   "source": [
    "c[0]"
   ]
  },
  {
   "cell_type": "code",
   "execution_count": 35,
   "id": "aaa78d2d",
   "metadata": {},
   "outputs": [],
   "source": [
    "c[0] = 888"
   ]
  },
  {
   "cell_type": "code",
   "execution_count": 36,
   "id": "7b121b79",
   "metadata": {},
   "outputs": [
    {
     "name": "stdout",
     "output_type": "stream",
     "text": [
      "888\n"
     ]
    }
   ],
   "source": [
    "print(c[0])"
   ]
  },
  {
   "cell_type": "code",
   "execution_count": 37,
   "id": "ed2c4692",
   "metadata": {},
   "outputs": [
    {
     "name": "stdout",
     "output_type": "stream",
     "text": [
      "[[888   4   6]\n",
      " [  5   7   8]\n",
      " [  6   8   3]]\n"
     ]
    }
   ],
   "source": [
    "print(a)"
   ]
  },
  {
   "cell_type": "code",
   "execution_count": 38,
   "id": "4f81d17e",
   "metadata": {},
   "outputs": [],
   "source": [
    "#ravel: c change a change\n",
    "#flatten: b change a unchange\n"
   ]
  },
  {
   "cell_type": "code",
   "execution_count": 42,
   "id": "48d983fc",
   "metadata": {},
   "outputs": [],
   "source": [
    "#column to row and row to column\n",
    "a = np.array([[3, 4, 6, 3], [5, 7, 8, 6], [6, 8, 3, 9]])"
   ]
  },
  {
   "cell_type": "code",
   "execution_count": 43,
   "id": "70a4277f",
   "metadata": {},
   "outputs": [
    {
     "name": "stdout",
     "output_type": "stream",
     "text": [
      "[[3 4 6 3]\n",
      " [5 7 8 6]\n",
      " [6 8 3 9]]\n"
     ]
    }
   ],
   "source": [
    "print(a)"
   ]
  },
  {
   "cell_type": "code",
   "execution_count": 44,
   "id": "ca6b150f",
   "metadata": {},
   "outputs": [],
   "source": [
    "x = a.transpose()"
   ]
  },
  {
   "cell_type": "code",
   "execution_count": 45,
   "id": "563cf2e8",
   "metadata": {},
   "outputs": [
    {
     "name": "stdout",
     "output_type": "stream",
     "text": [
      "[[3 5 6]\n",
      " [4 7 8]\n",
      " [6 8 3]\n",
      " [3 6 9]]\n"
     ]
    }
   ],
   "source": [
    "print(x)"
   ]
  },
  {
   "cell_type": "code",
   "execution_count": 1,
   "id": "3136b9c6",
   "metadata": {},
   "outputs": [],
   "source": [
    "#reverse an array\n",
    "import numpy as np\n",
    "a = np.array([[3, 4, 6, 3], [5, 7, 8, 6], [6, 8, 3, 9]])"
   ]
  },
  {
   "cell_type": "code",
   "execution_count": 2,
   "id": "f3f20e81",
   "metadata": {},
   "outputs": [
    {
     "name": "stdout",
     "output_type": "stream",
     "text": [
      "[[3 4 6 3]\n",
      " [5 7 8 6]\n",
      " [6 8 3 9]]\n"
     ]
    }
   ],
   "source": [
    "print(a)"
   ]
  },
  {
   "cell_type": "code",
   "execution_count": 3,
   "id": "d1a6da0d",
   "metadata": {},
   "outputs": [],
   "source": [
    "a_rev = np.flip(a)"
   ]
  },
  {
   "cell_type": "code",
   "execution_count": 4,
   "id": "832464a4",
   "metadata": {},
   "outputs": [
    {
     "name": "stdout",
     "output_type": "stream",
     "text": [
      "[[9 3 8 6]\n",
      " [6 8 7 5]\n",
      " [3 6 4 3]]\n"
     ]
    }
   ],
   "source": [
    "print(a_rev) #reverse both rows and columns"
   ]
  },
  {
   "cell_type": "code",
   "execution_count": 5,
   "id": "285c94b2",
   "metadata": {},
   "outputs": [
    {
     "name": "stdout",
     "output_type": "stream",
     "text": [
      "[[6 8 3 9]\n",
      " [5 7 8 6]\n",
      " [3 4 6 3]]\n"
     ]
    }
   ],
   "source": [
    "#reverse only along the axis\n",
    "#row\n",
    "a_rev_rows = np.flip(a, axis=0)\n",
    "print(a_rev_rows)"
   ]
  },
  {
   "cell_type": "code",
   "execution_count": 6,
   "id": "7d40363e",
   "metadata": {},
   "outputs": [
    {
     "name": "stdout",
     "output_type": "stream",
     "text": [
      "[[3 6 4 3]\n",
      " [6 8 7 5]\n",
      " [9 3 8 6]]\n"
     ]
    }
   ],
   "source": [
    "#columns\n",
    "a_rev_columns = np.flip(a, axis=1)\n",
    "print(a_rev_columns)"
   ]
  },
  {
   "cell_type": "code",
   "execution_count": 7,
   "id": "2090db86",
   "metadata": {},
   "outputs": [],
   "source": [
    "#create a unique array, not be any repetition\n",
    "x = np.array([[3, 4, 6, 3], [5, 7, 8, 6], [6, 8, 3, 9]])\n",
    "y = np.unique(x)"
   ]
  },
  {
   "cell_type": "code",
   "execution_count": 8,
   "id": "2befdb50",
   "metadata": {},
   "outputs": [
    {
     "name": "stdout",
     "output_type": "stream",
     "text": [
      "[3 4 5 6 7 8 9]\n"
     ]
    }
   ],
   "source": [
    "print(y)"
   ]
  },
  {
   "cell_type": "code",
   "execution_count": 9,
   "id": "d811b192",
   "metadata": {},
   "outputs": [],
   "source": [
    "#index a unique array\n",
    "y, ind = np.unique(x, return_index=True)"
   ]
  },
  {
   "cell_type": "code",
   "execution_count": 11,
   "id": "c1686c19",
   "metadata": {},
   "outputs": [
    {
     "name": "stdout",
     "output_type": "stream",
     "text": [
      "[ 0  1  4  2  5  6 11]\n"
     ]
    }
   ],
   "source": [
    "print(ind)"
   ]
  },
  {
   "cell_type": "code",
   "execution_count": 12,
   "id": "b8f3ed95",
   "metadata": {},
   "outputs": [
    {
     "name": "stdout",
     "output_type": "stream",
     "text": [
      "[[3 4 6 3]\n",
      " [5 7 8 6]\n",
      " [6 8 3 9]]\n"
     ]
    }
   ],
   "source": [
    "print(x)"
   ]
  },
  {
   "cell_type": "code",
   "execution_count": 13,
   "id": "99b7942f",
   "metadata": {},
   "outputs": [
    {
     "name": "stdout",
     "output_type": "stream",
     "text": [
      "3\n"
     ]
    }
   ],
   "source": [
    "#minimum\n",
    "print(x.min())"
   ]
  },
  {
   "cell_type": "code",
   "execution_count": 14,
   "id": "5ae6638e",
   "metadata": {},
   "outputs": [
    {
     "name": "stdout",
     "output_type": "stream",
     "text": [
      "9\n"
     ]
    }
   ],
   "source": [
    "#maximun\n",
    "print(x.max())"
   ]
  },
  {
   "cell_type": "code",
   "execution_count": 15,
   "id": "42d2af75",
   "metadata": {},
   "outputs": [
    {
     "name": "stdout",
     "output_type": "stream",
     "text": [
      "68\n"
     ]
    }
   ],
   "source": [
    "#sum\n",
    "print(x.sum())"
   ]
  },
  {
   "cell_type": "code",
   "execution_count": 16,
   "id": "7738aeae",
   "metadata": {},
   "outputs": [
    {
     "name": "stdout",
     "output_type": "stream",
     "text": [
      "[3 5 3]\n"
     ]
    }
   ],
   "source": [
    "#min max sum along an axis\n",
    "print(x.min(axis=1)) #vertical axis"
   ]
  },
  {
   "cell_type": "code",
   "execution_count": 17,
   "id": "80a39f83",
   "metadata": {},
   "outputs": [
    {
     "name": "stdout",
     "output_type": "stream",
     "text": [
      "[6 8 8 9]\n"
     ]
    }
   ],
   "source": [
    "print(x.max(axis=0))"
   ]
  },
  {
   "cell_type": "code",
   "execution_count": 18,
   "id": "a142f2d0",
   "metadata": {},
   "outputs": [
    {
     "name": "stdout",
     "output_type": "stream",
     "text": [
      "[14 19 17 18]\n"
     ]
    }
   ],
   "source": [
    "print(x.sum(axis=0))"
   ]
  },
  {
   "cell_type": "code",
   "execution_count": 20,
   "id": "05f99be2",
   "metadata": {},
   "outputs": [
    {
     "name": "stdout",
     "output_type": "stream",
     "text": [
      "[[1 2 3]\n",
      " [4 5 6]]\n"
     ]
    }
   ],
   "source": [
    "#stack two or more arrays together\n",
    "x = np.array([[1, 2, 3],[4, 5, 6]])\n",
    "y = np.array([[7, 8, 9],[3, 7, 9]])\n",
    "#horizontal stack key\n",
    "print(x)\n"
   ]
  },
  {
   "cell_type": "code",
   "execution_count": 21,
   "id": "a58ce810",
   "metadata": {},
   "outputs": [
    {
     "name": "stdout",
     "output_type": "stream",
     "text": [
      "[[7 8 9]\n",
      " [3 7 9]]\n"
     ]
    }
   ],
   "source": [
    "print(y)"
   ]
  },
  {
   "cell_type": "code",
   "execution_count": 22,
   "id": "df7b69ef",
   "metadata": {},
   "outputs": [
    {
     "name": "stdout",
     "output_type": "stream",
     "text": [
      "[[1 2 3 7 8 9]\n",
      " [4 5 6 3 7 9]]\n"
     ]
    }
   ],
   "source": [
    "print(np.hstack((x, y)))"
   ]
  },
  {
   "cell_type": "code",
   "execution_count": 23,
   "id": "1b2b7ef0",
   "metadata": {},
   "outputs": [
    {
     "name": "stdout",
     "output_type": "stream",
     "text": [
      "[[[1 2 3]\n",
      "  [4 5 6]]\n",
      "\n",
      " [[7 8 9]\n",
      "  [3 7 9]]]\n"
     ]
    }
   ],
   "source": [
    "#vertical stack key\n",
    "print(np.stack((x, y)))"
   ]
  },
  {
   "cell_type": "code",
   "execution_count": 24,
   "id": "d3fbb6ee",
   "metadata": {},
   "outputs": [],
   "source": [
    "#split an array into several smaller arrays\n",
    "x = np.arange(1, 49).reshape(2, 24)"
   ]
  },
  {
   "cell_type": "code",
   "execution_count": 25,
   "id": "6034dccb",
   "metadata": {},
   "outputs": [
    {
     "name": "stdout",
     "output_type": "stream",
     "text": [
      "[[ 1  2  3  4  5  6  7  8  9 10 11 12 13 14 15 16 17 18 19 20 21 22 23 24]\n",
      " [25 26 27 28 29 30 31 32 33 34 35 36 37 38 39 40 41 42 43 44 45 46 47 48]]\n"
     ]
    }
   ],
   "source": [
    "print(x)"
   ]
  },
  {
   "cell_type": "code",
   "execution_count": 26,
   "id": "940a0962",
   "metadata": {},
   "outputs": [],
   "source": [
    "a,b = np.hsplit(x, 2)\n",
    "#x: the splited target\n",
    "#2: the number of split\n",
    "#a, b two assign variable"
   ]
  },
  {
   "cell_type": "code",
   "execution_count": 27,
   "id": "f9c523f7",
   "metadata": {},
   "outputs": [
    {
     "name": "stdout",
     "output_type": "stream",
     "text": [
      "[[ 1  2  3  4  5  6  7  8  9 10 11 12]\n",
      " [25 26 27 28 29 30 31 32 33 34 35 36]]\n"
     ]
    }
   ],
   "source": [
    "print(a)"
   ]
  },
  {
   "cell_type": "code",
   "execution_count": 28,
   "id": "08088ef4",
   "metadata": {},
   "outputs": [
    {
     "name": "stdout",
     "output_type": "stream",
     "text": [
      "[[13 14 15 16 17 18 19 20 21 22 23 24]\n",
      " [37 38 39 40 41 42 43 44 45 46 47 48]]\n"
     ]
    }
   ],
   "source": [
    "print(b)"
   ]
  },
  {
   "cell_type": "code",
   "execution_count": 30,
   "id": "60cdceba",
   "metadata": {},
   "outputs": [],
   "source": [
    "#split does not follow numerical order\n",
    "i,j,k,l = np.hsplit(x, 4)"
   ]
  },
  {
   "cell_type": "code",
   "execution_count": 31,
   "id": "1599218f",
   "metadata": {},
   "outputs": [
    {
     "name": "stdout",
     "output_type": "stream",
     "text": [
      "[[ 1  2  3  4  5  6]\n",
      " [25 26 27 28 29 30]]\n"
     ]
    }
   ],
   "source": [
    "print(i)"
   ]
  },
  {
   "cell_type": "code",
   "execution_count": 32,
   "id": "d44d5d5d",
   "metadata": {},
   "outputs": [
    {
     "name": "stdout",
     "output_type": "stream",
     "text": [
      "[[ 7  8  9 10 11 12]\n",
      " [31 32 33 34 35 36]]\n"
     ]
    }
   ],
   "source": [
    "print(j)"
   ]
  },
  {
   "cell_type": "code",
   "execution_count": 33,
   "id": "d1f5079c",
   "metadata": {},
   "outputs": [
    {
     "name": "stdout",
     "output_type": "stream",
     "text": [
      "[[13 14 15 16 17 18]\n",
      " [37 38 39 40 41 42]]\n"
     ]
    }
   ],
   "source": [
    "print(k)"
   ]
  },
  {
   "cell_type": "code",
   "execution_count": 34,
   "id": "4e42c2cf",
   "metadata": {},
   "outputs": [
    {
     "name": "stdout",
     "output_type": "stream",
     "text": [
      "[[19 20 21 22 23 24]\n",
      " [43 44 45 46 47 48]]\n"
     ]
    }
   ],
   "source": [
    "print(l)"
   ]
  },
  {
   "cell_type": "code",
   "execution_count": 35,
   "id": "93bd2bef",
   "metadata": {},
   "outputs": [],
   "source": [
    "#number of split must be divisible"
   ]
  },
  {
   "cell_type": "code",
   "execution_count": 37,
   "id": "65fb9dd3",
   "metadata": {},
   "outputs": [],
   "source": [
    "#split array in a specific column\n",
    "x = np.arange(1,25).reshape(2,12)"
   ]
  },
  {
   "cell_type": "code",
   "execution_count": 38,
   "id": "885b5923",
   "metadata": {},
   "outputs": [
    {
     "name": "stdout",
     "output_type": "stream",
     "text": [
      "[[ 1  2  3  4  5  6  7  8  9 10 11 12]\n",
      " [13 14 15 16 17 18 19 20 21 22 23 24]]\n"
     ]
    }
   ],
   "source": [
    "print(x)"
   ]
  },
  {
   "cell_type": "code",
   "execution_count": 39,
   "id": "b438d7cc",
   "metadata": {},
   "outputs": [
    {
     "name": "stdout",
     "output_type": "stream",
     "text": [
      "[[ 1  2]\n",
      " [13 14]]\n"
     ]
    }
   ],
   "source": [
    "a,b,c = np.hsplit(x, (2,3))\n",
    "print(a)"
   ]
  },
  {
   "cell_type": "code",
   "execution_count": 40,
   "id": "af3ee462",
   "metadata": {},
   "outputs": [
    {
     "name": "stdout",
     "output_type": "stream",
     "text": [
      "[[ 3]\n",
      " [15]]\n"
     ]
    }
   ],
   "source": [
    "print(b)"
   ]
  },
  {
   "cell_type": "code",
   "execution_count": 41,
   "id": "a066cf55",
   "metadata": {},
   "outputs": [
    {
     "name": "stdout",
     "output_type": "stream",
     "text": [
      "[[ 4  5  6  7  8  9 10 11 12]\n",
      " [16 17 18 19 20 21 22 23 24]]\n"
     ]
    }
   ],
   "source": [
    "print(c)"
   ]
  },
  {
   "cell_type": "code",
   "execution_count": 3,
   "id": "01598845",
   "metadata": {},
   "outputs": [],
   "source": [
    "#copy an array or elements of an array\n",
    "import numpy as np\n",
    "a = np.arange(1,13).reshape(3, 4)"
   ]
  },
  {
   "cell_type": "code",
   "execution_count": 4,
   "id": "a589ba24",
   "metadata": {},
   "outputs": [
    {
     "name": "stdout",
     "output_type": "stream",
     "text": [
      "[[ 1  2  3  4]\n",
      " [ 5  6  7  8]\n",
      " [ 9 10 11 12]]\n"
     ]
    }
   ],
   "source": [
    "print(a)"
   ]
  },
  {
   "cell_type": "code",
   "execution_count": 5,
   "id": "375b46d8",
   "metadata": {},
   "outputs": [
    {
     "name": "stdout",
     "output_type": "stream",
     "text": [
      "[[ 1  2  3  4]\n",
      " [ 5  6  7  8]\n",
      " [ 9 10 11 12]]\n"
     ]
    }
   ],
   "source": [
    "b = a.copy() #deep copy\n",
    "print(b)"
   ]
  },
  {
   "cell_type": "code",
   "execution_count": 6,
   "id": "e02248aa",
   "metadata": {},
   "outputs": [],
   "source": [
    "#copy row\n",
    "c = a[1]"
   ]
  },
  {
   "cell_type": "code",
   "execution_count": 7,
   "id": "34753b80",
   "metadata": {},
   "outputs": [
    {
     "name": "stdout",
     "output_type": "stream",
     "text": [
      "[5 6 7 8]\n"
     ]
    }
   ],
   "source": [
    "print(c) #shallow copy=view"
   ]
  },
  {
   "cell_type": "code",
   "execution_count": 8,
   "id": "30108b82",
   "metadata": {},
   "outputs": [],
   "source": [
    "b[0,0] = 333"
   ]
  },
  {
   "cell_type": "code",
   "execution_count": 9,
   "id": "9f903b31",
   "metadata": {},
   "outputs": [
    {
     "name": "stdout",
     "output_type": "stream",
     "text": [
      "[[333   2   3   4]\n",
      " [  5   6   7   8]\n",
      " [  9  10  11  12]]\n"
     ]
    }
   ],
   "source": [
    "print(b)"
   ]
  },
  {
   "cell_type": "code",
   "execution_count": 10,
   "id": "3847a4d7",
   "metadata": {},
   "outputs": [
    {
     "name": "stdout",
     "output_type": "stream",
     "text": [
      "[[ 1  2  3  4]\n",
      " [ 5  6  7  8]\n",
      " [ 9 10 11 12]]\n"
     ]
    }
   ],
   "source": [
    "print(a)"
   ]
  },
  {
   "cell_type": "code",
   "execution_count": 11,
   "id": "91937f27",
   "metadata": {},
   "outputs": [],
   "source": [
    "c[1] = 4444"
   ]
  },
  {
   "cell_type": "code",
   "execution_count": 12,
   "id": "b52ff98f",
   "metadata": {},
   "outputs": [
    {
     "name": "stdout",
     "output_type": "stream",
     "text": [
      "[   5 4444    7    8]\n"
     ]
    }
   ],
   "source": [
    "print(c)"
   ]
  },
  {
   "cell_type": "code",
   "execution_count": 13,
   "id": "899ec0e5",
   "metadata": {},
   "outputs": [
    {
     "name": "stdout",
     "output_type": "stream",
     "text": [
      "[[   1    2    3    4]\n",
      " [   5 4444    7    8]\n",
      " [   9   10   11   12]]\n"
     ]
    }
   ],
   "source": [
    "print(a)"
   ]
  },
  {
   "cell_type": "code",
   "execution_count": 14,
   "id": "51d5c2d8",
   "metadata": {},
   "outputs": [],
   "source": [
    "#deep copy a part of an array\n",
    "import numpy as np\n",
    "a = np.arange(1,9).reshape(2,4)"
   ]
  },
  {
   "cell_type": "code",
   "execution_count": 15,
   "id": "7933feef",
   "metadata": {},
   "outputs": [
    {
     "name": "stdout",
     "output_type": "stream",
     "text": [
      "[[1 2 3 4]\n",
      " [5 6 7 8]]\n"
     ]
    }
   ],
   "source": [
    "print(a)"
   ]
  },
  {
   "cell_type": "code",
   "execution_count": 16,
   "id": "123d9af6",
   "metadata": {},
   "outputs": [],
   "source": [
    "b = a[:,1:3]#shallow"
   ]
  },
  {
   "cell_type": "code",
   "execution_count": 17,
   "id": "9c9c1e23",
   "metadata": {},
   "outputs": [
    {
     "name": "stdout",
     "output_type": "stream",
     "text": [
      "[[2 3]\n",
      " [6 7]]\n"
     ]
    }
   ],
   "source": [
    "print(b)"
   ]
  },
  {
   "cell_type": "code",
   "execution_count": 18,
   "id": "0605590a",
   "metadata": {},
   "outputs": [],
   "source": [
    "c = a[:,1:3].copy()"
   ]
  },
  {
   "cell_type": "code",
   "execution_count": 19,
   "id": "229b976d",
   "metadata": {},
   "outputs": [
    {
     "name": "stdout",
     "output_type": "stream",
     "text": [
      "[[2 3]\n",
      " [6 7]]\n"
     ]
    }
   ],
   "source": [
    "print(c)"
   ]
  },
  {
   "cell_type": "code",
   "execution_count": 20,
   "id": "a63db84a",
   "metadata": {},
   "outputs": [],
   "source": [
    "c[0,0] =11"
   ]
  },
  {
   "cell_type": "code",
   "execution_count": 21,
   "id": "17ba721b",
   "metadata": {},
   "outputs": [
    {
     "name": "stdout",
     "output_type": "stream",
     "text": [
      "[[11  3]\n",
      " [ 6  7]]\n"
     ]
    }
   ],
   "source": [
    "print(c)"
   ]
  },
  {
   "cell_type": "code",
   "execution_count": 22,
   "id": "31706709",
   "metadata": {},
   "outputs": [
    {
     "name": "stdout",
     "output_type": "stream",
     "text": [
      "[[1 2 3 4]\n",
      " [5 6 7 8]]\n"
     ]
    }
   ],
   "source": [
    "print(a)"
   ]
  },
  {
   "cell_type": "code",
   "execution_count": 23,
   "id": "9922bf19",
   "metadata": {},
   "outputs": [],
   "source": [
    "#array operators"
   ]
  },
  {
   "cell_type": "code",
   "execution_count": 24,
   "id": "50a1d428",
   "metadata": {},
   "outputs": [],
   "source": [
    "a = np.array([1, 2, 3, 4, 5])\n",
    "b = np.array([6, 7, 8, 9, 10])\n"
   ]
  },
  {
   "cell_type": "code",
   "execution_count": 25,
   "id": "5a75f05b",
   "metadata": {},
   "outputs": [
    {
     "name": "stdout",
     "output_type": "stream",
     "text": [
      "[1 2 3 4 5]\n"
     ]
    }
   ],
   "source": [
    "print(a)"
   ]
  },
  {
   "cell_type": "code",
   "execution_count": 26,
   "id": "b29b993f",
   "metadata": {},
   "outputs": [
    {
     "data": {
      "text/plain": [
       "array([11, 12, 13, 14, 15])"
      ]
     },
     "execution_count": 26,
     "metadata": {},
     "output_type": "execute_result"
    }
   ],
   "source": [
    "a+10"
   ]
  },
  {
   "cell_type": "code",
   "execution_count": 27,
   "id": "d35f7a21",
   "metadata": {},
   "outputs": [
    {
     "data": {
      "text/plain": [
       "array([0, 1, 2, 3, 4])"
      ]
     },
     "execution_count": 27,
     "metadata": {},
     "output_type": "execute_result"
    }
   ],
   "source": [
    "a-1"
   ]
  },
  {
   "cell_type": "code",
   "execution_count": 28,
   "id": "f5b80eec",
   "metadata": {},
   "outputs": [
    {
     "data": {
      "text/plain": [
       "array([ 2,  4,  6,  8, 10])"
      ]
     },
     "execution_count": 28,
     "metadata": {},
     "output_type": "execute_result"
    }
   ],
   "source": [
    "a*2\n"
   ]
  },
  {
   "cell_type": "code",
   "execution_count": 29,
   "id": "3e3cf832",
   "metadata": {},
   "outputs": [
    {
     "name": "stdout",
     "output_type": "stream",
     "text": [
      "[ 6  7  8  9 10]\n"
     ]
    }
   ],
   "source": [
    "print(b)"
   ]
  },
  {
   "cell_type": "code",
   "execution_count": 30,
   "id": "5fc674e8",
   "metadata": {},
   "outputs": [
    {
     "data": {
      "text/plain": [
       "array([ 2,  4,  6,  8, 10])"
      ]
     },
     "execution_count": 30,
     "metadata": {},
     "output_type": "execute_result"
    }
   ],
   "source": [
    "a+a"
   ]
  },
  {
   "cell_type": "code",
   "execution_count": 31,
   "id": "8b3caca0",
   "metadata": {},
   "outputs": [
    {
     "data": {
      "text/plain": [
       "array([ 7,  9, 11, 13, 15])"
      ]
     },
     "execution_count": 31,
     "metadata": {},
     "output_type": "execute_result"
    }
   ],
   "source": [
    "a+b"
   ]
  },
  {
   "cell_type": "code",
   "execution_count": 32,
   "id": "dcb5e787",
   "metadata": {},
   "outputs": [
    {
     "name": "stdout",
     "output_type": "stream",
     "text": [
      "[ 1  4  9 16 25]\n"
     ]
    }
   ],
   "source": [
    "print(a**2)"
   ]
  },
  {
   "cell_type": "code",
   "execution_count": 33,
   "id": "9aa78107",
   "metadata": {},
   "outputs": [
    {
     "name": "stdout",
     "output_type": "stream",
     "text": [
      "[   1    4   27  256 3125]\n"
     ]
    }
   ],
   "source": [
    "d = a**a\n",
    "print(d\n",
    "     )"
   ]
  },
  {
   "cell_type": "code",
   "execution_count": 34,
   "id": "04512615",
   "metadata": {},
   "outputs": [
    {
     "name": "stdout",
     "output_type": "stream",
     "text": [
      "[ 1.          2.          5.19615242 16.         55.90169944]\n"
     ]
    }
   ],
   "source": [
    "print(d**.5) #.5=0.5"
   ]
  },
  {
   "cell_type": "code",
   "execution_count": 35,
   "id": "ecbd00cf",
   "metadata": {},
   "outputs": [
    {
     "data": {
      "text/plain": [
       "array([0.16666667, 0.28571429, 0.375     , 0.44444444, 0.5       ])"
      ]
     },
     "execution_count": 35,
     "metadata": {},
     "output_type": "execute_result"
    }
   ],
   "source": [
    "a/b"
   ]
  },
  {
   "cell_type": "code",
   "execution_count": 36,
   "id": "0237b79e",
   "metadata": {},
   "outputs": [
    {
     "data": {
      "text/plain": [
       "40"
      ]
     },
     "execution_count": 36,
     "metadata": {},
     "output_type": "execute_result"
    }
   ],
   "source": [
    "b.sum()"
   ]
  },
  {
   "cell_type": "code",
   "execution_count": 37,
   "id": "5066dd70",
   "metadata": {},
   "outputs": [
    {
     "name": "stdout",
     "output_type": "stream",
     "text": [
      "[0 1 0 1 0]\n"
     ]
    }
   ],
   "source": [
    "print(b%2)"
   ]
  },
  {
   "cell_type": "code",
   "execution_count": 38,
   "id": "5bb8cc98",
   "metadata": {},
   "outputs": [],
   "source": [
    "#delete element(s) from an array\n",
    "x = np.array([1, 2, 3, 4, 5, 6 ,7 ,8, 9])"
   ]
  },
  {
   "cell_type": "code",
   "execution_count": 39,
   "id": "5805cf6d",
   "metadata": {},
   "outputs": [
    {
     "name": "stdout",
     "output_type": "stream",
     "text": [
      "[1 2 3 4 5 6 7 8 9]\n"
     ]
    }
   ],
   "source": [
    "print(x)"
   ]
  },
  {
   "cell_type": "code",
   "execution_count": 40,
   "id": "07e82df9",
   "metadata": {},
   "outputs": [
    {
     "name": "stdout",
     "output_type": "stream",
     "text": [
      "[1 2 3 5 6 7 8 9]\n"
     ]
    }
   ],
   "source": [
    "index=[3]\n",
    "print(np.delete(x, index))"
   ]
  },
  {
   "cell_type": "code",
   "execution_count": 41,
   "id": "6778f2bf",
   "metadata": {},
   "outputs": [],
   "source": [
    "b=np.delete(x,index)#does not delete anything from x, just create a new array"
   ]
  },
  {
   "cell_type": "code",
   "execution_count": 42,
   "id": "ce4a8524",
   "metadata": {},
   "outputs": [
    {
     "name": "stdout",
     "output_type": "stream",
     "text": [
      "[1 2 3 5 6 7 8 9]\n"
     ]
    }
   ],
   "source": [
    "print(b)"
   ]
  },
  {
   "cell_type": "code",
   "execution_count": 43,
   "id": "bb2b2c0d",
   "metadata": {},
   "outputs": [
    {
     "data": {
      "text/plain": [
       "array([1, 2, 3, 4, 5, 6, 7, 8, 9])"
      ]
     },
     "execution_count": 43,
     "metadata": {},
     "output_type": "execute_result"
    }
   ],
   "source": [
    "x"
   ]
  },
  {
   "cell_type": "code",
   "execution_count": 44,
   "id": "356b5198",
   "metadata": {},
   "outputs": [],
   "source": [
    "c=np.delete(x,[0, 4, 5])"
   ]
  },
  {
   "cell_type": "code",
   "execution_count": 45,
   "id": "0d829263",
   "metadata": {},
   "outputs": [
    {
     "name": "stdout",
     "output_type": "stream",
     "text": [
      "[2 3 4 7 8 9]\n"
     ]
    }
   ],
   "source": [
    "print(c)"
   ]
  },
  {
   "cell_type": "code",
   "execution_count": 46,
   "id": "280f6f1e",
   "metadata": {},
   "outputs": [],
   "source": [
    "#II method"
   ]
  },
  {
   "cell_type": "code",
   "execution_count": 47,
   "id": "39cbabf6",
   "metadata": {},
   "outputs": [
    {
     "data": {
      "text/plain": [
       "array([1, 2, 3, 4, 5, 6, 7, 8, 9])"
      ]
     },
     "execution_count": 47,
     "metadata": {},
     "output_type": "execute_result"
    }
   ],
   "source": [
    "x"
   ]
  },
  {
   "cell_type": "code",
   "execution_count": 48,
   "id": "4b18d17d",
   "metadata": {},
   "outputs": [],
   "source": [
    "y = [3, 5, 7]"
   ]
  },
  {
   "cell_type": "code",
   "execution_count": 52,
   "id": "8a0a3377",
   "metadata": {},
   "outputs": [],
   "source": [
    "z = np.setdiff1d(x,y) #similar elements get removed, the firsr one is printed"
   ]
  },
  {
   "cell_type": "code",
   "execution_count": 53,
   "id": "b76984ab",
   "metadata": {},
   "outputs": [
    {
     "name": "stdout",
     "output_type": "stream",
     "text": [
      "[1 2 4 6 8 9]\n"
     ]
    }
   ],
   "source": [
    "print(z)"
   ]
  },
  {
   "cell_type": "code",
   "execution_count": 54,
   "id": "62f17830",
   "metadata": {},
   "outputs": [],
   "source": [
    "n = [3, 5, 7, 100, 150]"
   ]
  },
  {
   "cell_type": "code",
   "execution_count": 55,
   "id": "1775961e",
   "metadata": {},
   "outputs": [],
   "source": [
    "f = np.setdiff1d(x, n)"
   ]
  },
  {
   "cell_type": "code",
   "execution_count": 56,
   "id": "42f84345",
   "metadata": {},
   "outputs": [
    {
     "name": "stdout",
     "output_type": "stream",
     "text": [
      "[1 2 4 6 8 9]\n"
     ]
    }
   ],
   "source": [
    "print(f)"
   ]
  },
  {
   "cell_type": "code",
   "execution_count": 57,
   "id": "e95c85b4",
   "metadata": {},
   "outputs": [],
   "source": [
    "x = np.arange(1, 26).reshape(5, 5)"
   ]
  },
  {
   "cell_type": "code",
   "execution_count": 58,
   "id": "c1d4614d",
   "metadata": {},
   "outputs": [
    {
     "name": "stdout",
     "output_type": "stream",
     "text": [
      "[[ 1  2  3  4  5]\n",
      " [ 6  7  8  9 10]\n",
      " [11 12 13 14 15]\n",
      " [16 17 18 19 20]\n",
      " [21 22 23 24 25]]\n"
     ]
    }
   ],
   "source": [
    "print(x)"
   ]
  },
  {
   "cell_type": "code",
   "execution_count": 60,
   "id": "468a72c8",
   "metadata": {},
   "outputs": [],
   "source": [
    "y = np.delete(x, 1, axis=1) #1 position of column, axis 1 = vertical"
   ]
  },
  {
   "cell_type": "code",
   "execution_count": 61,
   "id": "487efc9d",
   "metadata": {},
   "outputs": [
    {
     "name": "stdout",
     "output_type": "stream",
     "text": [
      "[[ 1  3  4  5]\n",
      " [ 6  8  9 10]\n",
      " [11 13 14 15]\n",
      " [16 18 19 20]\n",
      " [21 23 24 25]]\n"
     ]
    }
   ],
   "source": [
    "print(y)"
   ]
  },
  {
   "cell_type": "code",
   "execution_count": 62,
   "id": "a7f9ee7d",
   "metadata": {},
   "outputs": [],
   "source": [
    "y = np.delete(x, [0,3], axis=0)"
   ]
  },
  {
   "cell_type": "code",
   "execution_count": 63,
   "id": "50859c2d",
   "metadata": {},
   "outputs": [
    {
     "name": "stdout",
     "output_type": "stream",
     "text": [
      "[[ 6  7  8  9 10]\n",
      " [11 12 13 14 15]\n",
      " [21 22 23 24 25]]\n"
     ]
    }
   ],
   "source": [
    "print(y)"
   ]
  },
  {
   "cell_type": "code",
   "execution_count": 64,
   "id": "7df7b0fc",
   "metadata": {},
   "outputs": [],
   "source": [
    "a = np.array([1 , 2, 3, 4, 5])\n"
   ]
  },
  {
   "cell_type": "code",
   "execution_count": 65,
   "id": "ccfd76bd",
   "metadata": {},
   "outputs": [],
   "source": [
    "#append existing array"
   ]
  },
  {
   "cell_type": "code",
   "execution_count": 66,
   "id": "4f527565",
   "metadata": {},
   "outputs": [],
   "source": [
    "e = np.append(a, 6)"
   ]
  },
  {
   "cell_type": "code",
   "execution_count": 67,
   "id": "ddc92d17",
   "metadata": {},
   "outputs": [
    {
     "name": "stdout",
     "output_type": "stream",
     "text": [
      "[1 2 3 4 5 6]\n"
     ]
    }
   ],
   "source": [
    "print(e)"
   ]
  },
  {
   "cell_type": "code",
   "execution_count": 68,
   "id": "d9ffae53",
   "metadata": {},
   "outputs": [],
   "source": [
    "#insert"
   ]
  },
  {
   "cell_type": "code",
   "execution_count": 69,
   "id": "db6c3c8a",
   "metadata": {},
   "outputs": [],
   "source": [
    "y = np.insert(a, 3,44) #after 3 insert 44"
   ]
  },
  {
   "cell_type": "code",
   "execution_count": 70,
   "id": "6b866b57",
   "metadata": {},
   "outputs": [
    {
     "name": "stdout",
     "output_type": "stream",
     "text": [
      "[ 1  2  3 44  4  5]\n"
     ]
    }
   ],
   "source": [
    "print(y)"
   ]
  },
  {
   "cell_type": "code",
   "execution_count": 6,
   "id": "cc1eabb5",
   "metadata": {},
   "outputs": [
    {
     "name": "stdout",
     "output_type": "stream",
     "text": [
      "[1 2 3 4 5]\n"
     ]
    }
   ],
   "source": [
    "#add more than on element to an existing array\n",
    "print(a)"
   ]
  },
  {
   "cell_type": "code",
   "execution_count": 2,
   "id": "cb530404",
   "metadata": {},
   "outputs": [],
   "source": [
    "import numpy as np"
   ]
  },
  {
   "cell_type": "code",
   "execution_count": 3,
   "id": "088154c2",
   "metadata": {},
   "outputs": [],
   "source": [
    "a = np.array([1 , 2, 3, 4, 5])"
   ]
  },
  {
   "cell_type": "code",
   "execution_count": 4,
   "id": "f66ef055",
   "metadata": {},
   "outputs": [
    {
     "name": "stdout",
     "output_type": "stream",
     "text": [
      "[1 2 3 4 5]\n"
     ]
    }
   ],
   "source": [
    "print(a)"
   ]
  },
  {
   "cell_type": "code",
   "execution_count": 5,
   "id": "2a0461c5",
   "metadata": {},
   "outputs": [
    {
     "name": "stdout",
     "output_type": "stream",
     "text": [
      "[ 1  2 33 33 55 56  3  4  5]\n"
     ]
    }
   ],
   "source": [
    "z = np.insert(a, 2, [33, 33, 55, 56])\n",
    "print(z)"
   ]
  },
  {
   "cell_type": "code",
   "execution_count": 7,
   "id": "8ee41d7d",
   "metadata": {},
   "outputs": [],
   "source": [
    "e = np.append(a, [44, 66, 77, 88])"
   ]
  },
  {
   "cell_type": "code",
   "execution_count": 8,
   "id": "cfe230a4",
   "metadata": {},
   "outputs": [
    {
     "name": "stdout",
     "output_type": "stream",
     "text": [
      "[ 1  2  3  4  5 44 66 77 88]\n"
     ]
    }
   ],
   "source": [
    "print(e)"
   ]
  },
  {
   "cell_type": "code",
   "execution_count": null,
   "id": "75777af3",
   "metadata": {},
   "outputs": [],
   "source": []
  }
 ],
 "metadata": {
  "kernelspec": {
   "display_name": "Python 3 (ipykernel)",
   "language": "python",
   "name": "python3"
  },
  "language_info": {
   "codemirror_mode": {
    "name": "ipython",
    "version": 3
   },
   "file_extension": ".py",
   "mimetype": "text/x-python",
   "name": "python",
   "nbconvert_exporter": "python",
   "pygments_lexer": "ipython3",
   "version": "3.10.1"
  }
 },
 "nbformat": 4,
 "nbformat_minor": 5
}
