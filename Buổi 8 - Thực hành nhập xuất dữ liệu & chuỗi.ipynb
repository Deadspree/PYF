{
 "cells": [
  {
   "cell_type": "markdown",
   "id": "5bc93fb0",
   "metadata": {},
   "source": [
    "# Thực hành nhập xuất dữ liệu & chuỗi\n",
    "\n",
    "### Bài tập tra cứu lệnh\n",
    "\n",
    "Nhập vào một chuỗi, kiểm tra xem chuỗi đó có ký tự nào là chữ in hoa hay không, nếu có thì in True, không có thì in False"
   ]
  },
  {
   "cell_type": "code",
   "execution_count": 7,
   "id": "4b3df2ba",
   "metadata": {
    "scrolled": true
   },
   "outputs": [
    {
     "name": "stdout",
     "output_type": "stream",
     "text": [
      "Enter sth: dCm\n",
      "True\n"
     ]
    }
   ],
   "source": [
    "a = input(\"Enter sth: \")\n",
    "print(not a.islower())\n",
    "    "
   ]
  },
  {
   "cell_type": "markdown",
   "id": "e14eae7c",
   "metadata": {},
   "source": [
    "Nhập vào một chuỗi, kiểm tra xem chuỗi đó có ký tự nào là chữ in thường hay không, nếu có thì in True, không có thì in False"
   ]
  },
  {
   "cell_type": "code",
   "execution_count": 8,
   "id": "ab00180c",
   "metadata": {},
   "outputs": [
    {
     "name": "stdout",
     "output_type": "stream",
     "text": [
      "Enter sth: Dcm\n",
      "True\n"
     ]
    }
   ],
   "source": [
    "a = input(\"Enter sth: \")\n",
    "print(not a.isupper())"
   ]
  },
  {
   "cell_type": "markdown",
   "id": "eab86ecf",
   "metadata": {},
   "source": [
    "Nhập vào một chuỗi a và chuỗi b, tìm vị trí đầu tiên xuất hiện chuỗi b trong chuỗi a"
   ]
  },
  {
   "cell_type": "code",
   "execution_count": 24,
   "id": "051eb4af",
   "metadata": {},
   "outputs": [
    {
     "name": "stdout",
     "output_type": "stream",
     "text": [
      "Enter a: oc cho\n",
      "Enter b: cha cha\n",
      "-1\n"
     ]
    }
   ],
   "source": [
    "a = input(\"Enter a: \")\n",
    "b = input(\"Enter b: \")\n",
    "print(a.find(b))\n",
    "#print(a.index(b))\n",
    "#rfind() tim tu ben phai"
   ]
  },
  {
   "cell_type": "markdown",
   "id": "9239bc4e",
   "metadata": {},
   "source": [
    "Nhập vào một chuỗi a, hãy xóa từ đầu tiên trong chuỗi a, rồi in ra màn hình"
   ]
  },
  {
   "cell_type": "code",
   "execution_count": 29,
   "id": "90967cd9",
   "metadata": {},
   "outputs": [
    {
     "name": "stdout",
     "output_type": "stream",
     "text": [
      "Enter a: ngu vcl\n",
      "vcl\n"
     ]
    }
   ],
   "source": [
    "a = input(\"Enter a: \")\n",
    "b = a.split()\n",
    "print(\"\".join(b[1:]))"
   ]
  },
  {
   "cell_type": "code",
   "execution_count": 1,
   "id": "bf6ed69d",
   "metadata": {},
   "outputs": [
    {
     "name": "stdout",
     "output_type": "stream",
     "text": [
      "Enter a: hello sucker\n",
      "sucker\n"
     ]
    }
   ],
   "source": [
    "a = input(\"Enter a: \")\n",
    "b = a.find(\" \")\n",
    "c = a[b+1:]\n",
    "print(c)"
   ]
  },
  {
   "cell_type": "markdown",
   "id": "05b74fb4",
   "metadata": {},
   "source": [
    "### Bài 1\n",
    "\n",
    "Nhập vào một chuỗi, đếm xem có bao nhiêu từ trong chuỗi kết thúc bằng chữ n"
   ]
  },
  {
   "cell_type": "code",
   "execution_count": 41,
   "id": "c6707598",
   "metadata": {},
   "outputs": [
    {
     "name": "stdout",
     "output_type": "stream",
     "text": [
      "Enter a: ngun vcl dcm\n",
      "Số từ kết thưc bằng n: 1\n"
     ]
    }
   ],
   "source": [
    "a = input(\"Enter a: \")\n",
    "b = a.split()\n",
    "d = 0\n",
    "for i in b:\n",
    "    if i.endswith(\"n\"):\n",
    "        d+=1\n",
    "print(\"Số từ kết thúc bằng n:\",d)\n",
    "        \n",
    "        \n",
    "\n",
    "\n"
   ]
  },
  {
   "cell_type": "code",
   "execution_count": 2,
   "id": "b5eb3982",
   "metadata": {},
   "outputs": [
    {
     "name": "stdout",
     "output_type": "stream",
     "text": [
      "Nhập vào chuỗi a:tk ngun\n",
      "1\n"
     ]
    }
   ],
   "source": [
    "a = input(\"Nhập vào chuỗi a:\")\n",
    "a += \" \" #để đếm được n cuối\n",
    "print(a.count(\"n \"))"
   ]
  },
  {
   "cell_type": "code",
   "execution_count": 24,
   "id": "d126675c",
   "metadata": {},
   "outputs": [
    {
     "name": "stdout",
     "output_type": "stream",
     "text": [
      "Enter a: nu loz\n",
      "['nu', 'loz']\n"
     ]
    }
   ],
   "source": [
    "\n",
    "a = input(\"Enter a: \")\n",
    "b = a.split()\n",
    "print(b)"
   ]
  },
  {
   "cell_type": "markdown",
   "id": "53a78d35",
   "metadata": {},
   "source": [
    "### Bài 2\n",
    "\n",
    "Nhập vào một chuỗi, kiểm tra xem chuỗi đó có ký tự hoa hoặc ký tự thường hay không."
   ]
  },
  {
   "cell_type": "code",
   "execution_count": 2,
   "id": "1171b0a6",
   "metadata": {},
   "outputs": [
    {
     "ename": "SyntaxError",
     "evalue": "'(' was never closed (Temp/ipykernel_3360/1960639116.py, line 2)",
     "output_type": "error",
     "traceback": [
      "\u001b[1;36m  File \u001b[1;32m\"C:\\Users\\minhc\\AppData\\Local\\Temp/ipykernel_3360/1960639116.py\"\u001b[1;36m, line \u001b[1;32m2\u001b[0m\n\u001b[1;33m    print((not a.islower()) and (not a.isupper())\u001b[0m\n\u001b[1;37m         ^\u001b[0m\n\u001b[1;31mSyntaxError\u001b[0m\u001b[1;31m:\u001b[0m '(' was never closed\n"
     ]
    }
   ],
   "source": [
    "a = int(input(\"Nhập một chuỗi: \"))\n",
    "print(not a.islower() and not a.isupper())"
   ]
  },
  {
   "cell_type": "code",
   "execution_count": 3,
   "id": "f5be8c39",
   "metadata": {
    "scrolled": true
   },
   "outputs": [
    {
     "name": "stdout",
     "output_type": "stream",
     "text": [
      "Nhập số: abcd1f\n",
      "False\n"
     ]
    }
   ],
   "source": [
    "a = input(\"Nhập số: \")\n",
    "print(a.isalpha()) # check if all characters in alphabet code sai\n"
   ]
  },
  {
   "cell_type": "markdown",
   "id": "64ca662e",
   "metadata": {},
   "source": [
    "### Bài 3\n",
    "\n",
    "Nhập vào một chuỗi, kiểm tra tính đối xứng của chuỗi đó"
   ]
  },
  {
   "cell_type": "code",
   "execution_count": 4,
   "id": "749f4136",
   "metadata": {},
   "outputs": [
    {
     "name": "stdout",
     "output_type": "stream",
     "text": [
      "123454321\n",
      "True\n"
     ]
    }
   ],
   "source": [
    "c = input()\n",
    "a = c[::-1]# đảo ngược a\n",
    "print(c == a)"
   ]
  },
  {
   "cell_type": "markdown",
   "id": "85dd8fef",
   "metadata": {},
   "source": [
    "### Bài 4\n",
    "\n",
    "Nhập vào một chuỗi, in ra những ký tự in hoa trong chuỗi đó"
   ]
  },
  {
   "cell_type": "code",
   "execution_count": 7,
   "id": "0d099247",
   "metadata": {},
   "outputs": [
    {
     "name": "stdout",
     "output_type": "stream",
     "text": [
      "Enter sth: Xin chAo\n",
      "X True\n",
      "i False\n",
      "n False\n",
      "  False\n",
      "c False\n",
      "h False\n",
      "A True\n",
      "o False\n"
     ]
    }
   ],
   "source": [
    "a = input(\"Enter sth: \")\n",
    "stt = 0\n",
    "for i in range(len(a)):\n",
    "    print(a[stt], a[stt].isupper())\n",
    "    stt += 1\n",
    "    "
   ]
  },
  {
   "cell_type": "markdown",
   "id": "1373dc74",
   "metadata": {},
   "source": [
    "### Bài 5\n",
    "\n",
    "Nhập vào một chuỗi, tìm các ký tự chỉ xuất hiện một lần trong chuỗi (nếu xuất hiện 1 lần in true, xuất hiện nhiều lần in false)\n",
    "\n",
    "Ví dụ:\n",
    "\n",
    "Nhập chuỗi: \"ABAbc\"\n",
    "\n",
    "In:\n",
    "\n",
    "A: False\n",
    "\n",
    "B: True\n",
    "\n",
    "A: False\n",
    "\n",
    "b: True\n",
    "\n",
    "c: True"
   ]
  },
  {
   "cell_type": "code",
   "execution_count": 9,
   "id": "a93bc53d",
   "metadata": {},
   "outputs": [
    {
     "name": "stdout",
     "output_type": "stream",
     "text": [
      "A : False\n",
      "B : True\n",
      "A : False\n",
      "b : True\n",
      "c : True\n"
     ]
    }
   ],
   "source": [
    "a=\"ABAbc\"\n",
    "for x in a:\n",
    "    y=a.count(x)\n",
    "    print(x,\":\",y==1)\n"
   ]
  },
  {
   "cell_type": "code",
   "execution_count": 11,
   "id": "4cf6df03",
   "metadata": {},
   "outputs": [
    {
     "name": "stdout",
     "output_type": "stream",
     "text": [
      "ABAbc\n",
      "A:False\n",
      "B:True\n",
      "A:False\n",
      "b:True\n",
      "c:True\n"
     ]
    }
   ],
   "source": [
    "a = input()\n",
    "stt = 0\n",
    "for i in range(len(a)):\n",
    "    b = a[stt]\n",
    "    print(b,a.count(b)==1, sep = \":\")\n",
    "    stt += 1"
   ]
  },
  {
   "cell_type": "markdown",
   "id": "69bebf4c",
   "metadata": {},
   "source": [
    "### Bài 6\n",
    "\n",
    "Nhập vào một chuỗi, kiểm tra trong chuỗi có con số hay không, nếu có in True, không có in False"
   ]
  },
  {
   "cell_type": "code",
   "execution_count": 13,
   "id": "1b4eab4f",
   "metadata": {},
   "outputs": [
    {
     "name": "stdout",
     "output_type": "stream",
     "text": [
      "12f3\n",
      "True\n"
     ]
    }
   ],
   "source": [
    "c = input()\n",
    "print(not c.isalpha())"
   ]
  },
  {
   "cell_type": "markdown",
   "id": "1e51403c",
   "metadata": {},
   "source": [
    "### Bài 7\n",
    "\n",
    "Nhập vào một chuỗi, tách những con số có trong chuỗi ra rồi tính tổng của chúng\n",
    "\n",
    "In tổng lên màn hình"
   ]
  },
  {
   "cell_type": "code",
   "execution_count": 20,
   "id": "a34e349d",
   "metadata": {},
   "outputs": [
    {
     "name": "stdout",
     "output_type": "stream",
     "text": [
      "Nhập chuỗi a: 1234abcdef\n",
      "10\n"
     ]
    }
   ],
   "source": [
    "a = input(\"Nhập chuỗi a: \")\n",
    "so = 0\n",
    "total = 0\n",
    "for i in range(10):\n",
    "    b = a.count(str(so))\n",
    "    total += b*so\n",
    "    so +=1\n",
    "print(total)"
   ]
  },
  {
   "cell_type": "markdown",
   "id": "e951779d",
   "metadata": {},
   "source": [
    "### Bài 8\n",
    "\n",
    "Nhập vào một chuỗi, đảo ngược chuỗi đã nhập rồi in ra màn hình"
   ]
  },
  {
   "cell_type": "code",
   "execution_count": null,
   "id": "9305f0f1",
   "metadata": {},
   "outputs": [],
   "source": []
  },
  {
   "cell_type": "code",
   "execution_count": 5,
   "id": "f13f0367",
   "metadata": {},
   "outputs": [
    {
     "name": "stdout",
     "output_type": "stream",
     "text": [
      "xiN chào\n"
     ]
    }
   ],
   "source": [
    "a = \"xin chào\"\n",
    "b = a[:2] + \"N\" +a[2+1:]\n",
    "print(b)"
   ]
  },
  {
   "cell_type": "markdown",
   "id": "04194b5c",
   "metadata": {},
   "source": [
    "### Bài 9\n",
    "\n",
    "Nhập vào một chuỗi, kiểm tra xem mỗi từ trong chuỗi có được viết hoa chữ cái đầu hay không, nếu tất cả đều được viết hoa thì in ra True, còn không thì in ra False\n",
    "\n",
    "Trong trường hợp là False, hãy viết hoa tất cả các chữ cái đầu của mỗi từ rồi in lên màn hình\n",
    "\n",
    "Cách làm thông thường:"
   ]
  },
  {
   "cell_type": "code",
   "execution_count": 6,
   "id": "9f947c7d",
   "metadata": {},
   "outputs": [
    {
     "name": "stdout",
     "output_type": "stream",
     "text": [
      "Nhập vào một chuỗi:Xin chào mọi người\n",
      "True\n",
      "Xin Chào Mọi Người\n"
     ]
    }
   ],
   "source": [
    "a = input(\"Nhập vào một chuỗi:\")\n",
    "a0 = a\n",
    "kiemtra = False\n",
    "\n",
    "for i in range(len(a)):\n",
    "    b = a.find(\" \")\n",
    "    check = a[b+1].isupper()\n",
    "    kiemtra = kiemtra or check\n",
    "    viethoa = a[b+1].upper()\n",
    "    a0 = a0[:b+1] + viethoa + a0[b+2:]\n",
    "    a = a[:b] + \"*\" + a[b+1:]\n",
    "\n",
    "print(kiemtra)\n",
    "print(a0)"
   ]
  },
  {
   "cell_type": "markdown",
   "id": "f43e32af",
   "metadata": {},
   "source": [
    "Cách sử dụng lệnh có sẵn:"
   ]
  },
  {
   "cell_type": "code",
   "execution_count": 21,
   "id": "714f1412",
   "metadata": {},
   "outputs": [
    {
     "name": "stdout",
     "output_type": "stream",
     "text": [
      "False\n",
      "Chuc Mung Nam Moi\n"
     ]
    }
   ],
   "source": [
    "st=\"Chuc Mung nam moi\"\n",
    "print(st.istitle())\n",
    "print(st.title())"
   ]
  },
  {
   "cell_type": "code",
   "execution_count": null,
   "id": "6ecf1634",
   "metadata": {},
   "outputs": [],
   "source": []
  }
 ],
 "metadata": {
  "kernelspec": {
   "display_name": "Python 3 (ipykernel)",
   "language": "python",
   "name": "python3"
  },
  "language_info": {
   "codemirror_mode": {
    "name": "ipython",
    "version": 3
   },
   "file_extension": ".py",
   "mimetype": "text/x-python",
   "name": "python",
   "nbconvert_exporter": "python",
   "pygments_lexer": "ipython3",
   "version": "3.10.1"
  }
 },
 "nbformat": 4,
 "nbformat_minor": 5
}
