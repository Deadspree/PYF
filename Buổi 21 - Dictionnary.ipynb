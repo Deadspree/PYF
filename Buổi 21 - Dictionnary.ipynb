{
 "cells": [
  {
   "cell_type": "markdown",
   "id": "a20f121d",
   "metadata": {},
   "source": [
    "# Dictionnary\n",
    "\n",
    "Dictionnary là một dạng list đặc biệt, nó khác list ở chỗ không lưu trữ các giá trị theo chỉ số vị trí, thay vào đó Dictionary sẽ lưu trữ các giá trị theo key\n",
    "\n",
    "##### Tài liệu tham khảo: https://www.w3schools.com/python/python_dictionaries.asp\n",
    "\n",
    "### Khai báo một dictionary\n",
    "\n",
    "Cú pháp:\n",
    "\n",
    "`<tên dictionary> = {}`\n",
    "\n",
    "### Dictionary được khai báo bằng hai dấu hoặc nhọn\n",
    "\n",
    "Đây là một dictionary rỗng\n",
    "\n",
    "<b>Ví dụ 1:</b>\n",
    "\n",
    "`a = {}`\n",
    "\n",
    "a là một dictionary rỗng\n",
    "\n",
    "<b>Ví dụ 2:</b>\n",
    "\n",
    "`a = {\"tên\": \"Nguyễn Tâm Điền\", \"tuổi\": 13, \"giới tính\": \"Nam\"}`\n",
    "\n",
    "b là một dictionary có 3 key, mõi key đều có một giá trị riêng biệt\n",
    "\n",
    "Key có thể mang kiểu dữ liệu là chuỗi hoặc số\n",
    "\n",
    "##### Mỗi một key đều phải có giá trị của riêng nó, không thể khai báo key không có giá trị\n",
    "\n",
    "<b>Hãy khai báo một dictionary có 3 phần tử</b>"
   ]
  },
  {
   "cell_type": "code",
   "execution_count": null,
   "id": "d835f461",
   "metadata": {},
   "outputs": [],
   "source": []
  },
  {
   "cell_type": "markdown",
   "id": "be1e321c",
   "metadata": {},
   "source": [
    "### Thêm key vào dictionary\n",
    "\n",
    "Cú pháp:\n",
    "\n",
    "`<tên dictionary>[<key>] = <giá trị>`\n",
    "\n",
    "<b>Ví dụ 1:</b>\n",
    "\n",
    "`a = {}\n",
    "a[\"tên\"] = \"NTD\"`\n",
    "\n",
    "a là một dictionary có một phần tử, phần tử đó có key là \"tên\" và giá trị của key đó là \"NTD\"\n",
    "\n",
    "##### Lưu ý, nếu trong trường hợp đã tồn tại key trong dictionary, dùng lệnh trên sẽ thay đổi giá trị key đó (không phải thêm key khác vào)\n",
    "\n",
    "<b>Ví dụ 2:</b>\n",
    "\n",
    "`a = {}\n",
    "a[\"tên\"] = \"NTD\"\n",
    "a[\"tên\"] = \"Nguyễn Tâm Điền\"`\n",
    "\n",
    "a vẫn là một dictionary có một phần tử, phần tử đó có key là \"tên\" và giá trị của key đó là \"Nguyễn Tâm Điền\"\n",
    "\n",
    "<b>Hãy khai báo một dictionary không có phần tử nào, sau đó thêm một phần tử vào dictionary đó</b>"
   ]
  },
  {
   "cell_type": "code",
   "execution_count": 2,
   "id": "7573ebef",
   "metadata": {},
   "outputs": [
    {
     "name": "stdout",
     "output_type": "stream",
     "text": [
      "{0: 'hello', '0': 'hi', 'tên': 'Minad'}\n"
     ]
    }
   ],
   "source": [
    "D = {0: \"hello\", \"0\": \"hi\"}\n",
    "D[\"tên\"] = \"Minh\"\n",
    "D[\"tên\"] = \"Minad\"\n",
    "print(D)"
   ]
  },
  {
   "cell_type": "markdown",
   "id": "65c98825",
   "metadata": {},
   "source": [
    "### Truy xuất phần tử trong dictionary\n",
    "\n",
    "Cú pháp:\n",
    "\n",
    "`<tên dictionary>[<key>]`\n",
    "\n",
    "<b>Ví dụ:</b>\n",
    "\n",
    "`a = {\"tên\": \"Nguyễn Tâm Điền\", \"tuổi\": 13, \"giới tính\": \"Nam\"}\n",
    "print(a[\"tên\"])`\n",
    "\n",
    "Màn hình sẽ in: Nguyễn Tâm Điền\n",
    "\n",
    "<b>Hãy khai báo một dictionary rồi in ra màn hình một phần tử bất kỳ trong dictionary đó</b>"
   ]
  },
  {
   "cell_type": "code",
   "execution_count": 3,
   "id": "f6159385",
   "metadata": {},
   "outputs": [
    {
     "name": "stdout",
     "output_type": "stream",
     "text": [
      "Unidentified\n"
     ]
    }
   ],
   "source": [
    "a = {\"tên\": \"Nguyễn Tâm Điền\", \"tuổi\": 13, \"giới tính\": \"Unidentified\"\n",
    "    }\n",
    "print(a[\"giới tính\"])"
   ]
  },
  {
   "cell_type": "code",
   "execution_count": 4,
   "id": "ea459707",
   "metadata": {},
   "outputs": [
    {
     "name": "stdout",
     "output_type": "stream",
     "text": [
      "{1: 'hello', '1': 'hi', 2: 'xin chào'}\n"
     ]
    }
   ],
   "source": [
    "D = {1:\"hello\", \"1\":\"hi\"}\n",
    "D2 = D\n",
    "D2[2] = \"xin chào\"\n",
    "print(D)"
   ]
  },
  {
   "cell_type": "code",
   "execution_count": 5,
   "id": "51d887f5",
   "metadata": {},
   "outputs": [
    {
     "name": "stdout",
     "output_type": "stream",
     "text": [
      "{1: 'hello', '1': 'hi'}\n"
     ]
    }
   ],
   "source": [
    "D = {1:\"hello\", \"1\":\"hi\"}\n",
    "D2 = D.copy()\n",
    "D2[2] = \"xin chào\"\n",
    "print(D)"
   ]
  },
  {
   "cell_type": "markdown",
   "id": "afa92f87",
   "metadata": {},
   "source": [
    "### Sao chép dictionary\n",
    "\n",
    "##### Việc sao chép dictionary được thực hiện hệt như sao chép list, chúng ta cần phải sử dụng lệnh copy()"
   ]
  },
  {
   "cell_type": "markdown",
   "id": "ef7e800d",
   "metadata": {},
   "source": [
    "### Duyệt dictionary bằng lệnh for\n",
    "\n",
    "Cú pháp:\n",
    "\n",
    "`for <tên biến> in <tên dictionary>:`\n",
    "\n",
    "Biến sẽ có giá trị là từng key trong dictionary\n",
    "\n",
    "<b>Ví dụ:</b>\n",
    "\n",
    "`a = {\"tên\": \"Nguyễn Tâm Điền\", \"tuổi\": 13, \"giới tính\": \"Nam\"}\n",
    "for i in a:\n",
    "    print(i)`\n",
    "    \n",
    "Màn hình sẽ in ra:\n",
    "\n",
    "tên\n",
    "\n",
    "tuổi\n",
    "\n",
    "giới tính\n",
    "\n",
    "<b>Hãy khai báo một dictionary rồi in ra màn hình toàn bộ giá trị trong dictionary đó</b>"
   ]
  },
  {
   "cell_type": "code",
   "execution_count": 8,
   "id": "3bdd1508",
   "metadata": {},
   "outputs": [
    {
     "name": "stdout",
     "output_type": "stream",
     "text": [
      "Nguyễn Tâm Điền\n",
      "13\n",
      "Nam\n"
     ]
    }
   ],
   "source": [
    "a = {\"tên\": \"Nguyễn Tâm Điền\", \"tuổi\": 13, \"giới tính\": \"Nam\"}\n",
    "for i in a:\n",
    "    print(a[i])"
   ]
  },
  {
   "cell_type": "code",
   "execution_count": 9,
   "id": "8aa24d11",
   "metadata": {},
   "outputs": [
    {
     "name": "stdout",
     "output_type": "stream",
     "text": [
      "tên\n",
      "tuổi\n",
      "giới tính\n"
     ]
    }
   ],
   "source": [
    "a = {\"tên\": \"Nguyễn Tâm Điền\", \"tuổi\": 13, \"giới tính\": \"Nam\"}\n",
    "for i in a:\n",
    "    print(i)"
   ]
  },
  {
   "cell_type": "markdown",
   "id": "1982f4b1",
   "metadata": {},
   "source": [
    "### Bài tập"
   ]
  },
  {
   "cell_type": "markdown",
   "id": "3060a950",
   "metadata": {},
   "source": [
    "Viết chương trình đếm số lần xuất hiện của một từ trong một văn bản nhất định"
   ]
  },
  {
   "cell_type": "code",
   "execution_count": 31,
   "id": "af64832c",
   "metadata": {},
   "outputs": [
    {
     "name": "stdout",
     "output_type": "stream",
     "text": [
      "{'chị': 22, 'Dậu': 12, 'ra': 12, 'nhà': 16, 'bát': 12, 'cho': 18, 'và': 18, 'đã': 24, 'đầu': 12, 'đến': 12, 'lại': 15, 'cháu': 15, 'như': 21, 'có': 15, 'thì': 12, 'đấy': 13, 'vào': 15, 'sưu': 12, 'không': 15, 'phải': 15, 'một': 15, 'cháo': 14, 'anh': 14, 'người': 11, 'với': 12, 'vừa': 12, 'xuống': 12}\n"
     ]
    }
   ],
   "source": [
    "vanban = \"Cháo chín, chị Dậu bắc mang ra giữa nhà, ngả mâm bát múc ra la liệt. Rồi chị lấy quạt quạt cho chóng nguội. Tiếng trống và tiếng tù và[1](!) đã thủng thẳng đua nhau từ phía đầu làng đến đình. Tiếng chó sủa vang các xóm. Bà lão láng giềng lại lật đật chạy sang: - Bác trai đã khá rồi chứ? - Cảm ơn cụ, nhà cháu đã tỉnh táo như thường. Nhưng xem ý hãy còn lề bề lệt bệt[2] chừng như vẫn mỏi mệt lắm. - Này, bảo bác ấy có trốn đi đâu thì trốn. Chứ cứ nằm đấy, chốc nữa họ vào thúc sưu[3], không có, họ lại đánh trói thì khổ. Người ốm rề rề như thế, nếu lại phải một trận đòn, nuôi mấy tháng cho hoàn hồn.- Vâng, cháu cũng đã nghĩ như cụ. Nhưng để cháo nguội, cháu cho nhà cháu ăn lấy vài húp cái đã. Nhịn suông từ sáng hôm qua tới giờ còn gì. - Thế thì phải giục anh ấy ăn mau đi, kẻo nửa người ta sắp sửa kéo vào rồi đấy! Rồi bà lão lật đật trở về với vẻ mặt băn khoăn. Cháo đã hơi nguội. Thằng Dần vục đầu vừa thổi vừa húp soàn soạt. Chị Dậu rón rén bưng một bát lớn đến chỗ chồng nằm: - Thầy em hãy cố ngồi dậy húp ít cháo cho đỡ xót ruột. Rồi chị đón lấy cái Tỉu và ngồi xuống đó như có ý chờ xem chồng chị ăn có ngon miệng hay không. Anh Dậu uốn vai ngáp dài một tiếng. Uể oải, chống tay xuống phản, anh vừa rên vừa ngỏng đầu lên. Run rẩy cất bát cháo, anh mới kề vào đến miệng, cai lệ[4] và người nhà lí trưởng đã sầm sập tiến vào với những roi song, tay thước[5] và dây thừng. Gõ đầu roi xuống đất, cai lệ thét bằng giọng khàn khàn của người hút nhiều xái(6) cũ: - Thằng kia! Ông tưởng mày chết đêm qua, còn sống đấy à? Nộp tiền sưu! Mau! Hoảng quá, anh Dậu vội để bát cháo xuống phản và lăn đùng ra đó, không nói được câu gì. Người nhà lí trưởng cười một cách mỉa mai: - Anh ta lại sắp phải gió[6] như đêm qua đấy! Rồi hắn chỉ luôn vào mặt chị Dậu: - Chị khất tiền sưu đến chiều mai phải không? Đấy! Chị hãy nói với ông cai, để ông ấy ra đình kêu với quan cho! Chứ ông lí tôi thì không có quyền dám cho chị khất một giờ nào nữa! Chị Dậu run run: - Nhà cháu đã túng lại phải đóng cả suất sưu của chú nó nữa, nên mới lôi thôi như thế.\"\n",
    "\n",
    "for i in vanban:\n",
    "    if not i.isalpha():\n",
    "        vanban = vanban.replace(i,\" \")\n",
    "\n",
    "L_vanban =vanban.split()\n",
    "for i in L_vanban:\n",
    "    i = i.islower\n",
    "    if i not in D:\n",
    "        D[i] = 0\n",
    "    D[i] = D[i] + 1\n",
    "H = D.copy()\n",
    "for z in D:\n",
    "    if D[z] <= 10:\n",
    "        H.pop(z)\n",
    "print(H)"
   ]
  },
  {
   "cell_type": "code",
   "execution_count": 30,
   "id": "ed3c462c",
   "metadata": {},
   "outputs": [
    {
     "name": "stdout",
     "output_type": "stream",
     "text": [
      "{'chị': 22, 'Dậu': 12, 'ra': 12, 'nhà': 16, 'bát': 12, 'cho': 18, 'và': 18, 'đã': 24, 'đầu': 12, 'đến': 12, 'lại': 15, 'cháu': 15, 'như': 21, 'có': 15, 'thì': 12, 'đấy': 13, 'vào': 15, 'sưu': 12, 'không': 15, 'phải': 15, 'một': 15, 'cháo': 14, 'anh': 14, 'người': 11, 'với': 12, 'vừa': 12, 'xuống': 12}\n"
     ]
    }
   ],
   "source": [
    "for i in L_vanban:\n",
    "    i = i.lower()\n",
    "    if i not in D:\n",
    "        D[i] = 0\n",
    "    D[i] = D[i] + 1\n",
    "\n",
    "H = {}\n",
    "for i in D:\n",
    "    if D[i] > 10:\n",
    "        H[i] = D[i]\n",
    "\n",
    "print(H)"
   ]
  },
  {
   "cell_type": "code",
   "execution_count": 21,
   "id": "6367f0b2",
   "metadata": {},
   "outputs": [
    {
     "name": "stdout",
     "output_type": "stream",
     "text": [
      "{1: 0}\n"
     ]
    }
   ],
   "source": []
  },
  {
   "cell_type": "markdown",
   "id": "57c6f1e7",
   "metadata": {},
   "source": [
    "Viết chương trình cho phép người dùng quản lý sản phẩm, gồm các chức năng sau: \n",
    "\n",
    "- Hiển thị danh sách sản phẩm\n",
    "- Thêm sản phẩm mới vào danh sách\n",
    "- Sửa tên của sản phẩm trong danh sách\n",
    "- Xoá một sản phẩm khỏi danh sách"
   ]
  },
  {
   "cell_type": "code",
   "execution_count": null,
   "id": "8541b8c3",
   "metadata": {},
   "outputs": [],
   "source": []
  }
 ],
 "metadata": {
  "kernelspec": {
   "display_name": "Python 3 (ipykernel)",
   "language": "python",
   "name": "python3"
  },
  "language_info": {
   "codemirror_mode": {
    "name": "ipython",
    "version": 3
   },
   "file_extension": ".py",
   "mimetype": "text/x-python",
   "name": "python",
   "nbconvert_exporter": "python",
   "pygments_lexer": "ipython3",
   "version": "3.10.1"
  }
 },
 "nbformat": 4,
 "nbformat_minor": 5
}
